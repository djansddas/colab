{
  "nbformat": 4,
  "nbformat_minor": 0,
  "metadata": {
    "colab": {
      "name": "Lession4.ipynb",
      "provenance": [],
      "authorship_tag": "ABX9TyPHgmBc9QpulVhNDN0FPE19",
      "include_colab_link": true
    },
    "kernelspec": {
      "name": "python3",
      "display_name": "Python 3"
    },
    "language_info": {
      "name": "python"
    }
  },
  "cells": [
    {
      "cell_type": "markdown",
      "metadata": {
        "id": "view-in-github",
        "colab_type": "text"
      },
      "source": [
        "<a href=\"https://colab.research.google.com/github/djansddas/colab/blob/main/Lession4.ipynb\" target=\"_parent\"><img src=\"https://colab.research.google.com/assets/colab-badge.svg\" alt=\"Open In Colab\"/></a>"
      ]
    },
    {
      "cell_type": "markdown",
      "source": [
        "4장 데이터 타입"
      ],
      "metadata": {
        "id": "eB_EUFoUaxLR"
      }
    },
    {
      "cell_type": "code",
      "execution_count": null,
      "metadata": {
        "colab": {
          "base_uri": "https://localhost:8080/"
        },
        "id": "B5oy1VmGawi1",
        "outputId": "031bfb74-805b-4a67-fd7e-098d9eed4f3d"
      },
      "outputs": [
        {
          "output_type": "stream",
          "name": "stdout",
          "text": [
            "var1 변수의 데이터 타입은 <class 'int'>\n",
            "var2 변수의 데이터 타입은 <class 'float'>\n",
            "var3 변수의 데이터 타입은 <class 'str'>\n",
            "var4 변수의 데이터 타입은 <class 'bool'>\n"
          ]
        }
      ],
      "source": [
        "var1=100\n",
        "var2=3.14\n",
        "var3=\"안산공고\"\n",
        "var4=True\n",
        "print(\"var1 변수의 데이터 타입은\",type(var1)) #정수\n",
        "print(\"var2 변수의 데이터 타입은\",type(var2)) #실수\n",
        "print(\"var3 변수의 데이터 타입은\",type(var3)) # 문자열\n",
        "print(\"var4 변수의 데이터 타입은\",type(var4)) # 논리"
      ]
    },
    {
      "cell_type": "markdown",
      "source": [
        "이스케이프 문자 활용하기"
      ],
      "metadata": {
        "id": "TcMjKjx3eai1"
      }
    },
    {
      "cell_type": "code",
      "source": [
        "print(\"\\n줄바꿈\\n연습\")\n",
        "print(\"\\t탭키\\t연습\")\n",
        "print(\"어떤글자를 \\\"강조\\\"하는 효과1\")\n",
        "print(\"어떤 글자를\\'강조\\' 하는효과2\")\n",
        "print(\"\\\\\\\\ 백슬래시 2개 출력\")"
      ],
      "metadata": {
        "colab": {
          "base_uri": "https://localhost:8080/"
        },
        "id": "KVP6vCjjc6DV",
        "outputId": "0c587cb4-a533-4cc5-d26e-ba89ecb3dfaf"
      },
      "execution_count": null,
      "outputs": [
        {
          "output_type": "stream",
          "name": "stdout",
          "text": [
            "\n",
            "줄바꿈\n",
            "연습\n",
            "\t탭키\t연습\n",
            "어떤글자를 \"강조\"하는 효과1\n",
            "어떤 글자를'강조' 하는효과2\n",
            "\\\\ 백슬래시 2개 출력\n"
          ]
        }
      ]
    },
    {
      "cell_type": "markdown",
      "source": [
        "형성평가: 두 문자열을 입력받고 두 문자열의 길이 차이를 체크하기"
      ],
      "metadata": {
        "id": "k-UH2KzukHW7"
      }
    },
    {
      "cell_type": "code",
      "source": [
        "var1=input(\"첫 번째 문자열==>\")\n",
        "var2=input(\"두 번째 문자열==>\")\n",
        "\n",
        "len1= len(var1)\n",
        "len2= len(var2)\n",
        "\n",
        "diff= len1-len2\n",
        "\n",
        "print(\"두 문자열의 길이 차이는\",diff,\"입니다.\")\n"
      ],
      "metadata": {
        "colab": {
          "base_uri": "https://localhost:8080/"
        },
        "id": "_l_BTkUakHPE",
        "outputId": "9e35525c-d8ac-42ff-d84f-cef5616eacfc"
      },
      "execution_count": null,
      "outputs": [
        {
          "output_type": "stream",
          "name": "stdout",
          "text": [
            "첫 번째 문자열==>l\n",
            "두 번째 문자열==>k\n",
            "두 문자열의 길이 차이는 0 입니다.\n"
          ]
        }
      ]
    },
    {
      "cell_type": "markdown",
      "source": [
        "문자열 함수 예제\n",
        "len(). upper(). lower(). count(). isupper(). islower()"
      ],
      "metadata": {
        "id": "6z753RlZolpB"
      }
    },
    {
      "cell_type": "code",
      "source": [
        "str1=input(\"문자열 입력:\")\n",
        "print(\"입력된 문자열의 길이:\", len(str1))\n",
        "print(\"입력된 문자열을 대문자로 변환:\", str1.upper())\n",
        "print(\"입력된 문자열을 소문자로 변환:\", str1.lower())\n",
        "print(\"입력된 문자열 중 ansan 몇번 나오는지 :\", str1.count(\"ansan\"))\n",
        "print(\"입력된 문자열은 대문자인가요? :\", str1.isupper())\n",
        "print(\"입력된 문자열은 소문자인가요? :\", str1.islower())"
      ],
      "metadata": {
        "colab": {
          "base_uri": "https://localhost:8080/"
        },
        "id": "Pzw9lGlUoliG",
        "outputId": "733baea6-106b-4045-ef65-7a870140a270"
      },
      "execution_count": null,
      "outputs": [
        {
          "output_type": "stream",
          "name": "stdout",
          "text": [
            "문자열 입력:이\n",
            "입력된 문자열의 길이: 1\n",
            "입력된 문자열을 대문자로 변환: 이\n",
            "입력된 문자열을 소문자로 변환: 이\n",
            "입력된 문자열 중 ansan 몇번 나오는지 : 0\n",
            "입력된 문자열은 대문자인가요? : False\n",
            "입력된 문자열은 소문자인가요? : False\n"
          ]
        }
      ]
    },
    {
      "cell_type": "code",
      "source": [
        "lyrics=\"\"\"\n",
        "When I find myself in times of trouble\n",
        "Mother Mary comes to me\n",
        "Speaking words of wisdom\n",
        "Let it be\n",
        "And in my hour of darkness\n",
        "She is standing right in front of me\n",
        "Speaking words of wisdom\n",
        "Let it be\n",
        "Let is be, let it be\n",
        "Let it be, let it be\n",
        "Whisper words of wisdom\n",
        "Let it be\n",
        "And when the brokenhearted people\n",
        "Living in the world agree\n",
        "There will be an answer\n",
        "Let it be\n",
        "For though they may be parted\n",
        "There is still a chance that they will see\n",
        "There will be an answer\n",
        "Let it be\n",
        "Let is be, let it be\n",
        "Let it be, let it be\n",
        "Yeah, there will be an answer\n",
        "Let it be\n",
        "Let is be, let it be\n",
        "Let it be, let it be\n",
        "Whisper words of wisdom\n",
        "Let it be\n",
        "Let is be, let it be\n",
        "Let it be, yeah, let it be\n",
        "Whisper words of wisdom\n",
        "Let it be\n",
        "And when the night is cloudy\n",
        "There is still a light that shines on me\n",
        "Shine on 'til tomorrow\n",
        "Let it be\n",
        "I wake up to the sound of music\n",
        "Mother Mary comes to me\n",
        "Speaking words of wisdom\n",
        "Let it be, yeah\n",
        "Let it be, let it be\n",
        "Let it be, yeah, let it be\n",
        "Oh, there will be an answer\n",
        "Let it be\n",
        "Let it be, let it be\n",
        "Let it be, yeah, let it be\n",
        "Whisper words of wisdom\n",
        "Let it be\n",
        "\"\"\"\n",
        "\n",
        "count =lyrics.upper()\n",
        "count =count.count(\"LET IT BE\")\n",
        "print(\"Let it be 는 총\", count,\"번 나옵니다.\")"
      ],
      "metadata": {
        "colab": {
          "base_uri": "https://localhost:8080/"
        },
        "id": "9vznpIYhpsc9",
        "outputId": "b000b72d-4047-49a6-b2bf-8cf18885c84c"
      },
      "execution_count": null,
      "outputs": [
        {
          "output_type": "stream",
          "name": "stdout",
          "text": [
            "Let it be 는 총 32 번 나옵니다.\n"
          ]
        }
      ]
    },
    {
      "cell_type": "code",
      "source": [
        "myList =[10,20,30, \"안산\",\"공고\",\"베트맨\"]\n",
        "print(myList)"
      ],
      "metadata": {
        "colab": {
          "base_uri": "https://localhost:8080/"
        },
        "id": "KbXb99mryyT-",
        "outputId": "9db692fc-e586-4f5a-cd32-be120f250a3b"
      },
      "execution_count": null,
      "outputs": [
        {
          "output_type": "stream",
          "name": "stdout",
          "text": [
            "[10, 20, 30, '안산', '공고', '베트맨']\n"
          ]
        }
      ]
    },
    {
      "cell_type": "code",
      "source": [
        "str1= \"안산공고 컴퓨터과 파이썬 수업\"\n",
        "print(str1[0])\n",
        "print(str1[0:4])\n",
        "print(str1[10:4])\n",
        "print(str1[:14])\n",
        "print(str1[0:])\n",
        "print(str1[-1])"
      ],
      "metadata": {
        "colab": {
          "base_uri": "https://localhost:8080/"
        },
        "id": "Bie52VVtzPEA",
        "outputId": "a5ba18eb-998f-43d4-879c-63540408c2bb"
      },
      "execution_count": null,
      "outputs": [
        {
          "output_type": "stream",
          "name": "stdout",
          "text": [
            "안\n",
            "안산공고\n",
            "\n",
            "안산공고 컴퓨터과 파이썬 \n",
            "안산공고 컴퓨터과 파이썬 수업\n",
            "업\n"
          ]
        }
      ]
    },
    {
      "cell_type": "markdown",
      "source": [
        "형성평가:문자열을 거꾸로 출력하는 프로그램을 만들자"
      ],
      "metadata": {
        "id": "oopHcJl70YxR"
      }
    },
    {
      "cell_type": "code",
      "source": [
        "singer = input(\"가수 이름을 입력:\")\n",
        "singer_length= len(singer)\n",
        "#print(singer_length)\n",
        "r_singer=\"\"\n",
        "while singer_length>0:\n",
        "  r_singer= r_singer + singer[singer_length-1]\n",
        "  singer_length = singer_length-1\n",
        "  print(r_singer)"
      ],
      "metadata": {
        "colab": {
          "base_uri": "https://localhost:8080/"
        },
        "id": "sZJLj7bM0bv3",
        "outputId": "1848136c-e5d3-4a13-e10f-c316276a1eec"
      },
      "execution_count": null,
      "outputs": [
        {
          "output_type": "stream",
          "name": "stdout",
          "text": [
            "가수 이름을 입력:아이유\n",
            "유\n",
            "유이\n",
            "유이아\n"
          ]
        }
      ]
    },
    {
      "cell_type": "code",
      "source": [
        "str1=input(\"문자열 입력:\")\n",
        "print(\"입력된 문자열을 대문자로 변환:\", str1.upper())\n",
        "print(\"입력된 문자열을 소문자로 변환:\", str1.lower())"
      ],
      "metadata": {
        "colab": {
          "base_uri": "https://localhost:8080/"
        },
        "id": "eoegwKlI4edy",
        "outputId": "3da3932d-f498-422a-ce25-a2ce8e995334"
      },
      "execution_count": null,
      "outputs": [
        {
          "output_type": "stream",
          "name": "stdout",
          "text": [
            "문자열 입력:ASD\n",
            "입력된 문자열을 대문자로 변환: ASD\n",
            "입력된 문자열을 소문자로 변환: asd\n"
          ]
        }
      ]
    },
    {
      "cell_type": "markdown",
      "source": [
        "대문자를 소문자로, 소문자를 대문자로 변경하는 프로그램"
      ],
      "metadata": {
        "id": "ZjI7AnNzXKDg"
      }
    },
    {
      "cell_type": "code",
      "source": [
        "text=\"Python\"\n",
        "change_text =text[0].lower()+ text[1].upper() + text[2].upper() + text[3]. upper() + \\\n",
        "text[4].upper() + text[5].upper()\n",
        "print(\"원본 문자열은 ==>\", text)\n",
        "print(\"변환 문자열은 ==>\", change_text)\n"
      ],
      "metadata": {
        "colab": {
          "base_uri": "https://localhost:8080/"
        },
        "id": "xB9fjGL6XIxZ",
        "outputId": "43312664-e9bf-4b60-cf9b-d91079c31f2b"
      },
      "execution_count": 1,
      "outputs": [
        {
          "output_type": "stream",
          "name": "stdout",
          "text": [
            "원본 문자열은 ==> Python\n",
            "변환 문자열은 ==> pYTHON\n"
          ]
        }
      ]
    },
    {
      "cell_type": "markdown",
      "source": [
        "형성평가:소스 코드 복합대입 연산자"
      ],
      "metadata": {
        "id": "zWSMToObXPNQ"
      }
    },
    {
      "cell_type": "code",
      "source": [
        "ss= \"Python\"\n",
        "print(\"원본 문자열 ==>\", ss)\n",
        "\n",
        "ss2=\"\"\n",
        "\n",
        "ss2 += ss[0].lower()\n",
        "ss2 += ss[1].upper()\n",
        "ss2 += ss[2].upper()\n",
        "ss2 += ss[3].upper()\n",
        "ss2 += ss[4].upper()\n",
        "ss2 += ss[5].upper()\n",
        "\n",
        "print(\"변환 문자열 ==>\", end='')\n",
        "print(ss2)"
      ],
      "metadata": {
        "colab": {
          "base_uri": "https://localhost:8080/"
        },
        "id": "y0JIi0euXPix",
        "outputId": "7586b3ae-8cc4-4d74-83ff-431bff7cb08f"
      },
      "execution_count": 2,
      "outputs": [
        {
          "output_type": "stream",
          "name": "stdout",
          "text": [
            "원본 문자열 ==> Python\n",
            "변환 문자열 ==>pYTHON\n"
          ]
        }
      ]
    },
    {
      "cell_type": "markdown",
      "source": [
        "실전예제: 모험을 떠나는 거북이"
      ],
      "metadata": {
        "id": "KhOPkmekXUZ4"
      }
    },
    {
      "cell_type": "code",
      "source": [],
      "metadata": {
        "id": "3Y8HPtFLXUhR"
      },
      "execution_count": null,
      "outputs": []
    }
  ]
}