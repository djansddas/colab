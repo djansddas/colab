{
  "nbformat": 4,
  "nbformat_minor": 0,
  "metadata": {
    "colab": {
      "name": "Lession4.ipynb",
      "provenance": [],
      "authorship_tag": "ABX9TyMBqtRA6jlLyqMwQq6rrEwj",
      "include_colab_link": true
    },
    "kernelspec": {
      "name": "python3",
      "display_name": "Python 3"
    },
    "language_info": {
      "name": "python"
    }
  },
  "cells": [
    {
      "cell_type": "markdown",
      "metadata": {
        "id": "view-in-github",
        "colab_type": "text"
      },
      "source": [
        "<a href=\"https://colab.research.google.com/github/djansddas/colab/blob/main/Lession4.ipynb\" target=\"_parent\"><img src=\"https://colab.research.google.com/assets/colab-badge.svg\" alt=\"Open In Colab\"/></a>"
      ]
    },
    {
      "cell_type": "markdown",
      "source": [
        "4장 데이터 타입"
      ],
      "metadata": {
        "id": "eB_EUFoUaxLR"
      }
    },
    {
      "cell_type": "code",
      "execution_count": 4,
      "metadata": {
        "colab": {
          "base_uri": "https://localhost:8080/"
        },
        "id": "B5oy1VmGawi1",
        "outputId": "031bfb74-805b-4a67-fd7e-098d9eed4f3d"
      },
      "outputs": [
        {
          "output_type": "stream",
          "name": "stdout",
          "text": [
            "var1 변수의 데이터 타입은 <class 'int'>\n",
            "var2 변수의 데이터 타입은 <class 'float'>\n",
            "var3 변수의 데이터 타입은 <class 'str'>\n",
            "var4 변수의 데이터 타입은 <class 'bool'>\n"
          ]
        }
      ],
      "source": [
        "var1=100\n",
        "var2=3.14\n",
        "var3=\"안산공고\"\n",
        "var4=True\n",
        "print(\"var1 변수의 데이터 타입은\",type(var1)) #정수\n",
        "print(\"var2 변수의 데이터 타입은\",type(var2)) #실수\n",
        "print(\"var3 변수의 데이터 타입은\",type(var3)) # 문자열\n",
        "print(\"var4 변수의 데이터 타입은\",type(var4)) # 논리"
      ]
    },
    {
      "cell_type": "markdown",
      "source": [
        "이스케이프 문자 활용하기"
      ],
      "metadata": {
        "id": "TcMjKjx3eai1"
      }
    },
    {
      "cell_type": "code",
      "source": [
        "print(\"\\n줄바꿈\\n연습\")\n",
        "print(\"\\t탭키\\t연습\")\n",
        "print(\"어떤글자를 \\\"강조\\\"하는 효과1\")\n",
        "print(\"어떤 글자를\\'강조\\' 하는효과2\")\n",
        "print(\"\\\\\\\\ 백슬래시 2개 출력\")"
      ],
      "metadata": {
        "colab": {
          "base_uri": "https://localhost:8080/"
        },
        "id": "KVP6vCjjc6DV",
        "outputId": "0c587cb4-a533-4cc5-d26e-ba89ecb3dfaf"
      },
      "execution_count": 6,
      "outputs": [
        {
          "output_type": "stream",
          "name": "stdout",
          "text": [
            "\n",
            "줄바꿈\n",
            "연습\n",
            "\t탭키\t연습\n",
            "어떤글자를 \"강조\"하는 효과1\n",
            "어떤 글자를'강조' 하는효과2\n",
            "\\\\ 백슬래시 2개 출력\n"
          ]
        }
      ]
    }
  ]
}