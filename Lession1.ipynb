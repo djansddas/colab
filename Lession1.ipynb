{
  "nbformat": 4,
  "nbformat_minor": 0,
  "metadata": {
    "colab": {
      "name": "Lession1.ipynb",
      "provenance": [],
      "authorship_tag": "ABX9TyPVOkBCjVMp0TwZ4mDs0qTd",
      "include_colab_link": true
    },
    "kernelspec": {
      "name": "python3",
      "display_name": "Python 3"
    },
    "language_info": {
      "name": "python"
    }
  },
  "cells": [
    {
      "cell_type": "markdown",
      "metadata": {
        "id": "view-in-github",
        "colab_type": "text"
      },
      "source": [
        "<a href=\"https://colab.research.google.com/github/djansddas/colab/blob/main/Lession1.ipynb\" target=\"_parent\"><img src=\"https://colab.research.google.com/assets/colab-badge.svg\" alt=\"Open In Colab\"/></a>"
      ]
    },
    {
      "cell_type": "markdown",
      "source": [
        "파이썬 프로그래밍 1장"
      ],
      "metadata": {
        "id": "JI7LTm1Too89"
      }
    },
    {
      "cell_type": "code",
      "source": [
        "print(\"안산공고 컴퓨터과 3학년 2반 16번 이재준\")"
      ],
      "metadata": {
        "colab": {
          "base_uri": "https://localhost:8080/"
        },
        "id": "1g6A3nvlowie",
        "outputId": "c3e5e607-47e8-40e8-d302-bd10cdaa3043"
      },
      "execution_count": 1,
      "outputs": [
        {
          "output_type": "stream",
          "name": "stdout",
          "text": [
            "안산공고 컴퓨터과 3학년 2반 16번 이재준\n"
          ]
        }
      ]
    },
    {
      "cell_type": "code",
      "source": [
        "print(\"내일은 학교가는날\")\n",
        "print(\"늦잠자지말고 일찍\")\n",
        "print(\"목표를 가지고 힘내자\")"
      ],
      "metadata": {
        "colab": {
          "base_uri": "https://localhost:8080/"
        },
        "id": "k7a1l9eKpNkk",
        "outputId": "fc3591cf-7327-4c1b-d7ba-edb92d20098e"
      },
      "execution_count": 2,
      "outputs": [
        {
          "output_type": "stream",
          "name": "stdout",
          "text": [
            "내일은 학교가는날\n",
            "늦잠자지말고 일찍\n",
            "목표를 가지고 힘내자\n"
          ]
        }
      ]
    },
    {
      "cell_type": "markdown",
      "source": [
        "변수사용예\n"
      ],
      "metadata": {
        "id": "nB85dvzcqIlc"
      }
    },
    {
      "cell_type": "code",
      "source": [
        "a= 100\n",
        "b=200\n",
        "result= a+b\n",
        "print(a,'+',b,'=',result)\n"
      ],
      "metadata": {
        "colab": {
          "base_uri": "https://localhost:8080/"
        },
        "id": "m4F6bZ_bqN50",
        "outputId": "7447ca9b-6c38-42f2-b546-01aa21db9cd0"
      },
      "execution_count": 5,
      "outputs": [
        {
          "output_type": "stream",
          "name": "stdout",
          "text": [
            "100 + 200 = 300\n"
          ]
        }
      ]
    },
    {
      "cell_type": "markdown",
      "source": [
        "/ 나누기 // 나머지 몫\n",
        "*곱하기     제곱 ** "
      ],
      "metadata": {
        "id": "z-aQTcqnr7YO"
      }
    },
    {
      "cell_type": "markdown",
      "source": [
        "더하기 구하는 공식"
      ],
      "metadata": {
        "id": "Bexqv0JMsP19"
      }
    },
    {
      "cell_type": "code",
      "source": [
        "num1=100\n",
        "num2=200\n",
        "result=num1 + num2\n",
        "print(num1,'+',num2,'=',result)"
      ],
      "metadata": {
        "colab": {
          "base_uri": "https://localhost:8080/"
        },
        "id": "a8XqyDJhq5q1",
        "outputId": "8b5190ac-ee1a-4d65-a27b-963d3458ab92"
      },
      "execution_count": 13,
      "outputs": [
        {
          "output_type": "stream",
          "name": "stdout",
          "text": [
            "100 + 200 = 300\n"
          ]
        }
      ]
    },
    {
      "cell_type": "markdown",
      "source": [
        "빼기 구하는 공식"
      ],
      "metadata": {
        "id": "pmlHgHkXsZ5R"
      }
    },
    {
      "cell_type": "code",
      "source": [
        "num1=100\n",
        "num2=200\n",
        "result=num1 - num2\n",
        "print(num1,'-',num2,'=',result)"
      ],
      "metadata": {
        "id": "WYsQM0hVsT_l"
      },
      "execution_count": null,
      "outputs": []
    },
    {
      "cell_type": "markdown",
      "source": [
        "곱하기 구하는 공식"
      ],
      "metadata": {
        "id": "7U2lrcSusZ-P"
      }
    },
    {
      "cell_type": "code",
      "source": [
        "num1=100\n",
        "num2=200\n",
        "result=num1 * num2\n",
        "print(num1,'*',num2,'=',result)"
      ],
      "metadata": {
        "id": "bSkWotHDsUOc"
      },
      "execution_count": null,
      "outputs": []
    },
    {
      "cell_type": "markdown",
      "source": [
        "나누기 구하는공식"
      ],
      "metadata": {
        "id": "mQy1f1omsaEB"
      }
    },
    {
      "cell_type": "code",
      "source": [
        "num1=100\n",
        "num2=200\n",
        "result=num1 / num2\n",
        "print(num1,'/',num2,'=',result)"
      ],
      "metadata": {
        "colab": {
          "base_uri": "https://localhost:8080/"
        },
        "id": "A8wXl7aYsUgs",
        "outputId": "2666b53b-5d76-4e57-e26b-8a9403385b13"
      },
      "execution_count": 15,
      "outputs": [
        {
          "output_type": "stream",
          "name": "stdout",
          "text": [
            "100 / 200 = 0.5\n"
          ]
        }
      ]
    },
    {
      "cell_type": "markdown",
      "source": [
        "나머지 구하는 공식"
      ],
      "metadata": {
        "id": "fP9u1Tvmsrt0"
      }
    },
    {
      "cell_type": "code",
      "source": [
        "num1=100\n",
        "num2=200\n",
        "result=num1 // num2\n",
        "print(num1,'//',num2,'=',result)"
      ],
      "metadata": {
        "colab": {
          "base_uri": "https://localhost:8080/"
        },
        "id": "Eayl07KSsqFd",
        "outputId": "1c6ad800-bcea-4daa-c60b-1d75b288757f"
      },
      "execution_count": 17,
      "outputs": [
        {
          "output_type": "stream",
          "name": "stdout",
          "text": [
            "100 // 200 = 0\n"
          ]
        }
      ]
    },
    {
      "cell_type": "markdown",
      "source": [
        ""
      ],
      "metadata": {
        "id": "KyY7l3ICsr0k"
      }
    },
    {
      "cell_type": "code",
      "source": [
        "num1=100\n",
        "num2=200\n",
        "result=num1 % num2\n",
        "print(num1,'%',num2,'=',result)"
      ],
      "metadata": {
        "colab": {
          "base_uri": "https://localhost:8080/"
        },
        "id": "wC-_P4Zks7st",
        "outputId": "31a91000-5f97-459c-9f0b-e7e9cd3a3a31"
      },
      "execution_count": 14,
      "outputs": [
        {
          "output_type": "stream",
          "name": "stdout",
          "text": [
            "100 % 200 = 100\n"
          ]
        }
      ]
    },
    {
      "cell_type": "markdown",
      "source": [
        "제곱구하는공식"
      ],
      "metadata": {
        "id": "W9r8P0otsr6x"
      }
    },
    {
      "cell_type": "code",
      "source": [
        "num1=100\n",
        "num2=200\n",
        "result=num1 ** num2\n",
        "print(num1,'**',num2,'=',result)"
      ],
      "metadata": {
        "colab": {
          "base_uri": "https://localhost:8080/"
        },
        "id": "Un0BghLdtSk2",
        "outputId": "1b215565-c962-4275-9045-80314be74390"
      },
      "execution_count": 16,
      "outputs": [
        {
          "output_type": "stream",
          "name": "stdout",
          "text": [
            "100 ** 200 = 10000000000000000000000000000000000000000000000000000000000000000000000000000000000000000000000000000000000000000000000000000000000000000000000000000000000000000000000000000000000000000000000000000000000000000000000000000000000000000000000000000000000000000000000000000000000000000000000000000000000000000000000000000000000000000000000000000000000000000000000000000000000000000000000000000000000000000\n"
          ]
        }
      ]
    }
  ]
}