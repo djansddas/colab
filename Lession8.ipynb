{
  "nbformat": 4,
  "nbformat_minor": 0,
  "metadata": {
    "colab": {
      "provenance": [],
      "authorship_tag": "ABX9TyPRAvSL1sXsP0X+waFDg9N6",
      "include_colab_link": true
    },
    "kernelspec": {
      "name": "python3",
      "display_name": "Python 3"
    },
    "language_info": {
      "name": "python"
    }
  },
  "cells": [
    {
      "cell_type": "markdown",
      "metadata": {
        "id": "view-in-github",
        "colab_type": "text"
      },
      "source": [
        "<a href=\"https://colab.research.google.com/github/djansddas/colab/blob/main/Lession8.ipynb\" target=\"_parent\"><img src=\"https://colab.research.google.com/assets/colab-badge.svg\" alt=\"Open In Colab\"/></a>"
      ]
    },
    {
      "cell_type": "markdown",
      "source": [
        "함수"
      ],
      "metadata": {
        "id": "zsnPaKvajB3v"
      }
    },
    {
      "cell_type": "code",
      "execution_count": null,
      "metadata": {
        "id": "gxyWo3wVi_cM"
      },
      "outputs": [],
      "source": [
        "def hapFunc():\n",
        "  num1= int(input(\"정수1 ==>\"))\n",
        "  num2= int(input(\"정수2 ==>\"))\n",
        "  return num1+num2\n",
        "\n",
        "  print(\"A님, 두 숫자를 입력하세요.\")\n",
        "  hap= hapFunc()\n",
        "  print(\"결과:\", hap)\n",
        "\n",
        "  print(\"a님, 두 숫자를 입력하세요.\")\n",
        "  hap= hapFunc()\n",
        "  print(\"결과:\", hap)\n",
        "\n",
        "  print(\"\")"
      ]
    },
    {
      "cell_type": "code",
      "source": [
        "##함수 정의 부분\n",
        "def plus(v1,v2):\n",
        "  result=0\n",
        "  result= v1+v2\n",
        "  return result\n",
        "\n",
        "  ##전역변수 선언 부분\n",
        "  hap=0\n",
        "\n",
        "  ## 메인 코드 부분\n",
        "  hap= plus(100,200)\n",
        "  print(\"100과 200의 plus() 함수 결과는\", hap)"
      ],
      "metadata": {
        "id": "vnblY_tckXie"
      },
      "execution_count": 2,
      "outputs": []
    },
    {
      "cell_type": "code",
      "source": [],
      "metadata": {
        "id": "xPBg9DgPmUbD"
      },
      "execution_count": null,
      "outputs": []
    }
  ]
}