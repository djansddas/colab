{
  "nbformat": 4,
  "nbformat_minor": 0,
  "metadata": {
    "colab": {
      "provenance": [],
      "authorship_tag": "ABX9TyN1hJS+/R+hgks81G0gDI40",
      "include_colab_link": true
    },
    "kernelspec": {
      "name": "python3",
      "display_name": "Python 3"
    },
    "language_info": {
      "name": "python"
    }
  },
  "cells": [
    {
      "cell_type": "markdown",
      "metadata": {
        "id": "view-in-github",
        "colab_type": "text"
      },
      "source": [
        "<a href=\"https://colab.research.google.com/github/djansddas/colab/blob/main/Lession8.ipynb\" target=\"_parent\"><img src=\"https://colab.research.google.com/assets/colab-badge.svg\" alt=\"Open In Colab\"/></a>"
      ]
    },
    {
      "cell_type": "markdown",
      "source": [
        "함수"
      ],
      "metadata": {
        "id": "zsnPaKvajB3v"
      }
    },
    {
      "cell_type": "code",
      "execution_count": null,
      "metadata": {
        "id": "gxyWo3wVi_cM"
      },
      "outputs": [],
      "source": [
        "def hapFunc():\n",
        "  num1= int(input(\"정수1 ==>\"))\n",
        "  num2= int(input(\"정수2 ==>\"))\n",
        "  return num1+num2\n",
        "\n",
        "  print(\"A님, 두 숫자를 입력하세요.\")\n",
        "  hap= hapFunc()\n",
        "  print(\"결과:\", hap)\n",
        "\n",
        "  print(\"a님, 두 숫자를 입력하세요.\")\n",
        "  hap= hapFunc()\n",
        "  print(\"결과:\", hap)\n",
        "\n",
        "  print(\"\")"
      ]
    },
    {
      "cell_type": "code",
      "source": [
        "##함수 정의 부분\n",
        "def plus(v1,v2):\n",
        "  result=0\n",
        "  result= v1+v2\n",
        "  return result\n",
        "\n",
        "  ##전역변수 선언 부분\n",
        "  hap=0\n",
        "\n",
        "  ## 메인 코드 부분\n",
        "  hap= plus(100,200)\n",
        "  print(\"100과 200의 plus() 함수 결과는\", hap)"
      ],
      "metadata": {
        "id": "vnblY_tckXie"
      },
      "execution_count": null,
      "outputs": []
    },
    {
      "cell_type": "code",
      "source": [
        "def passward_check(passward):\n",
        "  if len(passward)>8 and passward.isalnum():\n",
        "    print(\"Good~, 비밀번호가 올바르게 생성되었습니다.\")\n",
        "  else:\n",
        "    print(\"오류! 비밀번호가 규칙에 맞지 않습니다. \")\n",
        "\n",
        "passward =input(\"새로운 비밀번호를 입력하세요.\")\n",
        "\n",
        "passward_check(passward)"
      ],
      "metadata": {
        "id": "xPBg9DgPmUbD",
        "colab": {
          "base_uri": "https://localhost:8080/"
        },
        "outputId": "a9a4e79a-f399-4ea0-c305-e66001a8dc15"
      },
      "execution_count": null,
      "outputs": [
        {
          "output_type": "stream",
          "name": "stdout",
          "text": [
            "새로운 비밀번호를 입력하세요.asdasd123\n",
            "Good~, 비밀번호가 올바르게 생성되었습니다.\n"
          ]
        }
      ]
    },
    {
      "cell_type": "code",
      "source": [
        "#!pip3 install ColabTurtle\n",
        "import random\n",
        "import ColabTurtle.Turtle as turtle\n",
        "\n",
        "print(turtle.default_windows_size)\n",
        "\n",
        "turtle.initializeTurtle()\n",
        "\n",
        "hangul=\"\"\"\n",
        "나랏말싸미 듕귁에 달아 문자와로 서로 사맛디 아니할쎄\n",
        "이런 전차로 어린 백셩이 니르고져 홀베이셔도 마참네 제 뜨들\n",
        "시러펴디 몯할 노미하니아내 이랄 웡하야 어엿비너겨 새로 스믈 여들 짜랄\n",
        "맹가노니 사람마다 해여 수비니겨 날로 쑤메 뻔한킈 하고져 할 따라미니라.\n",
        "\"\"\"\n",
        "for i in range len(hangul):\n",
        "  turtle.penup()\n",
        "  x= random.randint(0,750)\n",
        "  y=random.randint(0,450)\n",
        "  fontsize= random.randint(10,70)\n",
        "  turtle.color(random.randint(0,255), random.randint(0,255). random.randint(0,255))\n",
        "  turtle.goto(x,y)\n",
        "  turtle.write(hangul[i]. font=(fontsize, \"Arial\",\"bold\"))"
      ],
      "metadata": {
        "colab": {
          "base_uri": "https://localhost:8080/",
          "height": 137
        },
        "id": "6ZircEe5pAdN",
        "outputId": "f21d5e58-457d-4178-cbcc-ab03553558fb"
      },
      "execution_count": null,
      "outputs": [
        {
          "output_type": "error",
          "ename": "SyntaxError",
          "evalue": "ignored",
          "traceback": [
            "\u001b[0;36m  File \u001b[0;32m\"<ipython-input-21-f18112d6e581>\"\u001b[0;36m, line \u001b[0;32m15\u001b[0m\n\u001b[0;31m    for i in range len(hangul):\u001b[0m\n\u001b[0m                     ^\u001b[0m\n\u001b[0;31mSyntaxError\u001b[0m\u001b[0;31m:\u001b[0m invalid syntax\n"
          ]
        }
      ]
    },
    {
      "cell_type": "code",
      "source": [
        "inFile=None\n",
        "inStr=\"\"\n",
        "\n",
        "inFile = open(\"C:\\FirstPython\\myData1.txt\",\"r\", encoding=\"UTF-8\")\n",
        "\n",
        "inStr=inFile.readline()\n",
        "print(inStr,end=\"\")\n",
        "\n",
        "inStr=inFile.readline()\n",
        "print(inStr, end=\"\")\n",
        "\n",
        "inStr=inFile.readline()\n",
        "print(inStr,end=\"\")\n",
        "\n",
        "inFile.close()"
      ],
      "metadata": {
        "colab": {
          "base_uri": "https://localhost:8080/",
          "height": 248
        },
        "id": "w1-_kF4MtouN",
        "outputId": "15ffa1dc-975c-4565-b7b5-e5713c4c36cf"
      },
      "execution_count": 2,
      "outputs": [
        {
          "output_type": "error",
          "ename": "FileNotFoundError",
          "evalue": "ignored",
          "traceback": [
            "\u001b[0;31m---------------------------------------------------------------------------\u001b[0m",
            "\u001b[0;31mFileNotFoundError\u001b[0m                         Traceback (most recent call last)",
            "\u001b[0;32m<ipython-input-2-886c7da70763>\u001b[0m in \u001b[0;36m<module>\u001b[0;34m\u001b[0m\n\u001b[1;32m      2\u001b[0m \u001b[0minStr\u001b[0m\u001b[0;34m=\u001b[0m\u001b[0;34m\"\"\u001b[0m\u001b[0;34m\u001b[0m\u001b[0;34m\u001b[0m\u001b[0m\n\u001b[1;32m      3\u001b[0m \u001b[0;34m\u001b[0m\u001b[0m\n\u001b[0;32m----> 4\u001b[0;31m \u001b[0minFile\u001b[0m \u001b[0;34m=\u001b[0m \u001b[0mopen\u001b[0m\u001b[0;34m(\u001b[0m\u001b[0;34m\"C:\\FirstPython\\myData1.txt\"\u001b[0m\u001b[0;34m,\u001b[0m\u001b[0;34m\"r\"\u001b[0m\u001b[0;34m,\u001b[0m \u001b[0mencoding\u001b[0m\u001b[0;34m=\u001b[0m\u001b[0;34m\"UTF-8\"\u001b[0m\u001b[0;34m)\u001b[0m\u001b[0;34m\u001b[0m\u001b[0;34m\u001b[0m\u001b[0m\n\u001b[0m\u001b[1;32m      5\u001b[0m \u001b[0;34m\u001b[0m\u001b[0m\n\u001b[1;32m      6\u001b[0m \u001b[0minStr\u001b[0m\u001b[0;34m=\u001b[0m\u001b[0minFile\u001b[0m\u001b[0;34m.\u001b[0m\u001b[0mreadline\u001b[0m\u001b[0;34m(\u001b[0m\u001b[0;34m)\u001b[0m\u001b[0;34m\u001b[0m\u001b[0;34m\u001b[0m\u001b[0m\n",
            "\u001b[0;31mFileNotFoundError\u001b[0m: [Errno 2] No such file or directory: 'C:\\\\FirstPython\\\\myData1.txt'"
          ]
        }
      ]
    }
  ]
}