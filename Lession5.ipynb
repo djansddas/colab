{
  "nbformat": 4,
  "nbformat_minor": 0,
  "metadata": {
    "colab": {
      "provenance": [],
      "authorship_tag": "ABX9TyMpbRRzEOxDR14SiBs/gL04",
      "include_colab_link": true
    },
    "kernelspec": {
      "name": "python3",
      "display_name": "Python 3"
    },
    "language_info": {
      "name": "python"
    }
  },
  "cells": [
    {
      "cell_type": "markdown",
      "metadata": {
        "id": "view-in-github",
        "colab_type": "text"
      },
      "source": [
        "<a href=\"https://colab.research.google.com/github/djansddas/colab/blob/main/Lession5.ipynb\" target=\"_parent\"><img src=\"https://colab.research.google.com/assets/colab-badge.svg\" alt=\"Open In Colab\"/></a>"
      ]
    },
    {
      "cell_type": "markdown",
      "source": [
        "조건문"
      ],
      "metadata": {
        "id": "h2XBkNxn0Fwn"
      }
    },
    {
      "cell_type": "code",
      "execution_count": null,
      "metadata": {
        "colab": {
          "base_uri": "https://localhost:8080/"
        },
        "id": "sNR6kkhC0B-c",
        "outputId": "1c261154-efb2-4fa0-fa14-a081c6a491c6"
      },
      "outputs": [
        {
          "output_type": "stream",
          "name": "stdout",
          "text": [
            "100보다 작습니다.\n"
          ]
        }
      ],
      "source": [
        "num = 99\n",
        "if num < 100:\n",
        "   print(\"100보다 작습니다.\")"
      ]
    },
    {
      "cell_type": "code",
      "source": [
        "num = 200\n",
        "if num >100:\n",
        "  print(\"100보다\")\n",
        "  print(\"큽니다.\")\n",
        "  print(\"프로그램 끝\")"
      ],
      "metadata": {
        "colab": {
          "base_uri": "https://localhost:8080/"
        },
        "id": "s-D4xxZq3o35",
        "outputId": "8d75e6b3-7360-4d56-93e5-1911a2170005"
      },
      "execution_count": null,
      "outputs": [
        {
          "output_type": "stream",
          "name": "stdout",
          "text": [
            "100보다\n",
            "큽니다.\n",
            "프로그램 끝\n"
          ]
        }
      ]
    },
    {
      "cell_type": "code",
      "source": [
        "num = 200\n",
        "if num <100:\n",
        "  print(\"100보다 작군요.\")\n",
        "else :\n",
        "    print(\"100보다 크군요.\")"
      ],
      "metadata": {
        "colab": {
          "base_uri": "https://localhost:8080/"
        },
        "id": "Ct0rrb0I48lw",
        "outputId": "86f84b54-ed94-4b45-cb59-8bd25bed5ec9"
      },
      "execution_count": null,
      "outputs": [
        {
          "output_type": "stream",
          "name": "stdout",
          "text": [
            "100보다 크군요.\n"
          ]
        }
      ]
    },
    {
      "cell_type": "code",
      "source": [
        "num =int(input(\"정수를 입력:\"))\n",
        "if(num % 2)==0:\n",
        "  print(num ,\"짝수입니다.\")\n",
        "else:\n",
        "    print(num, \"홀수입니다.\")"
      ],
      "metadata": {
        "colab": {
          "base_uri": "https://localhost:8080/"
        },
        "id": "15aN6IJw5pLw",
        "outputId": "3b7f96a3-eb5e-4968-85cc-df32d611f759"
      },
      "execution_count": null,
      "outputs": [
        {
          "output_type": "stream",
          "name": "stdout",
          "text": [
            "정수를 입력:10\n",
            "10 짝수입니다.\n"
          ]
        }
      ]
    },
    {
      "cell_type": "code",
      "source": [
        "num = int(input(\"숫자를 입력==>\"))\n",
        "if num > 100:\n",
        "  if num < 1000:\n",
        "    print(\"100보다 크고 1000보다 작습니다.\")\n",
        "  else :\n",
        "    print(num, \"1000보다 큽니다.\")\n",
        "else :\n",
        "  print(\"와 100보다 작아요.\")"
      ],
      "metadata": {
        "id": "rymHhJKH7UBQ"
      },
      "execution_count": null,
      "outputs": []
    },
    {
      "cell_type": "code",
      "source": [
        "num =int(input(\"점수를 입력==>\"))\n",
        "if num >= 90:\n",
        "  print(\"A학점입니다.\")\n",
        "else:\n",
        "  if num >=80:\n",
        "    print(\"B학점입니다.\")\n",
        "  else:\n",
        "   if num >=70:\n",
        "      print(\"C학점입니다.\")\n",
        "   else:\n",
        "    if num >= 60:\n",
        "        print(\"D학점입니다.\")\n",
        "    else:\n",
        "      print(\"F학점입니다.\")"
      ],
      "metadata": {
        "colab": {
          "base_uri": "https://localhost:8080/"
        },
        "id": "LDg9zgdkACxr",
        "outputId": "4a5e4ec3-2072-409a-b2e9-00c92f54e9ba"
      },
      "execution_count": null,
      "outputs": [
        {
          "output_type": "stream",
          "name": "stdout",
          "text": [
            "점수를 입력==>54\n",
            "F학점입니다.\n"
          ]
        }
      ]
    },
    {
      "cell_type": "code",
      "source": [
        "score = int(input(\"점수를 입력하세요==>.\"))\n",
        "\n",
        "if score >= 90:\n",
        "  print(\"A\", end='')\n",
        "else:\n",
        "    if score >= 80:\n",
        "      print(\"B\", end='')\n",
        "    else:\n",
        "        if score >= 70:\n",
        "          print(\"C\", end='')\n",
        "        else:\n",
        "            if score >= 60:\n",
        "              print(\"D\", end='')\n",
        "            else:\n",
        "                print(\"F\", end='')\n",
        "                print(\"학점입니다.\")"
      ],
      "metadata": {
        "colab": {
          "base_uri": "https://localhost:8080/"
        },
        "id": "LYKXr7m0BTuC",
        "outputId": "adf5d515-385c-4dec-8602-dc522587848b"
      },
      "execution_count": null,
      "outputs": [
        {
          "output_type": "stream",
          "name": "stdout",
          "text": [
            "점수를 입력하세요==>.90\n",
            "A"
          ]
        }
      ]
    },
    {
      "cell_type": "code",
      "source": [
        "import random\n",
        "\n",
        "rnd= random.randint(1,45)\n",
        "lunch = random.choice([\"짜장면\",\"라면\",\"김밥\",\"짬뽕\"])\n",
        "print(rnd,lunch)\n"
      ],
      "metadata": {
        "colab": {
          "base_uri": "https://localhost:8080/"
        },
        "id": "SHW8nkz1FONa",
        "outputId": "1da9e6d3-4b40-4ff0-f848-b8d005e67d26"
      },
      "execution_count": null,
      "outputs": [
        {
          "output_type": "stream",
          "name": "stdout",
          "text": [
            "19 라면\n"
          ]
        }
      ]
    },
    {
      "cell_type": "code",
      "source": [
        "import random\n",
        "\n",
        "com_player = random.choice([\"가위\",\"바위\",\"보\" ])\n",
        "print(\"** [ 가위/바위/보] 게임 **\")\n",
        "\n",
        "user= input(\"가위/바위/보 중 하나를 입력: \")\n",
        "\n",
        "if com_player == user:\n",
        "   print(\"비겼다,^^??\")\n",
        "  elif ((com_player == \"가위\") and (user ==\"바위\")) or \\\n",
        "  ((com_player ==\"바위\") and (user= \"보\")) or \\\n",
        "  ((com_player ==\"보\") and (user ==\"가위\")):\n",
        "  print(\"이겼다\")\n",
        "  \n",
        "  else :\n",
        "    print(\"졌다, ㅠ.ㅠ\")"
      ],
      "metadata": {
        "colab": {
          "base_uri": "https://localhost:8080/",
          "height": 137
        },
        "id": "lCvMhn7IHG-U",
        "outputId": "c381bbfa-a1df-4c23-be1f-68bacb3bf1fd"
      },
      "execution_count": null,
      "outputs": [
        {
          "output_type": "error",
          "ename": "IndentationError",
          "evalue": "ignored",
          "traceback": [
            "\u001b[0;36m  File \u001b[0;32m\"<tokenize>\"\u001b[0;36m, line \u001b[0;32m10\u001b[0m\n\u001b[0;31m    elif ((com_player == \"가위\") and (user ==\"바위\")) or \\\u001b[0m\n\u001b[0m    ^\u001b[0m\n\u001b[0;31mIndentationError\u001b[0m\u001b[0;31m:\u001b[0m unindent does not match any outer indentation level\n"
          ]
        }
      ]
    },
    {
      "cell_type": "markdown",
      "source": [
        "형성평가:소스코드 "
      ],
      "metadata": {
        "id": "t6y-N98NlJOI"
      }
    },
    {
      "cell_type": "code",
      "source": [
        "age = int(input(\"나이를 입력==>\"))\n",
        "\n",
        "if age >= 18:\n",
        "  print(\"즐거운 시간 되세요.^^\")\n",
        "else:\n",
        "    print(\"집에 갈 시간이네요!.\")\n",
        "\n",
        "    print(\"협조 감사합니다.\")"
      ],
      "metadata": {
        "colab": {
          "base_uri": "https://localhost:8080/"
        },
        "id": "SXEDVpC7kzpS",
        "outputId": "a70001bd-6b46-4582-84b7-c84417ae2297"
      },
      "execution_count": null,
      "outputs": [
        {
          "output_type": "stream",
          "name": "stdout",
          "text": [
            "나이를 입력==>17\n",
            "집에 갈 시간이네요!.\n",
            "협조 감사합니다.\n"
          ]
        }
      ]
    },
    {
      "cell_type": "markdown",
      "source": [
        "사춘기 거북이를 지도하기."
      ],
      "metadata": {
        "id": "Os7MdriDlqT4"
      }
    },
    {
      "cell_type": "code",
      "source": [
        "#!pip3 install ColabTurtle\n",
        "import ColabTurtle.Turtle as turtle\n",
        "import random\n",
        "turtle.initializeTurtle()\n",
        "print(turtle.DEFAULT_WINDOW_SIZE)\n",
        "while True:\n",
        " turtle.left(random.randint(0,360))\n",
        " turtle.forward(random.randint(100,200))\n",
        " print(turtle.getx(),turtle.gety())\n",
        " if turtle.getx() > 800 or turtle.gety() > 500:\n",
        "  print(\"가출\")\n",
        "  break"
      ],
      "metadata": {
        "colab": {
          "base_uri": "https://localhost:8080/",
          "height": 1000
        },
        "id": "ODkXxlVzloql",
        "outputId": "14e68e85-4a26-42db-9da4-4effd1114f64"
      },
      "execution_count": null,
      "outputs": [
        {
          "output_type": "display_data",
          "data": {
            "text/plain": [
              "<IPython.core.display.HTML object>"
            ],
            "text/html": [
              "\n",
              "      <svg width=\"800\" height=\"500\">\n",
              "        <rect width=\"100%\" height=\"100%\" fill=\"black\"/>\n",
              "        <line x1=\"400\" y1=\"250\" x2=\"310.464\" y2=\"189.607\" stroke-linecap=\"round\" style=\"stroke:white;stroke-width:4\"/><line x1=\"310.464\" y1=\"189.607\" x2=\"185.5\" y2=\"153.774\" stroke-linecap=\"round\" style=\"stroke:white;stroke-width:4\"/><line x1=\"185.5\" y1=\"153.774\" x2=\"76.258\" y2=\"55.412\" stroke-linecap=\"round\" style=\"stroke:white;stroke-width:4\"/><line x1=\"76.258\" y1=\"55.412\" x2=\"66.262\" y2=\"246.15\" stroke-linecap=\"round\" style=\"stroke:white;stroke-width:4\"/><line x1=\"66.262\" y1=\"246.15\" x2=\"-49.745\" y2=\"300.245\" stroke-linecap=\"round\" style=\"stroke:white;stroke-width:4\"/><line x1=\"-49.745\" y1=\"300.245\" x2=\"-186.035\" y2=\"218.354\" stroke-linecap=\"round\" style=\"stroke:white;stroke-width:4\"/><line x1=\"-186.035\" y1=\"218.354\" x2=\"-179.264\" y2=\"24.472\" stroke-linecap=\"round\" style=\"stroke:white;stroke-width:4\"/><line x1=\"-179.264\" y1=\"24.472\" x2=\"-298.807\" y2=\"14.013\" stroke-linecap=\"round\" style=\"stroke:white;stroke-width:4\"/><line x1=\"-298.807\" y1=\"14.013\" x2=\"-128.895\" y2=\"79.236\" stroke-linecap=\"round\" style=\"stroke:white;stroke-width:4\"/><line x1=\"-128.895\" y1=\"79.236\" x2=\"-247.632\" y2=\"-20.396\" stroke-linecap=\"round\" style=\"stroke:white;stroke-width:4\"/><line x1=\"-247.632\" y1=\"-20.396\" x2=\"-99.598\" y2=\"-62.844\" stroke-linecap=\"round\" style=\"stroke:white;stroke-width:4\"/><line x1=\"-99.598\" y1=\"-62.844\" x2=\"-147.267\" y2=\"49.458\" stroke-linecap=\"round\" style=\"stroke:white;stroke-width:4\"/><line x1=\"-147.267\" y1=\"49.458\" x2=\"-153.338\" y2=\"-66.383\" stroke-linecap=\"round\" style=\"stroke:white;stroke-width:4\"/><line x1=\"-153.338\" y1=\"-66.383\" x2=\"-287.396\" y2=\"46.105\" stroke-linecap=\"round\" style=\"stroke:white;stroke-width:4\"/><line x1=\"-287.396\" y1=\"46.105\" x2=\"-280.174\" y2=\"183.916\" stroke-linecap=\"round\" style=\"stroke:white;stroke-width:4\"/><line x1=\"-280.174\" y1=\"183.916\" x2=\"-104.35\" y2=\"265.904\" stroke-linecap=\"round\" style=\"stroke:white;stroke-width:4\"/><line x1=\"-104.35\" y1=\"265.904\" x2=\"-137.702\" y2=\"149.591\" stroke-linecap=\"round\" style=\"stroke:white;stroke-width:4\"/><line x1=\"-137.702\" y1=\"149.591\" x2=\"47.147\" y2=\"78.634\" stroke-linecap=\"round\" style=\"stroke:white;stroke-width:4\"/><line x1=\"47.147\" y1=\"78.634\" x2=\"-34.301\" y2=\"-37.686\" stroke-linecap=\"round\" style=\"stroke:white;stroke-width:4\"/><line x1=\"-34.301\" y1=\"-37.686\" x2=\"-62.512\" y2=\"67.6\" stroke-linecap=\"round\" style=\"stroke:white;stroke-width:4\"/><line x1=\"-62.512\" y1=\"67.6\" x2=\"58.403\" y2=\"188.515\" stroke-linecap=\"round\" style=\"stroke:white;stroke-width:4\"/><line x1=\"58.403\" y1=\"188.515\" x2=\"169.123\" y2=\"24.366\" stroke-linecap=\"round\" style=\"stroke:white;stroke-width:4\"/><line x1=\"169.123\" y1=\"24.366\" x2=\"10.935\" y2=\"-52.787\" stroke-linecap=\"round\" style=\"stroke:white;stroke-width:4\"/><line x1=\"10.935\" y1=\"-52.787\" x2=\"82.283\" y2=\"-162.653\" stroke-linecap=\"round\" style=\"stroke:white;stroke-width:4\"/><line x1=\"82.283\" y1=\"-162.653\" x2=\"224.274\" y2=\"-200.699\" stroke-linecap=\"round\" style=\"stroke:white;stroke-width:4\"/><line x1=\"224.274\" y1=\"-200.699\" x2=\"390.572\" y2=\"-153.014\" stroke-linecap=\"round\" style=\"stroke:white;stroke-width:4\"/><line x1=\"390.572\" y1=\"-153.014\" x2=\"521.719\" y2=\"-231.815\" stroke-linecap=\"round\" style=\"stroke:white;stroke-width:4\"/><line x1=\"521.719\" y1=\"-231.815\" x2=\"689.58\" y2=\"-189.963\" stroke-linecap=\"round\" style=\"stroke:white;stroke-width:4\"/><line x1=\"689.58\" y1=\"-189.963\" x2=\"498.163\" y2=\"-227.171\" stroke-linecap=\"round\" style=\"stroke:white;stroke-width:4\"/><line x1=\"498.163\" y1=\"-227.171\" x2=\"468.969\" y2=\"-76.982\" stroke-linecap=\"round\" style=\"stroke:white;stroke-width:4\"/><line x1=\"468.969\" y1=\"-76.982\" x2=\"385.196\" y2=\"-4.159\" stroke-linecap=\"round\" style=\"stroke:white;stroke-width:4\"/><line x1=\"385.196\" y1=\"-4.159\" x2=\"432.084\" y2=\"106.302\" stroke-linecap=\"round\" style=\"stroke:white;stroke-width:4\"/>\n",
              "        <g visibility=visible transform=\"rotate(157,432.084,106.302) translate(414.084, 88.302)\">\n",
              "<path style=\" stroke:none;fill-rule:evenodd;fill:white;fill-opacity:1;\" d=\"M 18.214844 0.632812 C 16.109375 1.800781 15.011719 4.074219 15.074219 7.132812 L 15.085938 7.652344 L 14.785156 7.496094 C 13.476562 6.824219 11.957031 6.671875 10.40625 7.066406 C 8.46875 7.550781 6.515625 9.15625 4.394531 11.992188 C 3.0625 13.777344 2.679688 14.636719 3.042969 15.027344 L 3.15625 15.152344 L 3.519531 15.152344 C 4.238281 15.152344 4.828125 14.886719 8.1875 13.039062 C 9.386719 12.378906 10.371094 11.839844 10.378906 11.839844 C 10.386719 11.839844 10.355469 11.929688 10.304688 12.035156 C 9.832031 13.09375 9.257812 14.820312 8.96875 16.078125 C 7.914062 20.652344 8.617188 24.53125 11.070312 27.660156 C 11.351562 28.015625 11.363281 27.914062 10.972656 28.382812 C 8.925781 30.84375 7.945312 33.28125 8.238281 35.1875 C 8.289062 35.527344 8.28125 35.523438 8.917969 35.523438 C 10.941406 35.523438 13.074219 34.207031 15.136719 31.6875 C 15.359375 31.417969 15.328125 31.425781 15.5625 31.574219 C 16.292969 32.042969 18.023438 32.964844 18.175781 32.964844 C 18.335938 32.964844 19.941406 32.210938 20.828125 31.71875 C 20.996094 31.625 21.136719 31.554688 21.136719 31.558594 C 21.203125 31.664062 21.898438 32.414062 22.222656 32.730469 C 23.835938 34.300781 25.5625 35.132812 27.582031 35.300781 C 27.90625 35.328125 27.9375 35.308594 28.007812 34.984375 C 28.382812 33.242188 27.625 30.925781 25.863281 28.425781 L 25.542969 27.96875 L 25.699219 27.785156 C 28.945312 23.960938 29.132812 18.699219 26.257812 11.96875 L 26.207031 11.84375 L 27.945312 12.703125 C 31.53125 14.476562 32.316406 14.800781 33.03125 14.800781 C 33.976562 14.800781 33.78125 13.9375 32.472656 12.292969 C 28.519531 7.355469 25.394531 5.925781 21.921875 7.472656 L 21.558594 7.636719 L 21.578125 7.542969 C 21.699219 6.992188 21.761719 5.742188 21.699219 5.164062 C 21.496094 3.296875 20.664062 1.964844 19.003906 0.855469 C 18.480469 0.503906 18.457031 0.5 18.214844 0.632812\"/>\n",
              "</g>\n",
              "      </svg>\n",
              "    "
            ]
          },
          "metadata": {}
        },
        {
          "output_type": "stream",
          "name": "stdout",
          "text": [
            "(800, 500)\n",
            "310.464 189.607\n",
            "185.5 153.774\n",
            "76.258 55.412\n",
            "66.262 246.15\n",
            "-49.745 300.245\n",
            "-186.035 218.354\n",
            "-179.264 24.472\n",
            "-298.807 14.013\n",
            "-128.895 79.236\n",
            "-247.632 -20.396\n",
            "-99.598 -62.844\n",
            "-147.267 49.458\n",
            "-153.338 -66.383\n",
            "-287.396 46.105\n",
            "-280.174 183.916\n",
            "-104.35 265.904\n",
            "-137.702 149.591\n",
            "47.147 78.634\n",
            "-34.301 -37.686\n",
            "-62.512 67.6\n",
            "58.403 188.515\n",
            "169.123 24.366\n",
            "10.935 -52.787\n",
            "82.283 -162.653\n",
            "224.274 -200.699\n",
            "390.572 -153.014\n",
            "521.719 -231.815\n",
            "689.58 -189.963\n",
            "498.163 -227.171\n",
            "468.969 -76.982\n",
            "385.196 -4.159\n",
            "432.084 106.302\n"
          ]
        },
        {
          "output_type": "error",
          "ename": "KeyboardInterrupt",
          "evalue": "ignored",
          "traceback": [
            "\u001b[0;31m---------------------------------------------------------------------------\u001b[0m",
            "\u001b[0;31mKeyboardInterrupt\u001b[0m                         Traceback (most recent call last)",
            "\u001b[0;32m<ipython-input-56-353847543fab>\u001b[0m in \u001b[0;36m<module>\u001b[0;34m\u001b[0m\n\u001b[1;32m      5\u001b[0m \u001b[0mprint\u001b[0m\u001b[0;34m(\u001b[0m\u001b[0mturtle\u001b[0m\u001b[0;34m.\u001b[0m\u001b[0mDEFAULT_WINDOW_SIZE\u001b[0m\u001b[0;34m)\u001b[0m\u001b[0;34m\u001b[0m\u001b[0;34m\u001b[0m\u001b[0m\n\u001b[1;32m      6\u001b[0m \u001b[0;32mwhile\u001b[0m \u001b[0;32mTrue\u001b[0m\u001b[0;34m:\u001b[0m\u001b[0;34m\u001b[0m\u001b[0;34m\u001b[0m\u001b[0m\n\u001b[0;32m----> 7\u001b[0;31m  \u001b[0mturtle\u001b[0m\u001b[0;34m.\u001b[0m\u001b[0mleft\u001b[0m\u001b[0;34m(\u001b[0m\u001b[0mrandom\u001b[0m\u001b[0;34m.\u001b[0m\u001b[0mrandint\u001b[0m\u001b[0;34m(\u001b[0m\u001b[0;36m0\u001b[0m\u001b[0;34m,\u001b[0m\u001b[0;36m360\u001b[0m\u001b[0;34m)\u001b[0m\u001b[0;34m)\u001b[0m\u001b[0;34m\u001b[0m\u001b[0;34m\u001b[0m\u001b[0m\n\u001b[0m\u001b[1;32m      8\u001b[0m  \u001b[0mturtle\u001b[0m\u001b[0;34m.\u001b[0m\u001b[0mforward\u001b[0m\u001b[0;34m(\u001b[0m\u001b[0mrandom\u001b[0m\u001b[0;34m.\u001b[0m\u001b[0mrandint\u001b[0m\u001b[0;34m(\u001b[0m\u001b[0;36m100\u001b[0m\u001b[0;34m,\u001b[0m\u001b[0;36m200\u001b[0m\u001b[0;34m)\u001b[0m\u001b[0;34m)\u001b[0m\u001b[0;34m\u001b[0m\u001b[0;34m\u001b[0m\u001b[0m\n\u001b[1;32m      9\u001b[0m  \u001b[0mprint\u001b[0m\u001b[0;34m(\u001b[0m\u001b[0mturtle\u001b[0m\u001b[0;34m.\u001b[0m\u001b[0mgetx\u001b[0m\u001b[0;34m(\u001b[0m\u001b[0;34m)\u001b[0m\u001b[0;34m,\u001b[0m\u001b[0mturtle\u001b[0m\u001b[0;34m.\u001b[0m\u001b[0mgety\u001b[0m\u001b[0;34m(\u001b[0m\u001b[0;34m)\u001b[0m\u001b[0;34m)\u001b[0m\u001b[0;34m\u001b[0m\u001b[0;34m\u001b[0m\u001b[0m\n",
            "\u001b[0;32m/usr/local/lib/python3.7/dist-packages/ColabTurtle/Turtle.py\u001b[0m in \u001b[0;36mleft\u001b[0;34m(degrees)\u001b[0m\n\u001b[1;32m    215\u001b[0m     \u001b[0;32mif\u001b[0m \u001b[0;32mnot\u001b[0m \u001b[0misinstance\u001b[0m\u001b[0;34m(\u001b[0m\u001b[0mdegrees\u001b[0m\u001b[0;34m,\u001b[0m \u001b[0;34m(\u001b[0m\u001b[0mint\u001b[0m\u001b[0;34m,\u001b[0m\u001b[0mfloat\u001b[0m\u001b[0;34m)\u001b[0m\u001b[0;34m)\u001b[0m\u001b[0;34m:\u001b[0m\u001b[0;34m\u001b[0m\u001b[0;34m\u001b[0m\u001b[0m\n\u001b[1;32m    216\u001b[0m         \u001b[0;32mraise\u001b[0m \u001b[0mValueError\u001b[0m\u001b[0;34m(\u001b[0m\u001b[0;34m'degrees must be a number.'\u001b[0m\u001b[0;34m)\u001b[0m\u001b[0;34m\u001b[0m\u001b[0;34m\u001b[0m\u001b[0m\n\u001b[0;32m--> 217\u001b[0;31m     \u001b[0mright\u001b[0m\u001b[0;34m(\u001b[0m\u001b[0;34m-\u001b[0m\u001b[0;36m1\u001b[0m \u001b[0;34m*\u001b[0m \u001b[0mdegrees\u001b[0m\u001b[0;34m)\u001b[0m\u001b[0;34m\u001b[0m\u001b[0;34m\u001b[0m\u001b[0m\n\u001b[0m\u001b[1;32m    218\u001b[0m \u001b[0;34m\u001b[0m\u001b[0m\n\u001b[1;32m    219\u001b[0m \u001b[0mlt\u001b[0m \u001b[0;34m=\u001b[0m \u001b[0mleft\u001b[0m\u001b[0;34m\u001b[0m\u001b[0;34m\u001b[0m\u001b[0m\n",
            "\u001b[0;32m/usr/local/lib/python3.7/dist-packages/ColabTurtle/Turtle.py\u001b[0m in \u001b[0;36mright\u001b[0;34m(degrees)\u001b[0m\n\u001b[1;32m    194\u001b[0m \u001b[0;34m\u001b[0m\u001b[0m\n\u001b[1;32m    195\u001b[0m     \u001b[0mturtle_degree\u001b[0m \u001b[0;34m=\u001b[0m \u001b[0;34m(\u001b[0m\u001b[0mturtle_degree\u001b[0m \u001b[0;34m+\u001b[0m \u001b[0mdegrees\u001b[0m\u001b[0;34m)\u001b[0m \u001b[0;34m%\u001b[0m \u001b[0;36m360\u001b[0m\u001b[0;34m\u001b[0m\u001b[0;34m\u001b[0m\u001b[0m\n\u001b[0;32m--> 196\u001b[0;31m     \u001b[0m_updateDrawing\u001b[0m\u001b[0;34m(\u001b[0m\u001b[0;34m)\u001b[0m\u001b[0;34m\u001b[0m\u001b[0;34m\u001b[0m\u001b[0m\n\u001b[0m\u001b[1;32m    197\u001b[0m \u001b[0;34m\u001b[0m\u001b[0m\n\u001b[1;32m    198\u001b[0m \u001b[0mrt\u001b[0m \u001b[0;34m=\u001b[0m \u001b[0mright\u001b[0m \u001b[0;31m# alias\u001b[0m\u001b[0;34m\u001b[0m\u001b[0;34m\u001b[0m\u001b[0m\n",
            "\u001b[0;32m/usr/local/lib/python3.7/dist-packages/ColabTurtle/Turtle.py\u001b[0m in \u001b[0;36m_updateDrawing\u001b[0;34m()\u001b[0m\n\u001b[1;32m    143\u001b[0m     \u001b[0;32mif\u001b[0m \u001b[0mdrawing_window\u001b[0m \u001b[0;34m==\u001b[0m \u001b[0;32mNone\u001b[0m\u001b[0;34m:\u001b[0m\u001b[0;34m\u001b[0m\u001b[0;34m\u001b[0m\u001b[0m\n\u001b[1;32m    144\u001b[0m         \u001b[0;32mraise\u001b[0m \u001b[0mAttributeError\u001b[0m\u001b[0;34m(\u001b[0m\u001b[0;34m\"Display has not been initialized yet. Call initializeTurtle() before using.\"\u001b[0m\u001b[0;34m)\u001b[0m\u001b[0;34m\u001b[0m\u001b[0;34m\u001b[0m\u001b[0m\n\u001b[0;32m--> 145\u001b[0;31m     \u001b[0mtime\u001b[0m\u001b[0;34m.\u001b[0m\u001b[0msleep\u001b[0m\u001b[0;34m(\u001b[0m\u001b[0m_speedToSec\u001b[0m\u001b[0;34m(\u001b[0m\u001b[0mturtle_speed\u001b[0m\u001b[0;34m)\u001b[0m\u001b[0;34m)\u001b[0m\u001b[0;34m\u001b[0m\u001b[0;34m\u001b[0m\u001b[0m\n\u001b[0m\u001b[1;32m    146\u001b[0m     \u001b[0mdrawing_window\u001b[0m\u001b[0;34m.\u001b[0m\u001b[0mupdate\u001b[0m\u001b[0;34m(\u001b[0m\u001b[0mHTML\u001b[0m\u001b[0;34m(\u001b[0m\u001b[0m_generateSvgDrawing\u001b[0m\u001b[0;34m(\u001b[0m\u001b[0;34m)\u001b[0m\u001b[0;34m)\u001b[0m\u001b[0;34m)\u001b[0m\u001b[0;34m\u001b[0m\u001b[0;34m\u001b[0m\u001b[0m\n\u001b[1;32m    147\u001b[0m \u001b[0;34m\u001b[0m\u001b[0m\n",
            "\u001b[0;31mKeyboardInterrupt\u001b[0m: "
          ]
        }
      ]
    },
    {
      "cell_type": "code",
      "source": [
        "#!pip3 install ColabTurtle\n",
        "import ColabTurtle.Turtle as turtle\n",
        "import random\n",
        "turtle.initializeTurtle()\n",
        "print(turtle.DEFAULT_WINDOW_SIZE)\n",
        "\n",
        "while True:\n",
        "  turtle.left(random.randint(0,360))\n",
        "  turtle.foward(random.randint(100,200))\n",
        "  print(turtle.getx().turtle.gety())\n",
        "  if 750 <= turtle.getx() or turtle.getx() <=80 or \\\n",
        "  (450 <= turtle.gety() or turtle.gety() <= 50) : \n",
        "\n",
        "  r = random.randint(0,255)\n",
        "  g= random.randint(0,255)\n",
        "  b= random.randint(0,255)\n",
        "  turtle.color( (r,g,b))\n",
        "  turtle. gofo(400,250)"
      ],
      "metadata": {
        "id": "hpBu6I2MymNH",
        "colab": {
          "base_uri": "https://localhost:8080/",
          "height": 137
        },
        "outputId": "ed1e95ae-eff8-4bb1-c3f6-82fbc33cb875"
      },
      "execution_count": 58,
      "outputs": [
        {
          "output_type": "error",
          "ename": "IndentationError",
          "evalue": "ignored",
          "traceback": [
            "\u001b[0;36m  File \u001b[0;32m\"<ipython-input-58-9cb7e6d278de>\"\u001b[0;36m, line \u001b[0;32m14\u001b[0m\n\u001b[0;31m    r = random.randint(0,255)\u001b[0m\n\u001b[0m    ^\u001b[0m\n\u001b[0;31mIndentationError\u001b[0m\u001b[0;31m:\u001b[0m expected an indented block\n"
          ]
        }
      ]
    }
  ]
}