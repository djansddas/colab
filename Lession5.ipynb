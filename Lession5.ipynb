{
  "nbformat": 4,
  "nbformat_minor": 0,
  "metadata": {
    "colab": {
      "provenance": [],
      "authorship_tag": "ABX9TyOWLOJepLGE2eLkasozVMaF",
      "include_colab_link": true
    },
    "kernelspec": {
      "name": "python3",
      "display_name": "Python 3"
    },
    "language_info": {
      "name": "python"
    }
  },
  "cells": [
    {
      "cell_type": "markdown",
      "metadata": {
        "id": "view-in-github",
        "colab_type": "text"
      },
      "source": [
        "<a href=\"https://colab.research.google.com/github/djansddas/colab/blob/main/Lession5.ipynb\" target=\"_parent\"><img src=\"https://colab.research.google.com/assets/colab-badge.svg\" alt=\"Open In Colab\"/></a>"
      ]
    },
    {
      "cell_type": "markdown",
      "source": [
        "조건문"
      ],
      "metadata": {
        "id": "h2XBkNxn0Fwn"
      }
    },
    {
      "cell_type": "code",
      "execution_count": 4,
      "metadata": {
        "colab": {
          "base_uri": "https://localhost:8080/"
        },
        "id": "sNR6kkhC0B-c",
        "outputId": "1c261154-efb2-4fa0-fa14-a081c6a491c6"
      },
      "outputs": [
        {
          "output_type": "stream",
          "name": "stdout",
          "text": [
            "100보다 작습니다.\n"
          ]
        }
      ],
      "source": [
        "num = 99\n",
        "if num < 100:\n",
        "   print(\"100보다 작습니다.\")"
      ]
    },
    {
      "cell_type": "code",
      "source": [
        "num = 200\n",
        "if num >100:\n",
        "  print(\"100보다\")\n",
        "  print(\"큽니다.\")\n",
        "  print(\"프로그램 끝\")"
      ],
      "metadata": {
        "colab": {
          "base_uri": "https://localhost:8080/"
        },
        "id": "s-D4xxZq3o35",
        "outputId": "8d75e6b3-7360-4d56-93e5-1911a2170005"
      },
      "execution_count": 5,
      "outputs": [
        {
          "output_type": "stream",
          "name": "stdout",
          "text": [
            "100보다\n",
            "큽니다.\n",
            "프로그램 끝\n"
          ]
        }
      ]
    },
    {
      "cell_type": "code",
      "source": [
        "num = 200\n",
        "if num <100:\n",
        "  print(\"100보다 작군요.\")\n",
        "else :\n",
        "    print(\"100보다 크군요.\")"
      ],
      "metadata": {
        "colab": {
          "base_uri": "https://localhost:8080/"
        },
        "id": "Ct0rrb0I48lw",
        "outputId": "86f84b54-ed94-4b45-cb59-8bd25bed5ec9"
      },
      "execution_count": 8,
      "outputs": [
        {
          "output_type": "stream",
          "name": "stdout",
          "text": [
            "100보다 크군요.\n"
          ]
        }
      ]
    },
    {
      "cell_type": "code",
      "source": [
        "num =int(input(\"정수를 입력:\"))\n",
        "if(num % 2)==0:\n",
        "  print(num ,\"짝수입니다.\")\n",
        "else:\n",
        "    print(num, \"홀수입니다.\")"
      ],
      "metadata": {
        "colab": {
          "base_uri": "https://localhost:8080/"
        },
        "id": "15aN6IJw5pLw",
        "outputId": "3b7f96a3-eb5e-4968-85cc-df32d611f759"
      },
      "execution_count": 9,
      "outputs": [
        {
          "output_type": "stream",
          "name": "stdout",
          "text": [
            "정수를 입력:10\n",
            "10 짝수입니다.\n"
          ]
        }
      ]
    },
    {
      "cell_type": "code",
      "source": [
        "num = int(input(\"숫자를 입력==>\"))\n",
        "if num > 100:\n",
        "  if num < 1000:\n",
        "    print(\"100보다 크고 1000보다 작습니다.\")\n",
        "  else :\n",
        "    print(num, \"1000보다 큽니다.\")\n",
        "else :\n",
        "  print(\"와 100보다 작아요.\")"
      ],
      "metadata": {
        "id": "rymHhJKH7UBQ"
      },
      "execution_count": null,
      "outputs": []
    }
  ]
}