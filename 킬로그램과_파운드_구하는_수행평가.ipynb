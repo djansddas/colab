{
  "nbformat": 4,
  "nbformat_minor": 0,
  "metadata": {
    "colab": {
      "provenance": [],
      "authorship_tag": "ABX9TyNelzgoeVR7vu1wa/bX0hch",
      "include_colab_link": true
    },
    "kernelspec": {
      "name": "python3",
      "display_name": "Python 3"
    },
    "language_info": {
      "name": "python"
    }
  },
  "cells": [
    {
      "cell_type": "markdown",
      "metadata": {
        "id": "view-in-github",
        "colab_type": "text"
      },
      "source": [
        "<a href=\"https://colab.research.google.com/github/djansddas/colab/blob/main/%ED%82%AC%EB%A1%9C%EA%B7%B8%EB%9E%A8%EA%B3%BC_%ED%8C%8C%EC%9A%B4%EB%93%9C_%EA%B5%AC%ED%95%98%EB%8A%94_%EC%88%98%ED%96%89%ED%8F%89%EA%B0%80.ipynb\" target=\"_parent\"><img src=\"https://colab.research.google.com/assets/colab-badge.svg\" alt=\"Open In Colab\"/></a>"
      ]
    },
    {
      "cell_type": "code",
      "execution_count": 1,
      "metadata": {
        "colab": {
          "base_uri": "https://localhost:8080/"
        },
        "id": "yPTA_R5o1NJg",
        "outputId": "1e50d2dc-2b3c-4af5-8896-e7c6a49caaa2"
      },
      "outputs": [
        {
          "output_type": "stream",
          "name": "stdout",
          "text": [
            "파운드를 입력하세요:15\n",
            "15.0 파운드는 6.804 킬로그램입니다.\n",
            "킬로그램을 입력하세요.:15\n",
            "15.0 킬로그램은 33.069 파운드입니다.\n"
          ]
        }
      ],
      "source": [
        "pound= float(input(\"파운드를 입력하세요:\"))\n",
        "kg= pound * 0.453592\n",
        "print(pound,\"파운드는\",round(kg,3),\"킬로그램입니다.\")\n",
        "kg = float(input(\"킬로그램을 입력하세요.:\") )\n",
        "pound =kg * 2.204623\n",
        "print(kg,\"킬로그램은\", round(pound,3), \"파운드입니다.\")"
      ]
    }
  ]
}