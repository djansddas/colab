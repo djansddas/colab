{
  "nbformat": 4,
  "nbformat_minor": 0,
  "metadata": {
    "colab": {
      "name": "Lession2.ipynb",
      "provenance": [],
      "authorship_tag": "ABX9TyPD1eVit8155kkwJuSYT0MO",
      "include_colab_link": true
    },
    "kernelspec": {
      "name": "python3",
      "display_name": "Python 3"
    },
    "language_info": {
      "name": "python"
    }
  },
  "cells": [
    {
      "cell_type": "markdown",
      "metadata": {
        "id": "view-in-github",
        "colab_type": "text"
      },
      "source": [
        "<a href=\"https://colab.research.google.com/github/djansddas/colab/blob/main/Lession2.ipynb\" target=\"_parent\"><img src=\"https://colab.research.google.com/assets/colab-badge.svg\" alt=\"Open In Colab\"/></a>"
      ]
    },
    {
      "cell_type": "markdown",
      "source": [
        "* 파이썬 2장\n",
        "* 변수와 input() 함수"
      ],
      "metadata": {
        "id": "uyj1u5IpBK-V"
      }
    },
    {
      "cell_type": "code",
      "execution_count": 3,
      "metadata": {
        "colab": {
          "base_uri": "https://localhost:8080/"
        },
        "id": "CkiwO_6FA02b",
        "outputId": "92aaf0f6-f686-4451-a53a-df8f6714cb36"
      },
      "outputs": [
        {
          "output_type": "stream",
          "name": "stdout",
          "text": [
            "100 + 200 = 300\n",
            "100 - 200 = 300\n",
            "100 * 200 = 300\n",
            "100 / 200 = 300\n"
          ]
        }
      ],
      "source": [
        "num1= 100\n",
        "num2= 200\n",
        "result1 =num1 + num2\n",
        "result2 = num1 - num2\n",
        "result3 = num1 * num2\n",
        "result4 = num1 / num2\n",
        "print(num1, \"+\", num2, \"=\", result1)\n",
        "print(num1, \"-\", num2, \"=\", result1)\n",
        "print(num1, \"*\", num2, \"=\", result1)\n",
        "print(num1, \"/\", num2, \"=\", result1)"
      ]
    },
    {
      "cell_type": "code",
      "source": [
        "num1,num2=100,200 \n",
        "result1, result2= num1+ num2, num1 -num2\n",
        "result3, result4= num1 / num2 , num1* num2\n",
        "print(num1, \"+\", num2, \"=\", result1)\n",
        "print(num1, \"-\", num2, \"=\", result2)\n",
        "print(num1, \"/\", num2, \"=\", result3)\n",
        "print(num1, \"*\", num2, \"=\", result4)\n"
      ],
      "metadata": {
        "colab": {
          "base_uri": "https://localhost:8080/"
        },
        "id": "kJfYTMwYE39-",
        "outputId": "d2f055dc-2b35-4109-8b1a-992f0e70a39a"
      },
      "execution_count": 4,
      "outputs": [
        {
          "output_type": "stream",
          "name": "stdout",
          "text": [
            "100 + 200 = 300\n",
            "100 - 200 = -100\n",
            "100 / 200 = 0.5\n",
            "100 * 200 = 20000\n"
          ]
        }
      ]
    },
    {
      "cell_type": "markdown",
      "source": [
        "input()함수 예제"
      ],
      "metadata": {
        "id": "9qz5DySPFTh9"
      }
    },
    {
      "cell_type": "code",
      "source": [
        "num1= input(\"첫번째 숫자 입력 ==>\")\n",
        "num2= int(input(\"두번째 숫자 입력 ==>\"))\n",
        "result = int(num1) + num2\n",
        "print(num1,\"+\", num2, \"=\", result)"
      ],
      "metadata": {
        "colab": {
          "base_uri": "https://localhost:8080/"
        },
        "id": "Xk-CLSR2GirP",
        "outputId": "ac7a437f-b819-4e14-a07d-d3c334039209"
      },
      "execution_count": 7,
      "outputs": [
        {
          "output_type": "stream",
          "name": "stdout",
          "text": [
            "첫번째 숫자 입력 ==>100\n",
            "두번째 숫자 입력 ==>200\n",
            "100 + 200 = 300\n"
          ]
        }
      ]
    },
    {
      "cell_type": "markdown",
      "source": [
        "* input()함수를 이용한 간단한 계산기"
      ],
      "metadata": {
        "id": "5oWgL5ztJgZ8"
      }
    },
    {
      "cell_type": "code",
      "source": [
        "print(\"** 논술형 문제~ input() 함수를 이용한 간단한 계산기**\")\n",
        "num1= float(input(\"첫번째 숫자를 입력:\"))\n",
        "num2= float(input(\"두번째 숫자를 입력\"))\n",
        "print(num1, \"+\", num2, \"=\", num1 + num2)\n",
        "print(num1, \"-\", num2, \"=\", num1 - num2)\n",
        "print(num1, \"*\", num2, \"=\", num1 * num2)\n",
        "print(num1, \"*\", num2, \"=\", num1 / num2)"
      ],
      "metadata": {
        "colab": {
          "base_uri": "https://localhost:8080/"
        },
        "id": "G3AQNHj9JA1u",
        "outputId": "f5a47fad-305d-4c06-d05a-2270442ece12"
      },
      "execution_count": 9,
      "outputs": [
        {
          "output_type": "stream",
          "name": "stdout",
          "text": [
            "** 논술형 문제~ input() 함수를 이용한 간단한 계산기**\n",
            "첫번째 숫자를 입력:100\n",
            "두번째 숫자를 입력200\n",
            "100.0 + 200.0 = 300.0\n",
            "100.0 - 200.0 = -100.0\n",
            "100.0 * 200.0 = 20000.0\n",
            "100.0 * 200.0 = 0.5\n"
          ]
        }
      ]
    },
    {
      "cell_type": "markdown",
      "source": [
        "문자열예제"
      ],
      "metadata": {
        "id": "F7gf2ew2OYLi"
      }
    },
    {
      "cell_type": "code",
      "source": [
        "name= input(\"이름==>\")\n",
        "tel_number = input(\"전화번호==>\")\n",
        "print(\"제 이름은\", name, \"제 연락처는\", tel_number, \"입니다,\")"
      ],
      "metadata": {
        "colab": {
          "base_uri": "https://localhost:8080/"
        },
        "id": "GC6HCiaXPrXz",
        "outputId": "37d70bf1-e90b-412c-ff16-b5a65780236c"
      },
      "execution_count": 13,
      "outputs": [
        {
          "output_type": "stream",
          "name": "stdout",
          "text": [
            "이름==>이응\n",
            "전화번호==>01012311234\n",
            "제 이름은 이응 제 연락처는 01012311234 입니다,\n"
          ]
        }
      ]
    },
    {
      "cell_type": "code",
      "source": [
        "## 택배를 보내기 위한 정보를 입력하세요. ##\n",
        "name = input(\"이름==>\")\n",
        "address = input(\"주소==>\")\n",
        "gram= input(\"무게(g)==>\")"
      ],
      "metadata": {
        "colab": {
          "base_uri": "https://localhost:8080/"
        },
        "id": "71x7Ia_KRDMq",
        "outputId": "bd8ca12e-bf93-4c65-f4e9-74de692bab47"
      },
      "execution_count": 17,
      "outputs": [
        {
          "name": "stdout",
          "output_type": "stream",
          "text": [
            "이름==>응\n",
            "주소==>서울 영등포구 여의도동 88\n",
            "무게==>721\n"
          ]
        }
      ]
    },
    {
      "cell_type": "code",
      "source": [
        "print(\"## 택배를 보내기 위한 정보를 입력하세요. ##\")\n",
        "personName = input(\"받는사람:\")\n",
        "presonAddr = input(\"주소:\")\n",
        "weight=int(input(\"무게(g):\"))\n",
        "\n",
        "print(\"** 받는사람 ==>\", personName)\n",
        "print(\"** 주소==>\", personAddr)\n",
        "\n",
        "print(\"** 배송비==>\", weight * 5,\" 원\")"
      ],
      "metadata": {
        "colab": {
          "base_uri": "https://localhost:8080/"
        },
        "id": "g2gBXPauSJse",
        "outputId": "28273af2-6142-4ebb-95d6-a64d0425190d"
      },
      "execution_count": null,
      "outputs": [
        {
          "output_type": "stream",
          "name": "stdout",
          "text": [
            "## 택배를 보내기 위한 정보를 입력하세요. ##\n"
          ]
        }
      ]
    }
  ]
}