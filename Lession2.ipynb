{
  "nbformat": 4,
  "nbformat_minor": 0,
  "metadata": {
    "colab": {
      "name": "Lession2.ipynb",
      "provenance": [],
      "authorship_tag": "ABX9TyOs6fUYePAmtvZ/p3Onevee",
      "include_colab_link": true
    },
    "kernelspec": {
      "name": "python3",
      "display_name": "Python 3"
    },
    "language_info": {
      "name": "python"
    }
  },
  "cells": [
    {
      "cell_type": "markdown",
      "metadata": {
        "id": "view-in-github",
        "colab_type": "text"
      },
      "source": [
        "<a href=\"https://colab.research.google.com/github/djansddas/colab/blob/main/Lession2.ipynb\" target=\"_parent\"><img src=\"https://colab.research.google.com/assets/colab-badge.svg\" alt=\"Open In Colab\"/></a>"
      ]
    },
    {
      "cell_type": "markdown",
      "source": [
        "* 파이썬 2장\n",
        "* 변수와 input() 함수"
      ],
      "metadata": {
        "id": "uyj1u5IpBK-V"
      }
    },
    {
      "cell_type": "code",
      "execution_count": 3,
      "metadata": {
        "colab": {
          "base_uri": "https://localhost:8080/"
        },
        "id": "CkiwO_6FA02b",
        "outputId": "92aaf0f6-f686-4451-a53a-df8f6714cb36"
      },
      "outputs": [
        {
          "output_type": "stream",
          "name": "stdout",
          "text": [
            "100 + 200 = 300\n",
            "100 - 200 = 300\n",
            "100 * 200 = 300\n",
            "100 / 200 = 300\n"
          ]
        }
      ],
      "source": [
        "num1= 100\n",
        "num2= 200\n",
        "result1 =num1 + num2\n",
        "result2 = num1 - num2\n",
        "result3 = num1 * num2\n",
        "result4 = num1 / num2\n",
        "print(num1, \"+\", num2, \"=\", result1)\n",
        "print(num1, \"-\", num2, \"=\", result1)\n",
        "print(num1, \"*\", num2, \"=\", result1)\n",
        "print(num1, \"/\", num2, \"=\", result1)"
      ]
    },
    {
      "cell_type": "code",
      "source": [
        "num1,num2=100,200 \n",
        "result1, result2= num1+ num2, num1 -num2\n",
        "result3, result4= num1 / num2 , num1* num2\n",
        "print(num1, \"+\", num2, \"=\", result1)\n",
        "print(num1, \"-\", num2, \"=\", result2)\n",
        "print(num1, \"/\", num2, \"=\", result3)\n",
        "print(num1, \"*\", num2, \"=\", result4)\n"
      ],
      "metadata": {
        "colab": {
          "base_uri": "https://localhost:8080/"
        },
        "id": "kJfYTMwYE39-",
        "outputId": "d2f055dc-2b35-4109-8b1a-992f0e70a39a"
      },
      "execution_count": 4,
      "outputs": [
        {
          "output_type": "stream",
          "name": "stdout",
          "text": [
            "100 + 200 = 300\n",
            "100 - 200 = -100\n",
            "100 / 200 = 0.5\n",
            "100 * 200 = 20000\n"
          ]
        }
      ]
    },
    {
      "cell_type": "markdown",
      "source": [
        "input()함수 예제"
      ],
      "metadata": {
        "id": "9qz5DySPFTh9"
      }
    },
    {
      "cell_type": "code",
      "source": [
        "num1= input(\"첫번째 숫자 입력 ==>\")\n",
        "num2= int(input(\"두번째 숫자 입력 ==>\"))\n",
        "result = int(num1) + num2\n",
        "print(num1,\"+\", num2, \"=\", result)"
      ],
      "metadata": {
        "colab": {
          "base_uri": "https://localhost:8080/"
        },
        "id": "Xk-CLSR2GirP",
        "outputId": "ac7a437f-b819-4e14-a07d-d3c334039209"
      },
      "execution_count": 7,
      "outputs": [
        {
          "output_type": "stream",
          "name": "stdout",
          "text": [
            "첫번째 숫자 입력 ==>100\n",
            "두번째 숫자 입력 ==>200\n",
            "100 + 200 = 300\n"
          ]
        }
      ]
    },
    {
      "cell_type": "markdown",
      "source": [
        "* input()함수를 이용한 간단한 계산기"
      ],
      "metadata": {
        "id": "5oWgL5ztJgZ8"
      }
    },
    {
      "cell_type": "code",
      "source": [
        "print(\"** 논술형 문제~ input() 함수를 이용한 간단한 계산기**\")\n",
        "num1= float(input(\"첫번째 숫자를 입력:\"))\n",
        "num2= float(input(\"두번째 숫자를 입력\"))\n",
        "print(num1, \"+\", num2, \"=\", num1 + num2)\n",
        "print(num1, \"-\", num2, \"=\", num1 - num2)\n",
        "print(num1, \"*\", num2, \"=\", num1 * num2)\n",
        "print(num1, \"*\", num2, \"=\", num1 / num2)"
      ],
      "metadata": {
        "colab": {
          "base_uri": "https://localhost:8080/"
        },
        "id": "G3AQNHj9JA1u",
        "outputId": "f5a47fad-305d-4c06-d05a-2270442ece12"
      },
      "execution_count": 9,
      "outputs": [
        {
          "output_type": "stream",
          "name": "stdout",
          "text": [
            "** 논술형 문제~ input() 함수를 이용한 간단한 계산기**\n",
            "첫번째 숫자를 입력:100\n",
            "두번째 숫자를 입력200\n",
            "100.0 + 200.0 = 300.0\n",
            "100.0 - 200.0 = -100.0\n",
            "100.0 * 200.0 = 20000.0\n",
            "100.0 * 200.0 = 0.5\n"
          ]
        }
      ]
    }
  ]
}