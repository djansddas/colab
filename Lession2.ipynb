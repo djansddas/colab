{
  "nbformat": 4,
  "nbformat_minor": 0,
  "metadata": {
    "colab": {
      "name": "Lession2.ipynb",
      "provenance": [],
      "authorship_tag": "ABX9TyNZfPVV5GloOj1VnytOSMzq",
      "include_colab_link": true
    },
    "kernelspec": {
      "name": "python3",
      "display_name": "Python 3"
    },
    "language_info": {
      "name": "python"
    }
  },
  "cells": [
    {
      "cell_type": "markdown",
      "metadata": {
        "id": "view-in-github",
        "colab_type": "text"
      },
      "source": [
        "<a href=\"https://colab.research.google.com/github/djansddas/colab/blob/main/Lession2.ipynb\" target=\"_parent\"><img src=\"https://colab.research.google.com/assets/colab-badge.svg\" alt=\"Open In Colab\"/></a>"
      ]
    },
    {
      "cell_type": "markdown",
      "source": [
        "* 파이썬 2장\n",
        "* 변수와 input() 함수"
      ],
      "metadata": {
        "id": "uyj1u5IpBK-V"
      }
    },
    {
      "cell_type": "code",
      "execution_count": null,
      "metadata": {
        "colab": {
          "base_uri": "https://localhost:8080/"
        },
        "id": "CkiwO_6FA02b",
        "outputId": "92aaf0f6-f686-4451-a53a-df8f6714cb36"
      },
      "outputs": [
        {
          "output_type": "stream",
          "name": "stdout",
          "text": [
            "100 + 200 = 300\n",
            "100 - 200 = 300\n",
            "100 * 200 = 300\n",
            "100 / 200 = 300\n"
          ]
        }
      ],
      "source": [
        "num1= 100\n",
        "num2= 200\n",
        "result1 =num1 + num2\n",
        "result2 = num1 - num2\n",
        "result3 = num1 * num2\n",
        "result4 = num1 / num2\n",
        "print(num1, \"+\", num2, \"=\", result1)\n",
        "print(num1, \"-\", num2, \"=\", result1)\n",
        "print(num1, \"*\", num2, \"=\", result1)\n",
        "print(num1, \"/\", num2, \"=\", result1)"
      ]
    },
    {
      "cell_type": "code",
      "source": [
        "num1,num2=100,200 \n",
        "result1, result2= num1+ num2, num1 -num2\n",
        "result3, result4= num1 / num2 , num1* num2\n",
        "print(num1, \"+\", num2, \"=\", result1)\n",
        "print(num1, \"-\", num2, \"=\", result2)\n",
        "print(num1, \"/\", num2, \"=\", result3)\n",
        "print(num1, \"*\", num2, \"=\", result4)\n"
      ],
      "metadata": {
        "colab": {
          "base_uri": "https://localhost:8080/"
        },
        "id": "kJfYTMwYE39-",
        "outputId": "d2f055dc-2b35-4109-8b1a-992f0e70a39a"
      },
      "execution_count": null,
      "outputs": [
        {
          "output_type": "stream",
          "name": "stdout",
          "text": [
            "100 + 200 = 300\n",
            "100 - 200 = -100\n",
            "100 / 200 = 0.5\n",
            "100 * 200 = 20000\n"
          ]
        }
      ]
    },
    {
      "cell_type": "markdown",
      "source": [
        "input()함수 예제"
      ],
      "metadata": {
        "id": "9qz5DySPFTh9"
      }
    },
    {
      "cell_type": "code",
      "source": [
        "num1= input(\"첫번째 숫자 입력 ==>\")\n",
        "num2= int(input(\"두번째 숫자 입력 ==>\"))\n",
        "result = int(num1) + num2\n",
        "print(num1,\"+\", num2, \"=\", result)"
      ],
      "metadata": {
        "colab": {
          "base_uri": "https://localhost:8080/"
        },
        "id": "Xk-CLSR2GirP",
        "outputId": "ac7a437f-b819-4e14-a07d-d3c334039209"
      },
      "execution_count": null,
      "outputs": [
        {
          "output_type": "stream",
          "name": "stdout",
          "text": [
            "첫번째 숫자 입력 ==>100\n",
            "두번째 숫자 입력 ==>200\n",
            "100 + 200 = 300\n"
          ]
        }
      ]
    },
    {
      "cell_type": "markdown",
      "source": [
        "* input()함수를 이용한 간단한 계산기"
      ],
      "metadata": {
        "id": "5oWgL5ztJgZ8"
      }
    },
    {
      "cell_type": "code",
      "source": [
        "print(\"** 논술형 문제~ input() 함수를 이용한 간단한 계산기**\")\n",
        "num1= float(input(\"첫번째 숫자를 입력:\"))\n",
        "num2= float(input(\"두번째 숫자를 입력\"))\n",
        "print(num1, \"+\", num2, \"=\", num1 + num2)\n",
        "print(num1, \"-\", num2, \"=\", num1 - num2)\n",
        "print(num1, \"*\", num2, \"=\", num1 * num2)\n",
        "print(num1, \"*\", num2, \"=\", num1 / num2)"
      ],
      "metadata": {
        "colab": {
          "base_uri": "https://localhost:8080/"
        },
        "id": "G3AQNHj9JA1u",
        "outputId": "f5a47fad-305d-4c06-d05a-2270442ece12"
      },
      "execution_count": null,
      "outputs": [
        {
          "output_type": "stream",
          "name": "stdout",
          "text": [
            "** 논술형 문제~ input() 함수를 이용한 간단한 계산기**\n",
            "첫번째 숫자를 입력:100\n",
            "두번째 숫자를 입력200\n",
            "100.0 + 200.0 = 300.0\n",
            "100.0 - 200.0 = -100.0\n",
            "100.0 * 200.0 = 20000.0\n",
            "100.0 * 200.0 = 0.5\n"
          ]
        }
      ]
    },
    {
      "cell_type": "markdown",
      "source": [
        "문자열예제"
      ],
      "metadata": {
        "id": "F7gf2ew2OYLi"
      }
    },
    {
      "cell_type": "code",
      "source": [
        "name= input(\"이름==>\")\n",
        "tel_number = input(\"전화번호==>\")\n",
        "print(\"제 이름은\", name, \"제 연락처는\", tel_number, \"입니다,\")"
      ],
      "metadata": {
        "colab": {
          "base_uri": "https://localhost:8080/"
        },
        "id": "GC6HCiaXPrXz",
        "outputId": "37d70bf1-e90b-412c-ff16-b5a65780236c"
      },
      "execution_count": null,
      "outputs": [
        {
          "output_type": "stream",
          "name": "stdout",
          "text": [
            "이름==>이응\n",
            "전화번호==>01012311234\n",
            "제 이름은 이응 제 연락처는 01012311234 입니다,\n"
          ]
        }
      ]
    },
    {
      "cell_type": "code",
      "source": [
        "## 택배를 보내기 위한 정보를 입력하세요. ##\n",
        "name = input(\"이름==>\")\n",
        "address = input(\"주소==>\")\n",
        "gram= input(\"무게(g)==>\")"
      ],
      "metadata": {
        "colab": {
          "base_uri": "https://localhost:8080/"
        },
        "id": "71x7Ia_KRDMq",
        "outputId": "bd8ca12e-bf93-4c65-f4e9-74de692bab47"
      },
      "execution_count": null,
      "outputs": [
        {
          "name": "stdout",
          "output_type": "stream",
          "text": [
            "이름==>응\n",
            "주소==>서울 영등포구 여의도동 88\n",
            "무게==>721\n"
          ]
        }
      ]
    },
    {
      "cell_type": "code",
      "source": [
        "print(\"## 택배를 보내기 위한 정보를 입력하세요. ##\")\n",
        "personName = input(\"받는사람:\")\n",
        "presonAddr = input(\"주소:\")\n",
        "weight=int(input(\"무게(g):\"))\n",
        "\n",
        "print(\"** 받는사람 ==>\", personName)\n",
        "print(\"** 주소==>\", presonAddr)\n",
        "\n",
        "print(\"** 배송비==>\", weight * 5,\" 원\")"
      ],
      "metadata": {
        "colab": {
          "base_uri": "https://localhost:8080/"
        },
        "id": "g2gBXPauSJse",
        "outputId": "42dc4e05-e362-49fb-b2b6-8c6647129ee1"
      },
      "execution_count": 3,
      "outputs": [
        {
          "output_type": "stream",
          "name": "stdout",
          "text": [
            "## 택배를 보내기 위한 정보를 입력하세요. ##\n",
            "받는사람:dl\n",
            "주소:rud\n",
            "무게(g):100\n",
            "** 받는사람 ==> dl\n",
            "** 주소==> rud\n",
            "** 배송비==> 500  원\n"
          ]
        }
      ]
    },
    {
      "cell_type": "markdown",
      "source": [
        "수행"
      ],
      "metadata": {
        "id": "NGrIVuDzTb4l"
      }
    },
    {
      "cell_type": "code",
      "source": [
        "num1=int(input(\"숫자1==>\"))\n",
        "num2=int(input(\"숫자2==>\"))\n",
        "\n",
        "result1 = num1 + num2\n",
        "result2 = num1 - num2\n",
        "result3 = num1 * num2\n",
        "result4 = num1 / num2\n",
        "result5 = num1 % num2\n",
        "result6 = num1 ** num2\n",
        "result7 = num1 // num2\n",
        "\n",
        "print(num1 ,\"+\" ,num2,\"=\", result1)\n",
        "print(num1 ,\"-\" ,num2,\"=\", result2)\n",
        "print(num1 ,\"*\" ,num2,\"=\", result3)\n",
        "print(num1 ,\"/\" ,num2,\"=\",result4)\n",
        "print(num1 ,\"%\" ,num2,\"=\", result5)\n",
        "print(num1 ,\"**\" ,num2,\"=\", result6)\n",
        "print(num1 ,\"//\" ,num2,\"=\", result7)"
      ],
      "metadata": {
        "colab": {
          "base_uri": "https://localhost:8080/"
        },
        "id": "hlxmzVBcTR42",
        "outputId": "0d19fe20-97ca-4ecb-d33b-669b4b27e0ae"
      },
      "execution_count": null,
      "outputs": [
        {
          "output_type": "stream",
          "name": "stdout",
          "text": [
            "숫자1==>100\n",
            "숫자2==>10\n",
            "100 + 10 = 110\n",
            "100 - 10 = 90\n",
            "100 * 10 = 1000\n",
            "100 / 10 = 10.0\n",
            "100 % 10 = 0\n",
            "100 ** 10 = 100000000000000000000\n",
            "100 // 10 = 10\n"
          ]
        }
      ]
    },
    {
      "cell_type": "markdown",
      "source": [
        "거북이"
      ],
      "metadata": {
        "id": "Xw1tjXYaVNQN"
      }
    },
    {
      "cell_type": "code",
      "source": [
        "#!pip3 install ColabTurtle\n",
        "import ColabTurtle.Turtle as turtle\n",
        "\n",
        "turtle.initializeTurtle()\n",
        "turtle.forward(50)\n",
        "turtle.left(50)\n",
        "turtle.forward(50)\n",
        "turtle.left(50)\n",
        "turtle.forward(50)\n",
        "turtle.left(50)\n",
        "turtle.forward(50)\n",
        "turtle.left(50)\n",
        "turtle.forward(50)\n",
        "turtle.left(50)\n",
        "turtle.forward(50)\n",
        "turtle.left(50)\n",
        "turtle.forward(50)"
      ],
      "metadata": {
        "colab": {
          "base_uri": "https://localhost:8080/",
          "height": 520
        },
        "id": "KADT6gndVO1G",
        "outputId": "53887116-2975-4ef5-de7c-8567805acc85"
      },
      "execution_count": null,
      "outputs": [
        {
          "output_type": "display_data",
          "data": {
            "text/plain": [
              "<IPython.core.display.HTML object>"
            ],
            "text/html": [
              "\n",
              "      <svg width=\"800\" height=\"500\">\n",
              "        <rect width=\"100%\" height=\"100%\" fill=\"black\"/>\n",
              "        <line x1=\"400\" y1=\"250\" x2=\"400.0\" y2=\"200.0\" stroke-linecap=\"round\" style=\"stroke:white;stroke-width:4\"/><line x1=\"400.0\" y1=\"200.0\" x2=\"361.698\" y2=\"167.861\" stroke-linecap=\"round\" style=\"stroke:white;stroke-width:4\"/><line x1=\"361.698\" y1=\"167.861\" x2=\"312.458\" y2=\"176.543\" stroke-linecap=\"round\" style=\"stroke:white;stroke-width:4\"/><line x1=\"312.458\" y1=\"176.543\" x2=\"287.458\" y2=\"219.844\" stroke-linecap=\"round\" style=\"stroke:white;stroke-width:4\"/><line x1=\"287.458\" y1=\"219.844\" x2=\"304.559\" y2=\"266.829\" stroke-linecap=\"round\" style=\"stroke:white;stroke-width:4\"/><line x1=\"304.559\" y1=\"266.829\" x2=\"351.544\" y2=\"283.93\" stroke-linecap=\"round\" style=\"stroke:white;stroke-width:4\"/><line x1=\"351.544\" y1=\"283.93\" x2=\"394.845\" y2=\"258.93\" stroke-linecap=\"round\" style=\"stroke:white;stroke-width:4\"/>\n",
              "        <g visibility=visible transform=\"rotate(420,394.845,258.93) translate(376.845, 240.93)\">\n",
              "<path style=\" stroke:none;fill-rule:evenodd;fill:white;fill-opacity:1;\" d=\"M 18.214844 0.632812 C 16.109375 1.800781 15.011719 4.074219 15.074219 7.132812 L 15.085938 7.652344 L 14.785156 7.496094 C 13.476562 6.824219 11.957031 6.671875 10.40625 7.066406 C 8.46875 7.550781 6.515625 9.15625 4.394531 11.992188 C 3.0625 13.777344 2.679688 14.636719 3.042969 15.027344 L 3.15625 15.152344 L 3.519531 15.152344 C 4.238281 15.152344 4.828125 14.886719 8.1875 13.039062 C 9.386719 12.378906 10.371094 11.839844 10.378906 11.839844 C 10.386719 11.839844 10.355469 11.929688 10.304688 12.035156 C 9.832031 13.09375 9.257812 14.820312 8.96875 16.078125 C 7.914062 20.652344 8.617188 24.53125 11.070312 27.660156 C 11.351562 28.015625 11.363281 27.914062 10.972656 28.382812 C 8.925781 30.84375 7.945312 33.28125 8.238281 35.1875 C 8.289062 35.527344 8.28125 35.523438 8.917969 35.523438 C 10.941406 35.523438 13.074219 34.207031 15.136719 31.6875 C 15.359375 31.417969 15.328125 31.425781 15.5625 31.574219 C 16.292969 32.042969 18.023438 32.964844 18.175781 32.964844 C 18.335938 32.964844 19.941406 32.210938 20.828125 31.71875 C 20.996094 31.625 21.136719 31.554688 21.136719 31.558594 C 21.203125 31.664062 21.898438 32.414062 22.222656 32.730469 C 23.835938 34.300781 25.5625 35.132812 27.582031 35.300781 C 27.90625 35.328125 27.9375 35.308594 28.007812 34.984375 C 28.382812 33.242188 27.625 30.925781 25.863281 28.425781 L 25.542969 27.96875 L 25.699219 27.785156 C 28.945312 23.960938 29.132812 18.699219 26.257812 11.96875 L 26.207031 11.84375 L 27.945312 12.703125 C 31.53125 14.476562 32.316406 14.800781 33.03125 14.800781 C 33.976562 14.800781 33.78125 13.9375 32.472656 12.292969 C 28.519531 7.355469 25.394531 5.925781 21.921875 7.472656 L 21.558594 7.636719 L 21.578125 7.542969 C 21.699219 6.992188 21.761719 5.742188 21.699219 5.164062 C 21.496094 3.296875 20.664062 1.964844 19.003906 0.855469 C 18.480469 0.503906 18.457031 0.5 18.214844 0.632812\"/>\n",
              "</g>\n",
              "      </svg>\n",
              "    "
            ]
          },
          "metadata": {}
        }
      ]
    },
    {
      "cell_type": "code",
      "source": [],
      "metadata": {
        "id": "WZ7Reo4qYZ7U"
      },
      "execution_count": null,
      "outputs": []
    }
  ]
}