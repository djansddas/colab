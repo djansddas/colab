{
  "nbformat": 4,
  "nbformat_minor": 0,
  "metadata": {
    "colab": {
      "provenance": [],
      "authorship_tag": "ABX9TyNWTRL1mKgLdoG9GEepFC1j",
      "include_colab_link": true
    },
    "kernelspec": {
      "name": "python3",
      "display_name": "Python 3"
    },
    "language_info": {
      "name": "python"
    }
  },
  "cells": [
    {
      "cell_type": "markdown",
      "metadata": {
        "id": "view-in-github",
        "colab_type": "text"
      },
      "source": [
        "<a href=\"https://colab.research.google.com/github/djansddas/colab/blob/main/ression7.ipynb\" target=\"_parent\"><img src=\"https://colab.research.google.com/assets/colab-badge.svg\" alt=\"Open In Colab\"/></a>"
      ]
    },
    {
      "cell_type": "markdown",
      "source": [
        "for문을 활용한 리스트"
      ],
      "metadata": {
        "id": "CNAoALazE9zm"
      }
    },
    {
      "cell_type": "code",
      "execution_count": null,
      "metadata": {
        "colab": {
          "base_uri": "https://localhost:8080/"
        },
        "id": "ormQWBFXEvjg",
        "outputId": "d710df3d-dfcb-4727-dca3-a74f1be2a88d"
      },
      "outputs": [
        {
          "output_type": "stream",
          "name": "stdout",
          "text": [
            " 숫자:10\n",
            "합계==> 10\n"
          ]
        }
      ],
      "source": [
        "numlist =[]\n",
        "for i in range(0,4):\n",
        "  numlist.append(0)\n",
        "hap=0\n",
        "\n",
        "for i in range(0,4):\n",
        "  numlist[i] = int(input(\" 숫자:\"))\n",
        "\n",
        "  hap= numlist[0] + numlist[1] + numlist[2]+ numlist[3]\n",
        "\n",
        "  print(\"합계==>\", hap)\n"
      ]
    }
  ]
}