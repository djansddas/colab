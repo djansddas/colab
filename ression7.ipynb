{
  "nbformat": 4,
  "nbformat_minor": 0,
  "metadata": {
    "colab": {
      "provenance": [],
      "authorship_tag": "ABX9TyMESySZMtqnutlVhPoY7HNt",
      "include_colab_link": true
    },
    "kernelspec": {
      "name": "python3",
      "display_name": "Python 3"
    },
    "language_info": {
      "name": "python"
    }
  },
  "cells": [
    {
      "cell_type": "markdown",
      "metadata": {
        "id": "view-in-github",
        "colab_type": "text"
      },
      "source": [
        "<a href=\"https://colab.research.google.com/github/djansddas/colab/blob/main/ression7.ipynb\" target=\"_parent\"><img src=\"https://colab.research.google.com/assets/colab-badge.svg\" alt=\"Open In Colab\"/></a>"
      ]
    },
    {
      "cell_type": "markdown",
      "source": [
        "for문을 활용한 리스트"
      ],
      "metadata": {
        "id": "CNAoALazE9zm"
      }
    },
    {
      "cell_type": "code",
      "execution_count": null,
      "metadata": {
        "colab": {
          "base_uri": "https://localhost:8080/"
        },
        "id": "ormQWBFXEvjg",
        "outputId": "6cfc41e3-5fa2-47c4-8eae-abf341c32ee9"
      },
      "outputs": [
        {
          "metadata": {
            "tags": null
          },
          "name": "stdout",
          "output_type": "stream",
          "text": [
            "합계==> 10\n"
          ]
        }
      ],
      "source": [
        "numlist =[]\n",
        "for i in range(0,4):\n",
        "  numlist.append(0)\n",
        "hap=0\n",
        "\n",
        "for i in range(0,4):\n",
        "  numlist[i] = int(input(\" 숫자:\"))\n",
        "\n",
        "  hap= numlist[0] + numlist[1] + numlist[2]+ numlist[3]\n",
        "\n",
        "  print(\"합계==>\", hap)\n"
      ]
    },
    {
      "cell_type": "code",
      "source": [
        "numlist=[삶이 있는 한 희망은 있다 .,산다는것 그것은 치열한 전투이다]\n",
        "print()\n"
      ],
      "metadata": {
        "id": "fEdD0FaKJERF"
      },
      "execution_count": null,
      "outputs": []
    },
    {
      "cell_type": "code",
      "source": [
        "import random\n",
        "\n",
        "wiseSay= [\" 삶이 있는 한 희망은 있다.\"\"언제나 현재에 집중할 수 있다면 행복할 것이다.\",\"신은 용기있는 자를 결코 버리지 않는다.\",\"피할 수 없으면 즐겨라\",\"행복한 삶을 살기위해 필요한 것은 거의 없다.\",\n",
        "          \"내일은 내일의 태양이 뜬다.\",\"행복은 습관이다. 그것을 몸에 지니라.\",\"1퍼센트의 가능성, 그것이 나의 길이다.\" ]\n",
        "          today= random.randint(0,len(wiseSay)-1)\n",
        "          print(\"오늘의명언==>\", wiseSay[today])"
      ],
      "metadata": {
        "id": "2joVpRPcfK6m"
      },
      "execution_count": null,
      "outputs": []
    },
    {
      "cell_type": "code",
      "source": [
        "board.list=[ [1,2,3],\n",
        "             [4,5,6]\n",
        "             [7,8,9]]\n",
        "for x in range(3):\n",
        "\n",
        "  for y in range(3):\n",
        "    print(boardlist[x[y], end=''])\n",
        "    print()"
      ],
      "metadata": {
        "id": "nEPI-2kEf3ut"
      },
      "execution_count": null,
      "outputs": []
    }
  ]
}