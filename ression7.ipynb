{
  "nbformat": 4,
  "nbformat_minor": 0,
  "metadata": {
    "colab": {
      "provenance": [],
      "authorship_tag": "ABX9TyPkC8x3GMXxk9lCICFskZRa",
      "include_colab_link": true
    },
    "kernelspec": {
      "name": "python3",
      "display_name": "Python 3"
    },
    "language_info": {
      "name": "python"
    }
  },
  "cells": [
    {
      "cell_type": "markdown",
      "metadata": {
        "id": "view-in-github",
        "colab_type": "text"
      },
      "source": [
        "<a href=\"https://colab.research.google.com/github/djansddas/colab/blob/main/ression7.ipynb\" target=\"_parent\"><img src=\"https://colab.research.google.com/assets/colab-badge.svg\" alt=\"Open In Colab\"/></a>"
      ]
    },
    {
      "cell_type": "markdown",
      "source": [
        "for문을 활용한 리스트"
      ],
      "metadata": {
        "id": "CNAoALazE9zm"
      }
    },
    {
      "cell_type": "code",
      "execution_count": null,
      "metadata": {
        "id": "ormQWBFXEvjg"
      },
      "outputs": [],
      "source": [
        "numlist =[]\n",
        "for i in range(0,4):\n",
        "  numlist.append(0)\n",
        "hap=0\n",
        "\n",
        "for i in range(0,4):\n",
        "  numlist[i] = int(input(\" 숫자:\"))\n",
        "\n",
        "  hap= numlist[0] + numlist[1] + numlist[2]+ numlist[3]\n",
        "\n",
        "  print(\"합계==>\", hap)\n"
      ]
    },
    {
      "cell_type": "code",
      "source": [
        "import random\n",
        "\n",
        "wiseSay= [\" 삶이 있는 한 희망은 있다.\"\"언제나 현재에 집중할 수 있다면 행복할 것이다.\",\"신은 용기있는 자를 결코 버리지 않는다.\",\"피할 수 없으면 즐겨라\",\"행복한 삶을 살기위해 필요한 것은 거의 없다.\",\n",
        "          \"내일은 내일의 태양이 뜬다.\",\"행복은 습관이다. 그것을 몸에 지니라.\",\"1퍼센트의 가능성, 그것이 나의 길이다.\" ]\n",
        "          today= random.randint(0,len(wiseSay)-1)\n",
        "          print(\"오늘의명언==>\", wiseSay[today])"
      ],
      "metadata": {
        "colab": {
          "base_uri": "https://localhost:8080/",
          "height": 137
        },
        "id": "2joVpRPcfK6m",
        "outputId": "92755677-2c59-49c9-deb1-183da5de22bb"
      },
      "execution_count": 3,
      "outputs": [
        {
          "output_type": "error",
          "ename": "IndentationError",
          "evalue": "ignored",
          "traceback": [
            "\u001b[0;36m  File \u001b[0;32m\"<ipython-input-3-00daaccee310>\"\u001b[0;36m, line \u001b[0;32m5\u001b[0m\n\u001b[0;31m    today= random.randint(0,len(wiseSay)-1)\u001b[0m\n\u001b[0m    ^\u001b[0m\n\u001b[0;31mIndentationError\u001b[0m\u001b[0;31m:\u001b[0m unexpected indent\n"
          ]
        }
      ]
    },
    {
      "cell_type": "code",
      "source": [
        "boardlist=[[1,2,3],\n",
        "             [4,5,6],\n",
        "             [7,8,9]]\n",
        "for x in range(3):\n",
        "\n",
        "  for y in range(3):\n",
        "    print(boardlist[x][y])\n",
        "    print()"
      ],
      "metadata": {
        "colab": {
          "base_uri": "https://localhost:8080/"
        },
        "id": "nEPI-2kEf3ut",
        "outputId": "4095032b-7a46-416f-b9ab-4a5d510ee36c"
      },
      "execution_count": 9,
      "outputs": [
        {
          "output_type": "stream",
          "name": "stdout",
          "text": [
            "1\n",
            "\n",
            "2\n",
            "\n",
            "3\n",
            "\n",
            "4\n",
            "\n",
            "5\n",
            "\n",
            "6\n",
            "\n",
            "7\n",
            "\n",
            "8\n",
            "\n",
            "9\n",
            "\n"
          ]
        }
      ]
    },
    {
      "cell_type": "code",
      "source": [
        "boardlist=[  [1,2,3],\n",
        "             [4,5,6],\n",
        "             [7,8,9]]\n",
        "def display_board():\n",
        "  print(\"\",boardlist[0][0], \"l\", boardlist[0][1], \"l\", boardlist[0][2])\n",
        "  print(\"---+---+---\")\n",
        "  print(\"\", boardlist[1][0], \"l\", boardlist[1][1], \"l\", boardlist[1][2])\n",
        "  print(\"---+---+---\")\n",
        "  print(\"\", boardlist[2][0], \"l\", boardlist[2][1], \"l\", boardlist[2][2])\n",
        "\n",
        "  display_board()\n",
        "  user= omt(input(\"위치를 선택:\"))\n",
        "  for x in range(3):\n",
        "   for y in range(3):\n",
        "     if user == boardlist[x][y] : boardlist[x][y] = \"o\"\n",
        "     display_board()\n",
        "\n",
        "     def com_select():\n",
        "       com_select\n",
        "\n",
        "       while True:\n",
        "         display_board\n"
      ],
      "metadata": {
        "id": "D5nwwanaoyR_"
      },
      "execution_count": 6,
      "outputs": []
    },
    {
      "cell_type": "code",
      "source": [
        "from google.colab import output\n",
        "import random\n",
        "usered = [ 1,2,3,4,5,6,7,8,9]\n",
        "boardlist = [ [1,2,3], [4,5,6], [7,8,9]]\n",
        "\n",
        "def display_board():\n",
        "   print(\"\",boardlist[0][0], \"l\", boardlist[0][1], \"l\", boardlist[0][2])\n",
        "   print(\"---+---+---\")\n",
        "   print(\"\", boardlist[1][0], \"l\", boardlist[1][1], \"l\", boardlist[1][2])\n",
        "   print(\"---+---+---\")\n",
        "   print(\"\", boardlist[2][0], \"l\", boardlist[2][1], \"l\", boardlist[2][2])\n",
        "\n",
        "   def user_select():\n",
        "     user= int(input(\"위치를 선택:\"))\n",
        "     usered.remove(user)\n",
        "     for x in range(3):\n",
        "       for y in range(3):\n",
        "         if user == boardlist[x][y] :boardlist[x][y] =\"o\"\n",
        "\n",
        "         def com_select():\n",
        "           com= random.choice(usered)\n",
        "           usered.remove(com)\n",
        "           for x in range(3):\n",
        "           for y in range(3):\n",
        "             if com =boardlist[x][y] : boardlist[x][y] =\"x\"\n",
        "\n",
        "             def test(player):\n",
        "               if boardlist[0][0] == boardlist[0][1] == boardlist[0][2] == player or \\\n",
        "                  boardlist[1][0] == boardlist[1][1] == boardlist[1][2] == player or \\\n",
        "                  boardlist[2][0] == boardlist[2][1] == boardlist[2][2] == player or \\\n",
        "                  boardlist[0][0] == boardlist[1][1] == boardlist[2][2] == player or \\\n",
        "                  boardlist[0][0] == boardlist[1][0] == boardlist[2][0] == player or \\\n",
        "                  boardlist[0][1] == boardlist[1][1] == boardlist[2][1] == player or \\\n",
        "                  boardlist[0][2] == boardlist[1][2] == boardlist[2][2] == player or \\\n",
        "                  boardlist[0][2] == boardlist[1][1] == boardlist[2][1] == player:\n",
        "\n",
        "                  while True:\n",
        "                    display_board()\n",
        "                    user_select()\n",
        "                    if test(\"o\") ==\"o\":\n",
        "                      display_board()\n",
        "                      print(\"유저 승\")\n",
        "                      break\n",
        "                      output.clear()\n",
        "                      com_select()\n",
        "                      output,clear()\n",
        "                      if test(\"x\")== \"x\":\n",
        "                        display_board()\n",
        "                        print(\"컴퓨터 승\")\n",
        "                        break"
      ],
      "metadata": {
        "colab": {
          "base_uri": "https://localhost:8080/",
          "height": 137
        },
        "id": "KzaS7BVAryDp",
        "outputId": "1731d42c-3002-4798-a64d-a48ea72dcef0"
      },
      "execution_count": 13,
      "outputs": [
        {
          "output_type": "error",
          "ename": "IndentationError",
          "evalue": "ignored",
          "traceback": [
            "\u001b[0;36m  File \u001b[0;32m\"<ipython-input-13-f8f05440db88>\"\u001b[0;36m, line \u001b[0;32m24\u001b[0m\n\u001b[0;31m    for y in range(3):\u001b[0m\n\u001b[0m      ^\u001b[0m\n\u001b[0;31mIndentationError\u001b[0m\u001b[0;31m:\u001b[0m expected an indented block\n"
          ]
        }
      ]
    },
    {
      "cell_type": "code",
      "source": [],
      "metadata": {
        "id": "jJslDB3N41_l"
      },
      "execution_count": null,
      "outputs": []
    }
  ]
}