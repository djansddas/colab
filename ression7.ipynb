{
  "nbformat": 4,
  "nbformat_minor": 0,
  "metadata": {
    "colab": {
      "provenance": [],
      "authorship_tag": "ABX9TyM4E6UPYp0ouOyyKn5neDPC",
      "include_colab_link": true
    },
    "kernelspec": {
      "name": "python3",
      "display_name": "Python 3"
    },
    "language_info": {
      "name": "python"
    }
  },
  "cells": [
    {
      "cell_type": "markdown",
      "metadata": {
        "id": "view-in-github",
        "colab_type": "text"
      },
      "source": [
        "<a href=\"https://colab.research.google.com/github/djansddas/colab/blob/main/ression7.ipynb\" target=\"_parent\"><img src=\"https://colab.research.google.com/assets/colab-badge.svg\" alt=\"Open In Colab\"/></a>"
      ]
    },
    {
      "cell_type": "markdown",
      "source": [
        "for문을 활용한 리스트"
      ],
      "metadata": {
        "id": "CNAoALazE9zm"
      }
    },
    {
      "cell_type": "code",
      "execution_count": null,
      "metadata": {
        "id": "ormQWBFXEvjg"
      },
      "outputs": [],
      "source": [
        "numlist =[]\n",
        "for i in range(0,4):\n",
        "  numlist.append(0)\n",
        "hap=0\n",
        "\n",
        "for i in range(0,4):\n",
        "  numlist[i] = int(input(\" 숫자:\"))\n",
        "\n",
        "  hap= numlist[0] + numlist[1] + numlist[2]+ numlist[3]\n",
        "\n",
        "  print(\"합계==>\", hap)\n"
      ]
    },
    {
      "cell_type": "code",
      "source": [
        "import random\n",
        "\n",
        "wiseSay= [\" 삶이 있는 한 희망은 있다.\"\"언제나 현재에 집중할 수 있다면 행복할 것이다.\",\"신은 용기있는 자를 결코 버리지 않는다.\",\"피할 수 없으면 즐겨라\",\"행복한 삶을 살기위해 필요한 것은 거의 없다.\",\n",
        "          \"내일은 내일의 태양이 뜬다.\",\"행복은 습관이다. 그것을 몸에 지니라.\",\"1퍼센트의 가능성, 그것이 나의 길이다.\" ]\n",
        "          today= random.randint(0,len(wiseSay)-1)\n",
        "          print(\"오늘의명언==>\", wiseSay[today])"
      ],
      "metadata": {
        "colab": {
          "base_uri": "https://localhost:8080/",
          "height": 137
        },
        "id": "2joVpRPcfK6m",
        "outputId": "92755677-2c59-49c9-deb1-183da5de22bb"
      },
      "execution_count": null,
      "outputs": [
        {
          "output_type": "error",
          "ename": "IndentationError",
          "evalue": "ignored",
          "traceback": [
            "\u001b[0;36m  File \u001b[0;32m\"<ipython-input-3-00daaccee310>\"\u001b[0;36m, line \u001b[0;32m5\u001b[0m\n\u001b[0;31m    today= random.randint(0,len(wiseSay)-1)\u001b[0m\n\u001b[0m    ^\u001b[0m\n\u001b[0;31mIndentationError\u001b[0m\u001b[0;31m:\u001b[0m unexpected indent\n"
          ]
        }
      ]
    },
    {
      "cell_type": "code",
      "source": [
        "boardlist=[[1,2,3],\n",
        "             [4,5,6],\n",
        "             [7,8,9]]\n",
        "for x in range(3):\n",
        "\n",
        "  for y in range(3):\n",
        "    print(boardlist[x][y])\n",
        "    print()"
      ],
      "metadata": {
        "colab": {
          "base_uri": "https://localhost:8080/"
        },
        "id": "nEPI-2kEf3ut",
        "outputId": "4095032b-7a46-416f-b9ab-4a5d510ee36c"
      },
      "execution_count": null,
      "outputs": [
        {
          "output_type": "stream",
          "name": "stdout",
          "text": [
            "1\n",
            "\n",
            "2\n",
            "\n",
            "3\n",
            "\n",
            "4\n",
            "\n",
            "5\n",
            "\n",
            "6\n",
            "\n",
            "7\n",
            "\n",
            "8\n",
            "\n",
            "9\n",
            "\n"
          ]
        }
      ]
    },
    {
      "cell_type": "code",
      "source": [
        "boardlist=[  [1,2,3],\n",
        "             [4,5,6],\n",
        "             [7,8,9]]\n",
        "def display_board():\n",
        "  print(\"\",boardlist[0][0], \"l\", boardlist[0][1], \"l\", boardlist[0][2])\n",
        "  print(\"---+---+---\")\n",
        "  print(\"\", boardlist[1][0], \"l\", boardlist[1][1], \"l\", boardlist[1][2])\n",
        "  print(\"---+---+---\")\n",
        "  print(\"\", boardlist[2][0], \"l\", boardlist[2][1], \"l\", boardlist[2][2])\n",
        "\n",
        "  display_board()\n",
        "  user= omt(input(\"위치를 선택:\"))\n",
        "  for x in range(3):\n",
        "   for y in range(3):\n",
        "     if user == boardlist[x][y] : boardlist[x][y] = \"o\"\n",
        "     display_board()\n",
        "\n",
        "     def com_select():\n",
        "       com_select\n",
        "\n",
        "       while True:\n",
        "         display_board\n"
      ],
      "metadata": {
        "id": "D5nwwanaoyR_"
      },
      "execution_count": null,
      "outputs": []
    },
    {
      "cell_type": "code",
      "source": [
        "from google.colab import output\n",
        "import random\n",
        "usered = [ 1,2,3,4,5,6,7,8,9]\n",
        "boardlist = [ [1,2,3], [4,5,6], [7,8,9]]\n",
        "\n",
        "def display_board():\n",
        "   print(\"\",boardlist[0][0], \"l\", boardlist[0][1], \"l\", boardlist[0][2])\n",
        "   print(\"---+---+---\")\n",
        "   print(\"\", boardlist[1][0], \"l\", boardlist[1][1], \"l\", boardlist[1][2])\n",
        "   print(\"---+---+---\")\n",
        "   print(\"\", boardlist[2][0], \"l\", boardlist[2][1], \"l\", boardlist[2][2])\n",
        "\n",
        "   def user_select():\n",
        "     user= int(input(\"위치를 선택:\"))\n",
        "     usered.remove(user)\n",
        "     for x in range(3):\n",
        "       for y in range(3):\n",
        "         if user == boardlist[x][y] :boardlist[x][y] =\"o\"\n",
        "\n",
        "         def com_select():\n",
        "           com= random.choice(usered)\n",
        "           usered.remove(com)\n",
        "           for x in range(3):\n",
        "           for y in range(3):\n",
        "             if com =boardlist[x][y] : boardlist[x][y] =\"x\"\n",
        "\n",
        "             def test(player):\n",
        "               if boardlist[0][0] == boardlist[0][1] == boardlist[0][2] == player or \\\n",
        "                  boardlist[1][0] == boardlist[1][1] == boardlist[1][2] == player or \\\n",
        "                  boardlist[2][0] == boardlist[2][1] == boardlist[2][2] == player or \\\n",
        "                  boardlist[0][0] == boardlist[1][1] == boardlist[2][2] == player or \\\n",
        "                  boardlist[0][0] == boardlist[1][0] == boardlist[2][0] == player or \\\n",
        "                  boardlist[0][1] == boardlist[1][1] == boardlist[2][1] == player or \\\n",
        "                  boardlist[0][2] == boardlist[1][2] == boardlist[2][2] == player or \\\n",
        "                  boardlist[0][2] == boardlist[1][1] == boardlist[2][1] == player:\n",
        "\n",
        "                  while True:\n",
        "                    display_board()\n",
        "                    user_select()\n",
        "                    if test(\"o\") ==\"o\":\n",
        "                      display_board()\n",
        "                      print(\"유저 승\")\n",
        "                      break\n",
        "                      elif len(usered)==0:\n",
        "                      print(\"비겼다.\")                      output.clear()\n",
        "                      com_select()\n",
        "                      output,clear()\n",
        "                      if test(\"x\")== \"x\":\n",
        "                        display_board()\n",
        "                        print(\"컴퓨터 승\")\n",
        "                        break\n",
        "                        elif len(usered)==0:\n",
        "                          print(\"비겼다.\")\n",
        "                          break"
      ],
      "metadata": {
        "colab": {
          "base_uri": "https://localhost:8080/",
          "height": 137
        },
        "id": "KzaS7BVAryDp",
        "outputId": "1731d42c-3002-4798-a64d-a48ea72dcef0"
      },
      "execution_count": null,
      "outputs": [
        {
          "output_type": "error",
          "ename": "IndentationError",
          "evalue": "ignored",
          "traceback": [
            "\u001b[0;36m  File \u001b[0;32m\"<ipython-input-13-f8f05440db88>\"\u001b[0;36m, line \u001b[0;32m24\u001b[0m\n\u001b[0;31m    for y in range(3):\u001b[0m\n\u001b[0m      ^\u001b[0m\n\u001b[0;31mIndentationError\u001b[0m\u001b[0;31m:\u001b[0m expected an indented block\n"
          ]
        }
      ]
    },
    {
      "cell_type": "markdown",
      "source": [
        "리스트, 튜플 ,딕셔너리 \n",
        "[] 리스트 , () 튜플 ,"
      ],
      "metadata": {
        "id": "5Lq2ne-0Sd7X"
      }
    },
    {
      "cell_type": "code",
      "source": [
        "numlist =[]\n",
        "for i in range(0,4) :\n",
        "  numlist.append(0)\n",
        "  hap=0\n",
        "\n",
        "for i in range(0,4) :\n",
        "    numlist[i] =int(input( \"숫자:\"))\n",
        "\n",
        "hap= numlist[0] + numlist[1] + numlist[2] + numlist[3]\n",
        "\n",
        "print(\"합계 ==>\", hap)\n"
      ],
      "metadata": {
        "id": "jJslDB3N41_l",
        "colab": {
          "base_uri": "https://localhost:8080/"
        },
        "outputId": "667139dc-e2cb-4e37-9173-40008ec75be3"
      },
      "execution_count": 4,
      "outputs": [
        {
          "output_type": "stream",
          "name": "stdout",
          "text": [
            "숫자:10\n",
            "숫자:10\n",
            "숫자:10\n",
            "숫자:10\n",
            "합계 ==> 40\n"
          ]
        }
      ]
    },
    {
      "cell_type": "code",
      "source": [
        "from os import supports_follow_symlinks\n",
        "score = [0,0,0,0,0]\n",
        "print(\"김안공 선수 경기가 끝났습니다.~ 짝짝짝\")\n",
        "\n",
        "for i in range(0,5) :\n",
        "  score[1] = int(input(\"평가 점수 ==>\"))\n",
        "  sum = sum + score[i]\n",
        "avg= supports_follow_symlinks / 5\n",
        "print(\"심사위원의 평균 점수==>\", avg)"
      ],
      "metadata": {
        "colab": {
          "base_uri": "https://localhost:8080/",
          "height": 284
        },
        "id": "2aArD48qXETd",
        "outputId": "bc88a02d-983a-48c5-ab1e-168575028959"
      },
      "execution_count": 6,
      "outputs": [
        {
          "name": "stdout",
          "output_type": "stream",
          "text": [
            "김안공 선수 경기가 끝났습니다.~ 짝짝짝\n",
            "평가 점수 ==>10\n"
          ]
        },
        {
          "output_type": "error",
          "ename": "TypeError",
          "evalue": "ignored",
          "traceback": [
            "\u001b[0;31m---------------------------------------------------------------------------\u001b[0m",
            "\u001b[0;31mTypeError\u001b[0m                                 Traceback (most recent call last)",
            "\u001b[0;32m<ipython-input-6-2630d9352f7e>\u001b[0m in \u001b[0;36m<module>\u001b[0;34m\u001b[0m\n\u001b[1;32m      4\u001b[0m \u001b[0;32mfor\u001b[0m \u001b[0mi\u001b[0m \u001b[0;32min\u001b[0m \u001b[0mrange\u001b[0m\u001b[0;34m(\u001b[0m\u001b[0;36m0\u001b[0m\u001b[0;34m,\u001b[0m\u001b[0;36m5\u001b[0m\u001b[0;34m)\u001b[0m \u001b[0;34m:\u001b[0m\u001b[0;34m\u001b[0m\u001b[0;34m\u001b[0m\u001b[0m\n\u001b[1;32m      5\u001b[0m   \u001b[0mscore\u001b[0m\u001b[0;34m[\u001b[0m\u001b[0;36m1\u001b[0m\u001b[0;34m]\u001b[0m \u001b[0;34m=\u001b[0m \u001b[0mint\u001b[0m\u001b[0;34m(\u001b[0m\u001b[0minput\u001b[0m\u001b[0;34m(\u001b[0m\u001b[0;34m\"평가 점수 ==>\"\u001b[0m\u001b[0;34m)\u001b[0m\u001b[0;34m)\u001b[0m\u001b[0;34m\u001b[0m\u001b[0;34m\u001b[0m\u001b[0m\n\u001b[0;32m----> 6\u001b[0;31m   \u001b[0msum\u001b[0m \u001b[0;34m=\u001b[0m \u001b[0msum\u001b[0m \u001b[0;34m+\u001b[0m \u001b[0mscore\u001b[0m\u001b[0;34m[\u001b[0m\u001b[0mi\u001b[0m\u001b[0;34m]\u001b[0m\u001b[0;34m\u001b[0m\u001b[0;34m\u001b[0m\u001b[0m\n\u001b[0m\u001b[1;32m      7\u001b[0m \u001b[0mavg\u001b[0m\u001b[0;34m=\u001b[0m \u001b[0msum\u001b[0m \u001b[0;34m/\u001b[0m \u001b[0;36m5\u001b[0m\u001b[0;34m\u001b[0m\u001b[0;34m\u001b[0m\u001b[0m\n\u001b[1;32m      8\u001b[0m \u001b[0mprint\u001b[0m\u001b[0;34m(\u001b[0m\u001b[0;34m\"심사위원의 평균 점수==>\"\u001b[0m\u001b[0;34m,\u001b[0m \u001b[0mavg\u001b[0m\u001b[0;34m)\u001b[0m\u001b[0;34m\u001b[0m\u001b[0;34m\u001b[0m\u001b[0m\n",
            "\u001b[0;31mTypeError\u001b[0m: unsupported operand type(s) for +: 'builtin_function_or_method' and 'int'"
          ]
        }
      ]
    },
    {
      "cell_type": "code",
      "source": [
        "import random\n",
        "\n",
        "for i in range(0, 10000) :\n",
        "  rock_paper_scissors = m[\"가위\",\"바위\",\"보\"]\n",
        "  comA=random.choice(rook_paper_scissors)\n",
        "  comB=random.choice(rook_paper_scissors)\n",
        "  if comA= comB :\n",
        "    score.append(\"비김\")\n",
        "  elif (comA== \"가위\" and comB == \"보\") or \\\n",
        "       (comA== \"바위\" and comB == \"가위\") or \\\n",
        "       (comA== \"보\" and comB == \"바위\") :\n",
        "       score.append(\"comA\")\n",
        "  else :\n",
        "    score.append(\"comB\")\n",
        "print(\"10000번 중 컴퓨터 A의 승리 : \", score.count(\"comA\"))\n",
        "print(\"10000번 중 컴퓨터 B의 승리 : \", score.count(\"comB\"))\n",
        "print(\"10000번 중 비긴 경기 :\", score.count(\"비김\"))\n",
        "#print(score.count(\"comA\") + score.count(\"comB\") + score.count(\"비김\"))"
      ],
      "metadata": {
        "colab": {
          "base_uri": "https://localhost:8080/",
          "height": 137
        },
        "id": "kxEI4KOFf5Kg",
        "outputId": "6e50dd0a-36d8-432c-f786-afd8d072bac9"
      },
      "execution_count": 13,
      "outputs": [
        {
          "output_type": "error",
          "ename": "SyntaxError",
          "evalue": "ignored",
          "traceback": [
            "\u001b[0;36m  File \u001b[0;32m\"<ipython-input-13-990676458013>\"\u001b[0;36m, line \u001b[0;32m7\u001b[0m\n\u001b[0;31m    if comA= comB :\u001b[0m\n\u001b[0m           ^\u001b[0m\n\u001b[0;31mSyntaxError\u001b[0m\u001b[0;31m:\u001b[0m invalid syntax\n"
          ]
        }
      ]
    },
    {
      "cell_type": "code",
      "source": [],
      "metadata": {
        "id": "HtSu0jI_hJ8H"
      },
      "execution_count": null,
      "outputs": []
    }
  ]
}