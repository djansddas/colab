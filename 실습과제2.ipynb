{
  "nbformat": 4,
  "nbformat_minor": 0,
  "metadata": {
    "colab": {
      "provenance": [],
      "authorship_tag": "ABX9TyNcms7sDInjpMwbmKpy8bsz",
      "include_colab_link": true
    },
    "kernelspec": {
      "name": "python3",
      "display_name": "Python 3"
    },
    "language_info": {
      "name": "python"
    }
  },
  "cells": [
    {
      "cell_type": "markdown",
      "metadata": {
        "id": "view-in-github",
        "colab_type": "text"
      },
      "source": [
        "<a href=\"https://colab.research.google.com/github/djansddas/colab/blob/main/%EC%8B%A4%EC%8A%B5%EA%B3%BC%EC%A0%9C2.ipynb\" target=\"_parent\"><img src=\"https://colab.research.google.com/assets/colab-badge.svg\" alt=\"Open In Colab\"/></a>"
      ]
    },
    {
      "cell_type": "code",
      "execution_count": 5,
      "metadata": {
        "colab": {
          "base_uri": "https://localhost:8080/"
        },
        "id": "uMbEXrQVJLya",
        "outputId": "bde729da-4be9-4ba8-b6ca-1cd1df34cafc"
      },
      "outputs": [
        {
          "output_type": "stream",
          "name": "stdout",
          "text": [
            "숫자를 입력:1773\n",
            "홀수입니다.\n"
          ]
        }
      ],
      "source": [
        "num =int(input(\"숫자를 입력:\"))\n",
        "if(num % 2)==0:\n",
        "  print(\"짝수입니다.\")\n",
        "else:\n",
        "    print(\"홀수입니다.\")"
      ]
    },
    {
      "cell_type": "code",
      "source": [
        "num = int(input(\"숫자를 입력==>\"))\n",
        "if num > 100:\n",
        "  if num < 1000:\n",
        "    print(\"100보다 크고 1000보다 작습니다.\")\n",
        "  else :\n",
        "    print(num, \"1000보다 큽니다.\")\n",
        "else :\n",
        "  print(\"와 100보다 작아요.\")"
      ],
      "metadata": {
        "colab": {
          "base_uri": "https://localhost:8080/"
        },
        "id": "JKzzvccUKH1M",
        "outputId": "eda8fe34-b656-4a42-ca62-ecfbce0611b6"
      },
      "execution_count": 7,
      "outputs": [
        {
          "output_type": "stream",
          "name": "stdout",
          "text": [
            "숫자를 입력==>50\n",
            "와 100보다 작아요.\n"
          ]
        }
      ]
    },
    {
      "cell_type": "code",
      "source": [
        "score = int(input(\"점수를 입력하세요==>.\"))\n",
        "\n",
        "if score >= 90:\n",
        "  print(\"A학점입니다.\", end='')\n",
        "else:\n",
        "    if score >= 80:\n",
        "      print(\"B학점입니다.\", end='')\n",
        "    else:\n",
        "        if score >= 70:\n",
        "          print(\"C학점입니다\", end='')\n",
        "        else:\n",
        "            if score >= 60:\n",
        "              print(\"D학점입니다\", end='')\n",
        "            else:\n",
        "                print(\"F\", end='')\n",
        "                print(\"학점입니다.\")"
      ],
      "metadata": {
        "colab": {
          "base_uri": "https://localhost:8080/"
        },
        "id": "vOSIIXjqKh9M",
        "outputId": "47fb8bce-a39f-4ed1-8a49-21c6dc53217a"
      },
      "execution_count": 10,
      "outputs": [
        {
          "output_type": "stream",
          "name": "stdout",
          "text": [
            "점수를 입력하세요==>.77\n",
            "C학점입니다"
          ]
        }
      ]
    },
    {
      "cell_type": "code",
      "source": [],
      "metadata": {
        "id": "QwKokOZwLF0d"
      },
      "execution_count": null,
      "outputs": []
    }
  ]
}