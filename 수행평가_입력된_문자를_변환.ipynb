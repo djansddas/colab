{
  "nbformat": 4,
  "nbformat_minor": 0,
  "metadata": {
    "colab": {
      "provenance": [],
      "authorship_tag": "ABX9TyPUdU0sAm8BaejMa+6iucm1",
      "include_colab_link": true
    },
    "kernelspec": {
      "name": "python3",
      "display_name": "Python 3"
    },
    "language_info": {
      "name": "python"
    }
  },
  "cells": [
    {
      "cell_type": "markdown",
      "metadata": {
        "id": "view-in-github",
        "colab_type": "text"
      },
      "source": [
        "<a href=\"https://colab.research.google.com/github/djansddas/colab/blob/main/%EC%88%98%ED%96%89%ED%8F%89%EA%B0%80_%EC%9E%85%EB%A0%A5%EB%90%9C_%EB%AC%B8%EC%9E%90%EB%A5%BC_%EB%B3%80%ED%99%98.ipynb\" target=\"_parent\"><img src=\"https://colab.research.google.com/assets/colab-badge.svg\" alt=\"Open In Colab\"/></a>"
      ]
    },
    {
      "cell_type": "code",
      "execution_count": 1,
      "metadata": {
        "colab": {
          "base_uri": "https://localhost:8080/"
        },
        "id": "XnvvZbmyk0_G",
        "outputId": "ba293c4a-b5c4-4f14-b1c8-fb0d441f2a2e"
      },
      "outputs": [
        {
          "output_type": "stream",
          "name": "stdout",
          "text": [
            "문자열 입력:asd\n",
            "입력된 문자열을 대문자로 변환: ASD\n",
            "입력된 문자열을 소문자로 변환: asd\n"
          ]
        }
      ],
      "source": [
        "str1=input(\"문자열 입력:\")\n",
        "print(\"입력된 문자열을 대문자로 변환:\", str1.upper())\n",
        "print(\"입력된 문자열을 소문자로 변환:\", str1.lower())"
      ]
    }
  ]
}