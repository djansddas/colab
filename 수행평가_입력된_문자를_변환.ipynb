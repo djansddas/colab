{
  "nbformat": 4,
  "nbformat_minor": 0,
  "metadata": {
    "colab": {
      "provenance": [],
      "authorship_tag": "ABX9TyPkWZFEyaYKX7Ojb0ZXfT1J",
      "include_colab_link": true
    },
    "kernelspec": {
      "name": "python3",
      "display_name": "Python 3"
    },
    "language_info": {
      "name": "python"
    }
  },
  "cells": [
    {
      "cell_type": "markdown",
      "metadata": {
        "id": "view-in-github",
        "colab_type": "text"
      },
      "source": [
        "<a href=\"https://colab.research.google.com/github/djansddas/colab/blob/main/%EC%88%98%ED%96%89%ED%8F%89%EA%B0%80_%EC%9E%85%EB%A0%A5%EB%90%9C_%EB%AC%B8%EC%9E%90%EB%A5%BC_%EB%B3%80%ED%99%98.ipynb\" target=\"_parent\"><img src=\"https://colab.research.google.com/assets/colab-badge.svg\" alt=\"Open In Colab\"/></a>"
      ]
    },
    {
      "cell_type": "code",
      "execution_count": 1,
      "metadata": {
        "colab": {
          "base_uri": "https://localhost:8080/"
        },
        "id": "XnvvZbmyk0_G",
        "outputId": "ba293c4a-b5c4-4f14-b1c8-fb0d441f2a2e"
      },
      "outputs": [
        {
          "output_type": "stream",
          "name": "stdout",
          "text": [
            "문자열 입력:asd\n",
            "입력된 문자열을 대문자로 변환: ASD\n",
            "입력된 문자열을 소문자로 변환: asd\n"
          ]
        }
      ],
      "source": [
        "str1=input(\"문자열 입력:\")\n",
        "print(\"입력된 문자열을 대문자로 변환:\", str1.upper())\n",
        "print(\"입력된 문자열을 소문자로 변환:\", str1.lower())"
      ]
    },
    {
      "cell_type": "code",
      "source": [
        "text=\"Python\"\n",
        "change_text =text[0].lower()+ text[1].upper() + text[2].upper() + text[3]. upper() + \\\n",
        "text[4].upper() + text[5].upper()\n",
        "print(\"원본 문자열 ==>\", text)\n",
        "print(\"변환 문자열 ==>\", change_text)"
      ],
      "metadata": {
        "colab": {
          "base_uri": "https://localhost:8080/"
        },
        "id": "tSSd2jGuln3b",
        "outputId": "817df6c1-a1e8-4505-83c1-e009eeb42c17"
      },
      "execution_count": 2,
      "outputs": [
        {
          "output_type": "stream",
          "name": "stdout",
          "text": [
            "원본 문자열 ==> Python\n",
            "변환 문자열 ==> pYTHON\n"
          ]
        }
      ]
    }
  ]
}