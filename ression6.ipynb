{
  "nbformat": 4,
  "nbformat_minor": 0,
  "metadata": {
    "colab": {
      "provenance": [],
      "authorship_tag": "ABX9TyN9gSsMNlhgbttxTdeTdU1D",
      "include_colab_link": true
    },
    "kernelspec": {
      "name": "python3",
      "display_name": "Python 3"
    },
    "language_info": {
      "name": "python"
    }
  },
  "cells": [
    {
      "cell_type": "markdown",
      "metadata": {
        "id": "view-in-github",
        "colab_type": "text"
      },
      "source": [
        "<a href=\"https://colab.research.google.com/github/djansddas/colab/blob/main/ression6.ipynb\" target=\"_parent\"><img src=\"https://colab.research.google.com/assets/colab-badge.svg\" alt=\"Open In Colab\"/></a>"
      ]
    },
    {
      "cell_type": "markdown",
      "source": [
        "소스코드"
      ],
      "metadata": {
        "id": "5FM2EOa3KmyT"
      }
    },
    {
      "cell_type": "code",
      "source": [],
      "metadata": {
        "id": "SKsmPFkL3mEe"
      },
      "execution_count": null,
      "outputs": []
    },
    {
      "cell_type": "code",
      "execution_count": null,
      "metadata": {
        "colab": {
          "base_uri": "https://localhost:8080/"
        },
        "id": "Ml_hFYTGKfEg",
        "outputId": "345039b1-a501-4220-97a0-701eb650e0ba"
      },
      "outputs": [
        {
          "output_type": "stream",
          "name": "stdout",
          "text": [
            "A,B,C,D,E 학생들을 순서대로 세우는 경우의 수: 1\n",
            "A,B,C,D,E 학생들을 순서대로 세우는 경우의 수: 2\n",
            "A,B,C,D,E 학생들을 순서대로 세우는 경우의 수: 6\n",
            "A,B,C,D,E 학생들을 순서대로 세우는 경우의 수: 24\n",
            "A,B,C,D,E 학생들을 순서대로 세우는 경우의 수: 120\n"
          ]
        }
      ],
      "source": [
        "fact=1\n",
        "friends_num=5\n",
        "\n",
        "for i in range(1,friends_num+1,1):\n",
        "  fact=fact*i\n",
        "  print(\"A,B,C,D,E 학생들을 순서대로 세우는 경우의 수:\", fact)"
      ]
    },
    {
      "cell_type": "markdown",
      "source": [
        "펙토리얼"
      ],
      "metadata": {
        "id": "ndWgguItNgPX"
      }
    },
    {
      "cell_type": "code",
      "source": [
        "fact=1\n",
        "\n",
        "for i in range(1,6,1) : \n",
        "  fact=fact*i\n",
        "  print(fact)"
      ],
      "metadata": {
        "colab": {
          "base_uri": "https://localhost:8080/"
        },
        "id": "iKvHLEf8NgoN",
        "outputId": "b4c33c3f-95ad-4964-9996-d658daf316ce"
      },
      "execution_count": null,
      "outputs": [
        {
          "output_type": "stream",
          "name": "stdout",
          "text": [
            "1\n",
            "2\n",
            "6\n",
            "24\n",
            "120\n"
          ]
        }
      ]
    },
    {
      "cell_type": "markdown",
      "source": [
        "for문 활용"
      ],
      "metadata": {
        "id": "q5mwvDnxPkUH"
      }
    },
    {
      "cell_type": "code",
      "source": [
        "i,hap=0,0\n",
        "\n",
        "for i in range(1001,2001,2):\n",
        "  hap+=i\n",
        "\n",
        "  print(\"1000에서 2000까지의 홀수의 합:\", hap)\n",
        "  "
      ],
      "metadata": {
        "id": "6sc-ANjDPkc9"
      },
      "execution_count": null,
      "outputs": []
    },
    {
      "cell_type": "markdown",
      "source": [
        "중첩 for 문\n"
      ],
      "metadata": {
        "id": "jBuN6joVP-Nt"
      }
    },
    {
      "cell_type": "code",
      "source": [
        "for i in range(3):\n",
        "  for k in range(2):\n",
        "    print(\"난생처음은 쉽습니다.^^(i값:\",i,\",k값:\",k,\")\")"
      ],
      "metadata": {
        "colab": {
          "base_uri": "https://localhost:8080/"
        },
        "id": "oN25D5u2P9_w",
        "outputId": "9113e09d-2964-4fea-978d-283cb3d62cb5"
      },
      "execution_count": null,
      "outputs": [
        {
          "output_type": "stream",
          "name": "stdout",
          "text": [
            "난생처음은 쉽습니다.^^(i값: 0 ,k값: 0 )\n",
            "난생처음은 쉽습니다.^^(i값: 0 ,k값: 1 )\n",
            "난생처음은 쉽습니다.^^(i값: 1 ,k값: 0 )\n",
            "난생처음은 쉽습니다.^^(i값: 1 ,k값: 1 )\n",
            "난생처음은 쉽습니다.^^(i값: 2 ,k값: 0 )\n",
            "난생처음은 쉽습니다.^^(i값: 2 ,k값: 1 )\n"
          ]
        }
      ]
    },
    {
      "cell_type": "code",
      "source": [
        "for i in range(2,10):\n",
        "  for k in range(1,10):\n",
        "    print(i,\"x\",k,\"=\",i*k)\n",
        "  print(\"\")"
      ],
      "metadata": {
        "colab": {
          "base_uri": "https://localhost:8080/"
        },
        "id": "JqcSNpriUJeP",
        "outputId": "ce5908c9-a5d6-489b-a93e-950eec69ff91"
      },
      "execution_count": null,
      "outputs": [
        {
          "output_type": "stream",
          "name": "stdout",
          "text": [
            "2 x 1 = 2\n",
            "2 x 2 = 4\n",
            "2 x 3 = 6\n",
            "2 x 4 = 8\n",
            "2 x 5 = 10\n",
            "2 x 6 = 12\n",
            "2 x 7 = 14\n",
            "2 x 8 = 16\n",
            "2 x 9 = 18\n",
            "\n",
            "3 x 1 = 3\n",
            "3 x 2 = 6\n",
            "3 x 3 = 9\n",
            "3 x 4 = 12\n",
            "3 x 5 = 15\n",
            "3 x 6 = 18\n",
            "3 x 7 = 21\n",
            "3 x 8 = 24\n",
            "3 x 9 = 27\n",
            "\n",
            "4 x 1 = 4\n",
            "4 x 2 = 8\n",
            "4 x 3 = 12\n",
            "4 x 4 = 16\n",
            "4 x 5 = 20\n",
            "4 x 6 = 24\n",
            "4 x 7 = 28\n",
            "4 x 8 = 32\n",
            "4 x 9 = 36\n",
            "\n",
            "5 x 1 = 5\n",
            "5 x 2 = 10\n",
            "5 x 3 = 15\n",
            "5 x 4 = 20\n",
            "5 x 5 = 25\n",
            "5 x 6 = 30\n",
            "5 x 7 = 35\n",
            "5 x 8 = 40\n",
            "5 x 9 = 45\n",
            "\n",
            "6 x 1 = 6\n",
            "6 x 2 = 12\n",
            "6 x 3 = 18\n",
            "6 x 4 = 24\n",
            "6 x 5 = 30\n",
            "6 x 6 = 36\n",
            "6 x 7 = 42\n",
            "6 x 8 = 48\n",
            "6 x 9 = 54\n",
            "\n",
            "7 x 1 = 7\n",
            "7 x 2 = 14\n",
            "7 x 3 = 21\n",
            "7 x 4 = 28\n",
            "7 x 5 = 35\n",
            "7 x 6 = 42\n",
            "7 x 7 = 49\n",
            "7 x 8 = 56\n",
            "7 x 9 = 63\n",
            "\n",
            "8 x 1 = 8\n",
            "8 x 2 = 16\n",
            "8 x 3 = 24\n",
            "8 x 4 = 32\n",
            "8 x 5 = 40\n",
            "8 x 6 = 48\n",
            "8 x 7 = 56\n",
            "8 x 8 = 64\n",
            "8 x 9 = 72\n",
            "\n",
            "9 x 1 = 9\n",
            "9 x 2 = 18\n",
            "9 x 3 = 27\n",
            "9 x 4 = 36\n",
            "9 x 5 = 45\n",
            "9 x 6 = 54\n",
            "9 x 7 = 63\n",
            "9 x 8 = 72\n",
            "9 x 9 = 81\n",
            "\n"
          ]
        }
      ]
    },
    {
      "cell_type": "code",
      "source": [
        "for i in range(0,3,1):\n",
        "  print(i,\": 난생처음 파이썬은 재미있습니다.^^\")\n",
        "\n",
        "  "
      ],
      "metadata": {
        "id": "vDRrbC7FWaVm"
      },
      "execution_count": null,
      "outputs": []
    },
    {
      "cell_type": "markdown",
      "source": [
        "while문의 무한 반복"
      ],
      "metadata": {
        "id": "aPeOw1tcXU9w"
      }
    },
    {
      "cell_type": "code",
      "source": [
        "hap=0\n",
        "num1,num2=0,0\n",
        "while True:\n",
        "  num1=int(input(\"숫자1==>\"))\n",
        "  num2=int(input(\"숫자2==>\"))\n",
        "\n",
        "  hap=num1+num2\n",
        "  print(num1,\"+\",num2,\"=, hap\")\n",
        "\n",
        "  break"
      ],
      "metadata": {
        "colab": {
          "base_uri": "https://localhost:8080/"
        },
        "id": "6w9EhLkUXRKT",
        "outputId": "1570637a-9338-4f87-a640-e63f7f6ab856"
      },
      "execution_count": null,
      "outputs": [
        {
          "output_type": "stream",
          "name": "stdout",
          "text": [
            "숫자1==>1\n",
            "숫자2==>1\n",
            "1 + 1 =, hap\n"
          ]
        }
      ]
    },
    {
      "cell_type": "code",
      "source": [
        "while True:\n",
        "  num1=float(input(\"숫자1==>\"))\n",
        "  if num1"
      ],
      "metadata": {
        "id": "B9UkOt3oXfv4"
      },
      "execution_count": null,
      "outputs": []
    },
    {
      "cell_type": "code",
      "source": [
        "import random\n",
        "\n",
        "count=0\n",
        "while True:\n",
        "r1= random.randint(1,6)\n",
        "r2= random.randint(1,6)\n",
        "r3= random.randint(1,6)\n",
        "count=count+1\n",
        "if r1=r2==r3:\n",
        "  print(\"3개의 주사위는 모두\",r1,\"입니다.\")\n",
        "  print(\"같은 숫자가 나오기까지 \",count,\"번 던졌습니다.\")"
      ],
      "metadata": {
        "colab": {
          "base_uri": "https://localhost:8080/",
          "height": 137
        },
        "id": "DV-9FNnSY7gP",
        "outputId": "9a89a62f-cdde-4938-82a8-5a8274e039be"
      },
      "execution_count": null,
      "outputs": [
        {
          "output_type": "error",
          "ename": "IndentationError",
          "evalue": "ignored",
          "traceback": [
            "\u001b[0;36m  File \u001b[0;32m\"<ipython-input-30-407b1099c967>\"\u001b[0;36m, line \u001b[0;32m5\u001b[0m\n\u001b[0;31m    r1= random.randint(1,6)\u001b[0m\n\u001b[0m     ^\u001b[0m\n\u001b[0;31mIndentationError\u001b[0m\u001b[0;31m:\u001b[0m expected an indented block\n"
          ]
        }
      ]
    },
    {
      "cell_type": "markdown",
      "source": [
        "야구게임"
      ],
      "metadata": {
        "id": "FrMLPK4o3l6G"
      }
    },
    {
      "cell_type": "code",
      "source": [
        "import random\n",
        "com_list = [1,2,3,4,5,6,7,8,9]\n",
        "com_num, usr_num = [], []\n",
        "\n",
        "def usr_fun() :\n",
        "  usr = input(\"3개의 숫자를 입력(1~9까지) ==> \")\n",
        "  for i in range(0,5,2) :\n",
        "    usr_num.append(int(usr[i]))\n",
        "\n",
        "# 컴퓨터 - 3개의 중복되지 않는 숫자 만들기  \n",
        "for i in range(3) :\n",
        "  r = random.choice(com_list)\n",
        "  com_list.remove(r)\n",
        "  com_num.append(r)\n",
        "\n",
        "print(\"** 야구 게임 ** \")\n",
        "#스트라이크 및 볼 판정 ---------------------------\n",
        "strike, ball = 0, 0\n",
        "while True :\n",
        "  usr_num.clear()\n",
        "  usr_fun()\n",
        "  for i in range(3) :\n",
        "    if com_num[i] == usr_num[i] :\n",
        "      strike = strike + 1\n",
        "    elif usr_num[i] in com_num :\n",
        "      ball = ball + 1\n",
        "  print(strike, \"스트라이크\", \" : \", ball, \"볼\")\n",
        "  if strike == 3 : \n",
        "    print(\"축하합니다.\")\n",
        "    break\n",
        "  strike, ball = 0, 0"
      ],
      "metadata": {
        "id": "e7poR7G8dB-B"
      },
      "execution_count": null,
      "outputs": []
    },
    {
      "cell_type": "markdown",
      "source": [
        "거북이를 이용한 점찍기"
      ],
      "metadata": {
        "id": "CrYkWwMA7Jw2"
      }
    },
    {
      "cell_type": "code",
      "source": [
        "#!pip3 install ColabTurtle\n",
        "import ColabTurtle.Turtle as turtle\n",
        "import random\n",
        "print(turtle.DEFAULT_WINDOW_SIZE)\n",
        "turtle.initializeTurtle()\n",
        "turtle.speed(13)\n",
        "turtle.left(-90)\n",
        "myColor = [\"red\", \"blue\", \"green\", \"yellow\", \"violet\"]\n",
        "for i in range(50, 800, 50) :\n",
        "  for j in range(50, 500, 50) :\n",
        "    turtle.penup()\n",
        "    turtle.goto(i,j)\n",
        "    turtle.pendown()\n",
        "    turtle.color(random.choice(myColor))\n",
        "    turtle.forward(1)"
      ],
      "metadata": {
        "colab": {
          "base_uri": "https://localhost:8080/",
          "height": 722
        },
        "id": "gxxNK8sT4BfP",
        "outputId": "59b03733-6329-4173-9348-286b3a0219b7"
      },
      "execution_count": null,
      "outputs": [
        {
          "output_type": "stream",
          "name": "stdout",
          "text": [
            "Looking in indexes: https://pypi.org/simple, https://us-python.pkg.dev/colab-wheels/public/simple/\n",
            "Collecting ColabTurtle\n",
            "  Downloading ColabTurtle-2.1.0.tar.gz (6.8 kB)\n",
            "Building wheels for collected packages: ColabTurtle\n",
            "  Building wheel for ColabTurtle (setup.py) ... \u001b[?25l\u001b[?25hdone\n",
            "  Created wheel for ColabTurtle: filename=ColabTurtle-2.1.0-py3-none-any.whl size=7657 sha256=bb1b69f7e5084fd91f0b6c283ad58b4c3037ef3315b1420f851fe8b2d3a10782\n",
            "  Stored in directory: /root/.cache/pip/wheels/0d/ab/65/cc4478508751448dfb4ecb20a6533082855c227dfce8c13902\n",
            "Successfully built ColabTurtle\n",
            "Installing collected packages: ColabTurtle\n",
            "Successfully installed ColabTurtle-2.1.0\n",
            "(800, 500)\n"
          ]
        },
        {
          "output_type": "display_data",
          "data": {
            "text/plain": [
              "<IPython.core.display.HTML object>"
            ],
            "text/html": [
              "\n",
              "      <svg width=\"800\" height=\"500\">\n",
              "        <rect width=\"100%\" height=\"100%\" fill=\"black\"/>\n",
              "        <line x1=\"50\" y1=\"50\" x2=\"51.0\" y2=\"50.0\" stroke-linecap=\"round\" style=\"stroke:red;stroke-width:4\"/><line x1=\"50\" y1=\"100\" x2=\"51.0\" y2=\"100.0\" stroke-linecap=\"round\" style=\"stroke:yellow;stroke-width:4\"/><line x1=\"50\" y1=\"150\" x2=\"51.0\" y2=\"150.0\" stroke-linecap=\"round\" style=\"stroke:red;stroke-width:4\"/><line x1=\"50\" y1=\"200\" x2=\"51.0\" y2=\"200.0\" stroke-linecap=\"round\" style=\"stroke:red;stroke-width:4\"/><line x1=\"50\" y1=\"250\" x2=\"51.0\" y2=\"250.0\" stroke-linecap=\"round\" style=\"stroke:red;stroke-width:4\"/><line x1=\"50\" y1=\"300\" x2=\"51.0\" y2=\"300.0\" stroke-linecap=\"round\" style=\"stroke:yellow;stroke-width:4\"/><line x1=\"50\" y1=\"350\" x2=\"51.0\" y2=\"350.0\" stroke-linecap=\"round\" style=\"stroke:violet;stroke-width:4\"/><line x1=\"50\" y1=\"400\" x2=\"51.0\" y2=\"400.0\" stroke-linecap=\"round\" style=\"stroke:red;stroke-width:4\"/><line x1=\"50\" y1=\"450\" x2=\"51.0\" y2=\"450.0\" stroke-linecap=\"round\" style=\"stroke:yellow;stroke-width:4\"/><line x1=\"100\" y1=\"50\" x2=\"101.0\" y2=\"50.0\" stroke-linecap=\"round\" style=\"stroke:violet;stroke-width:4\"/><line x1=\"100\" y1=\"100\" x2=\"101.0\" y2=\"100.0\" stroke-linecap=\"round\" style=\"stroke:violet;stroke-width:4\"/><line x1=\"100\" y1=\"150\" x2=\"101.0\" y2=\"150.0\" stroke-linecap=\"round\" style=\"stroke:red;stroke-width:4\"/><line x1=\"100\" y1=\"200\" x2=\"101.0\" y2=\"200.0\" stroke-linecap=\"round\" style=\"stroke:yellow;stroke-width:4\"/><line x1=\"100\" y1=\"250\" x2=\"101.0\" y2=\"250.0\" stroke-linecap=\"round\" style=\"stroke:red;stroke-width:4\"/><line x1=\"100\" y1=\"300\" x2=\"101.0\" y2=\"300.0\" stroke-linecap=\"round\" style=\"stroke:red;stroke-width:4\"/><line x1=\"100\" y1=\"350\" x2=\"101.0\" y2=\"350.0\" stroke-linecap=\"round\" style=\"stroke:yellow;stroke-width:4\"/><line x1=\"100\" y1=\"400\" x2=\"101.0\" y2=\"400.0\" stroke-linecap=\"round\" style=\"stroke:red;stroke-width:4\"/><line x1=\"100\" y1=\"450\" x2=\"101.0\" y2=\"450.0\" stroke-linecap=\"round\" style=\"stroke:green;stroke-width:4\"/><line x1=\"150\" y1=\"50\" x2=\"151.0\" y2=\"50.0\" stroke-linecap=\"round\" style=\"stroke:red;stroke-width:4\"/><line x1=\"150\" y1=\"100\" x2=\"151.0\" y2=\"100.0\" stroke-linecap=\"round\" style=\"stroke:red;stroke-width:4\"/><line x1=\"150\" y1=\"150\" x2=\"151.0\" y2=\"150.0\" stroke-linecap=\"round\" style=\"stroke:red;stroke-width:4\"/><line x1=\"150\" y1=\"200\" x2=\"151.0\" y2=\"200.0\" stroke-linecap=\"round\" style=\"stroke:green;stroke-width:4\"/><line x1=\"150\" y1=\"250\" x2=\"151.0\" y2=\"250.0\" stroke-linecap=\"round\" style=\"stroke:violet;stroke-width:4\"/><line x1=\"150\" y1=\"300\" x2=\"151.0\" y2=\"300.0\" stroke-linecap=\"round\" style=\"stroke:yellow;stroke-width:4\"/><line x1=\"150\" y1=\"350\" x2=\"151.0\" y2=\"350.0\" stroke-linecap=\"round\" style=\"stroke:green;stroke-width:4\"/><line x1=\"150\" y1=\"400\" x2=\"151.0\" y2=\"400.0\" stroke-linecap=\"round\" style=\"stroke:red;stroke-width:4\"/><line x1=\"150\" y1=\"450\" x2=\"151.0\" y2=\"450.0\" stroke-linecap=\"round\" style=\"stroke:red;stroke-width:4\"/><line x1=\"200\" y1=\"50\" x2=\"201.0\" y2=\"50.0\" stroke-linecap=\"round\" style=\"stroke:yellow;stroke-width:4\"/><line x1=\"200\" y1=\"100\" x2=\"201.0\" y2=\"100.0\" stroke-linecap=\"round\" style=\"stroke:yellow;stroke-width:4\"/><line x1=\"200\" y1=\"150\" x2=\"201.0\" y2=\"150.0\" stroke-linecap=\"round\" style=\"stroke:green;stroke-width:4\"/><line x1=\"200\" y1=\"200\" x2=\"201.0\" y2=\"200.0\" stroke-linecap=\"round\" style=\"stroke:red;stroke-width:4\"/><line x1=\"200\" y1=\"250\" x2=\"201.0\" y2=\"250.0\" stroke-linecap=\"round\" style=\"stroke:red;stroke-width:4\"/><line x1=\"200\" y1=\"300\" x2=\"201.0\" y2=\"300.0\" stroke-linecap=\"round\" style=\"stroke:green;stroke-width:4\"/><line x1=\"200\" y1=\"350\" x2=\"201.0\" y2=\"350.0\" stroke-linecap=\"round\" style=\"stroke:violet;stroke-width:4\"/><line x1=\"200\" y1=\"400\" x2=\"201.0\" y2=\"400.0\" stroke-linecap=\"round\" style=\"stroke:violet;stroke-width:4\"/><line x1=\"200\" y1=\"450\" x2=\"201.0\" y2=\"450.0\" stroke-linecap=\"round\" style=\"stroke:green;stroke-width:4\"/><line x1=\"250\" y1=\"50\" x2=\"251.0\" y2=\"50.0\" stroke-linecap=\"round\" style=\"stroke:blue;stroke-width:4\"/><line x1=\"250\" y1=\"100\" x2=\"251.0\" y2=\"100.0\" stroke-linecap=\"round\" style=\"stroke:green;stroke-width:4\"/><line x1=\"250\" y1=\"150\" x2=\"251.0\" y2=\"150.0\" stroke-linecap=\"round\" style=\"stroke:violet;stroke-width:4\"/><line x1=\"250\" y1=\"200\" x2=\"251.0\" y2=\"200.0\" stroke-linecap=\"round\" style=\"stroke:green;stroke-width:4\"/><line x1=\"250\" y1=\"250\" x2=\"251.0\" y2=\"250.0\" stroke-linecap=\"round\" style=\"stroke:violet;stroke-width:4\"/><line x1=\"250\" y1=\"300\" x2=\"251.0\" y2=\"300.0\" stroke-linecap=\"round\" style=\"stroke:green;stroke-width:4\"/><line x1=\"250\" y1=\"350\" x2=\"251.0\" y2=\"350.0\" stroke-linecap=\"round\" style=\"stroke:violet;stroke-width:4\"/><line x1=\"250\" y1=\"400\" x2=\"251.0\" y2=\"400.0\" stroke-linecap=\"round\" style=\"stroke:violet;stroke-width:4\"/><line x1=\"250\" y1=\"450\" x2=\"251.0\" y2=\"450.0\" stroke-linecap=\"round\" style=\"stroke:violet;stroke-width:4\"/><line x1=\"300\" y1=\"50\" x2=\"301.0\" y2=\"50.0\" stroke-linecap=\"round\" style=\"stroke:blue;stroke-width:4\"/><line x1=\"300\" y1=\"100\" x2=\"301.0\" y2=\"100.0\" stroke-linecap=\"round\" style=\"stroke:blue;stroke-width:4\"/><line x1=\"300\" y1=\"150\" x2=\"301.0\" y2=\"150.0\" stroke-linecap=\"round\" style=\"stroke:blue;stroke-width:4\"/><line x1=\"300\" y1=\"200\" x2=\"301.0\" y2=\"200.0\" stroke-linecap=\"round\" style=\"stroke:blue;stroke-width:4\"/><line x1=\"300\" y1=\"250\" x2=\"301.0\" y2=\"250.0\" stroke-linecap=\"round\" style=\"stroke:blue;stroke-width:4\"/><line x1=\"300\" y1=\"300\" x2=\"301.0\" y2=\"300.0\" stroke-linecap=\"round\" style=\"stroke:green;stroke-width:4\"/><line x1=\"300\" y1=\"350\" x2=\"301.0\" y2=\"350.0\" stroke-linecap=\"round\" style=\"stroke:yellow;stroke-width:4\"/><line x1=\"300\" y1=\"400\" x2=\"301.0\" y2=\"400.0\" stroke-linecap=\"round\" style=\"stroke:red;stroke-width:4\"/><line x1=\"300\" y1=\"450\" x2=\"301.0\" y2=\"450.0\" stroke-linecap=\"round\" style=\"stroke:red;stroke-width:4\"/><line x1=\"350\" y1=\"50\" x2=\"351.0\" y2=\"50.0\" stroke-linecap=\"round\" style=\"stroke:violet;stroke-width:4\"/><line x1=\"350\" y1=\"100\" x2=\"351.0\" y2=\"100.0\" stroke-linecap=\"round\" style=\"stroke:yellow;stroke-width:4\"/><line x1=\"350\" y1=\"150\" x2=\"351.0\" y2=\"150.0\" stroke-linecap=\"round\" style=\"stroke:yellow;stroke-width:4\"/><line x1=\"350\" y1=\"200\" x2=\"351.0\" y2=\"200.0\" stroke-linecap=\"round\" style=\"stroke:violet;stroke-width:4\"/><line x1=\"350\" y1=\"250\" x2=\"351.0\" y2=\"250.0\" stroke-linecap=\"round\" style=\"stroke:red;stroke-width:4\"/><line x1=\"350\" y1=\"300\" x2=\"351.0\" y2=\"300.0\" stroke-linecap=\"round\" style=\"stroke:violet;stroke-width:4\"/><line x1=\"350\" y1=\"350\" x2=\"351.0\" y2=\"350.0\" stroke-linecap=\"round\" style=\"stroke:red;stroke-width:4\"/><line x1=\"350\" y1=\"400\" x2=\"351.0\" y2=\"400.0\" stroke-linecap=\"round\" style=\"stroke:green;stroke-width:4\"/><line x1=\"350\" y1=\"450\" x2=\"351.0\" y2=\"450.0\" stroke-linecap=\"round\" style=\"stroke:green;stroke-width:4\"/><line x1=\"400\" y1=\"50\" x2=\"401.0\" y2=\"50.0\" stroke-linecap=\"round\" style=\"stroke:green;stroke-width:4\"/><line x1=\"400\" y1=\"100\" x2=\"401.0\" y2=\"100.0\" stroke-linecap=\"round\" style=\"stroke:violet;stroke-width:4\"/><line x1=\"400\" y1=\"150\" x2=\"401.0\" y2=\"150.0\" stroke-linecap=\"round\" style=\"stroke:violet;stroke-width:4\"/><line x1=\"400\" y1=\"200\" x2=\"401.0\" y2=\"200.0\" stroke-linecap=\"round\" style=\"stroke:yellow;stroke-width:4\"/><line x1=\"400\" y1=\"250\" x2=\"401.0\" y2=\"250.0\" stroke-linecap=\"round\" style=\"stroke:yellow;stroke-width:4\"/><line x1=\"400\" y1=\"300\" x2=\"401.0\" y2=\"300.0\" stroke-linecap=\"round\" style=\"stroke:blue;stroke-width:4\"/><line x1=\"400\" y1=\"350\" x2=\"401.0\" y2=\"350.0\" stroke-linecap=\"round\" style=\"stroke:green;stroke-width:4\"/><line x1=\"400\" y1=\"400\" x2=\"401.0\" y2=\"400.0\" stroke-linecap=\"round\" style=\"stroke:yellow;stroke-width:4\"/><line x1=\"400\" y1=\"450\" x2=\"401.0\" y2=\"450.0\" stroke-linecap=\"round\" style=\"stroke:red;stroke-width:4\"/><line x1=\"450\" y1=\"50\" x2=\"451.0\" y2=\"50.0\" stroke-linecap=\"round\" style=\"stroke:green;stroke-width:4\"/><line x1=\"450\" y1=\"100\" x2=\"451.0\" y2=\"100.0\" stroke-linecap=\"round\" style=\"stroke:green;stroke-width:4\"/><line x1=\"450\" y1=\"150\" x2=\"451.0\" y2=\"150.0\" stroke-linecap=\"round\" style=\"stroke:violet;stroke-width:4\"/><line x1=\"450\" y1=\"200\" x2=\"451.0\" y2=\"200.0\" stroke-linecap=\"round\" style=\"stroke:green;stroke-width:4\"/><line x1=\"450\" y1=\"250\" x2=\"451.0\" y2=\"250.0\" stroke-linecap=\"round\" style=\"stroke:yellow;stroke-width:4\"/><line x1=\"450\" y1=\"300\" x2=\"451.0\" y2=\"300.0\" stroke-linecap=\"round\" style=\"stroke:violet;stroke-width:4\"/><line x1=\"450\" y1=\"350\" x2=\"451.0\" y2=\"350.0\" stroke-linecap=\"round\" style=\"stroke:green;stroke-width:4\"/><line x1=\"450\" y1=\"400\" x2=\"451.0\" y2=\"400.0\" stroke-linecap=\"round\" style=\"stroke:violet;stroke-width:4\"/><line x1=\"450\" y1=\"450\" x2=\"451.0\" y2=\"450.0\" stroke-linecap=\"round\" style=\"stroke:red;stroke-width:4\"/><line x1=\"500\" y1=\"50\" x2=\"501.0\" y2=\"50.0\" stroke-linecap=\"round\" style=\"stroke:green;stroke-width:4\"/><line x1=\"500\" y1=\"100\" x2=\"501.0\" y2=\"100.0\" stroke-linecap=\"round\" style=\"stroke:red;stroke-width:4\"/><line x1=\"500\" y1=\"150\" x2=\"501.0\" y2=\"150.0\" stroke-linecap=\"round\" style=\"stroke:violet;stroke-width:4\"/><line x1=\"500\" y1=\"200\" x2=\"501.0\" y2=\"200.0\" stroke-linecap=\"round\" style=\"stroke:green;stroke-width:4\"/><line x1=\"500\" y1=\"250\" x2=\"501.0\" y2=\"250.0\" stroke-linecap=\"round\" style=\"stroke:violet;stroke-width:4\"/><line x1=\"500\" y1=\"300\" x2=\"501.0\" y2=\"300.0\" stroke-linecap=\"round\" style=\"stroke:green;stroke-width:4\"/><line x1=\"500\" y1=\"350\" x2=\"501.0\" y2=\"350.0\" stroke-linecap=\"round\" style=\"stroke:green;stroke-width:4\"/><line x1=\"500\" y1=\"400\" x2=\"501.0\" y2=\"400.0\" stroke-linecap=\"round\" style=\"stroke:yellow;stroke-width:4\"/><line x1=\"500\" y1=\"450\" x2=\"501.0\" y2=\"450.0\" stroke-linecap=\"round\" style=\"stroke:yellow;stroke-width:4\"/><line x1=\"550\" y1=\"50\" x2=\"551.0\" y2=\"50.0\" stroke-linecap=\"round\" style=\"stroke:green;stroke-width:4\"/><line x1=\"550\" y1=\"100\" x2=\"551.0\" y2=\"100.0\" stroke-linecap=\"round\" style=\"stroke:red;stroke-width:4\"/><line x1=\"550\" y1=\"150\" x2=\"551.0\" y2=\"150.0\" stroke-linecap=\"round\" style=\"stroke:blue;stroke-width:4\"/><line x1=\"550\" y1=\"200\" x2=\"551.0\" y2=\"200.0\" stroke-linecap=\"round\" style=\"stroke:yellow;stroke-width:4\"/><line x1=\"550\" y1=\"250\" x2=\"551.0\" y2=\"250.0\" stroke-linecap=\"round\" style=\"stroke:green;stroke-width:4\"/><line x1=\"550\" y1=\"300\" x2=\"551.0\" y2=\"300.0\" stroke-linecap=\"round\" style=\"stroke:blue;stroke-width:4\"/><line x1=\"550\" y1=\"350\" x2=\"551.0\" y2=\"350.0\" stroke-linecap=\"round\" style=\"stroke:violet;stroke-width:4\"/><line x1=\"550\" y1=\"400\" x2=\"551.0\" y2=\"400.0\" stroke-linecap=\"round\" style=\"stroke:red;stroke-width:4\"/><line x1=\"550\" y1=\"450\" x2=\"551.0\" y2=\"450.0\" stroke-linecap=\"round\" style=\"stroke:green;stroke-width:4\"/><line x1=\"600\" y1=\"50\" x2=\"601.0\" y2=\"50.0\" stroke-linecap=\"round\" style=\"stroke:green;stroke-width:4\"/><line x1=\"600\" y1=\"100\" x2=\"601.0\" y2=\"100.0\" stroke-linecap=\"round\" style=\"stroke:blue;stroke-width:4\"/><line x1=\"600\" y1=\"150\" x2=\"601.0\" y2=\"150.0\" stroke-linecap=\"round\" style=\"stroke:blue;stroke-width:4\"/><line x1=\"600\" y1=\"200\" x2=\"601.0\" y2=\"200.0\" stroke-linecap=\"round\" style=\"stroke:yellow;stroke-width:4\"/><line x1=\"600\" y1=\"250\" x2=\"601.0\" y2=\"250.0\" stroke-linecap=\"round\" style=\"stroke:blue;stroke-width:4\"/><line x1=\"600\" y1=\"300\" x2=\"601.0\" y2=\"300.0\" stroke-linecap=\"round\" style=\"stroke:green;stroke-width:4\"/><line x1=\"600\" y1=\"350\" x2=\"601.0\" y2=\"350.0\" stroke-linecap=\"round\" style=\"stroke:yellow;stroke-width:4\"/><line x1=\"600\" y1=\"400\" x2=\"601.0\" y2=\"400.0\" stroke-linecap=\"round\" style=\"stroke:violet;stroke-width:4\"/><line x1=\"600\" y1=\"450\" x2=\"601.0\" y2=\"450.0\" stroke-linecap=\"round\" style=\"stroke:green;stroke-width:4\"/><line x1=\"650\" y1=\"50\" x2=\"651.0\" y2=\"50.0\" stroke-linecap=\"round\" style=\"stroke:yellow;stroke-width:4\"/><line x1=\"650\" y1=\"100\" x2=\"651.0\" y2=\"100.0\" stroke-linecap=\"round\" style=\"stroke:green;stroke-width:4\"/><line x1=\"650\" y1=\"150\" x2=\"651.0\" y2=\"150.0\" stroke-linecap=\"round\" style=\"stroke:violet;stroke-width:4\"/><line x1=\"650\" y1=\"200\" x2=\"651.0\" y2=\"200.0\" stroke-linecap=\"round\" style=\"stroke:red;stroke-width:4\"/><line x1=\"650\" y1=\"250\" x2=\"651.0\" y2=\"250.0\" stroke-linecap=\"round\" style=\"stroke:violet;stroke-width:4\"/><line x1=\"650\" y1=\"300\" x2=\"651.0\" y2=\"300.0\" stroke-linecap=\"round\" style=\"stroke:violet;stroke-width:4\"/><line x1=\"650\" y1=\"350\" x2=\"651.0\" y2=\"350.0\" stroke-linecap=\"round\" style=\"stroke:green;stroke-width:4\"/><line x1=\"650\" y1=\"400\" x2=\"651.0\" y2=\"400.0\" stroke-linecap=\"round\" style=\"stroke:yellow;stroke-width:4\"/><line x1=\"650\" y1=\"450\" x2=\"651.0\" y2=\"450.0\" stroke-linecap=\"round\" style=\"stroke:green;stroke-width:4\"/><line x1=\"700\" y1=\"50\" x2=\"701.0\" y2=\"50.0\" stroke-linecap=\"round\" style=\"stroke:red;stroke-width:4\"/><line x1=\"700\" y1=\"100\" x2=\"701.0\" y2=\"100.0\" stroke-linecap=\"round\" style=\"stroke:red;stroke-width:4\"/><line x1=\"700\" y1=\"150\" x2=\"701.0\" y2=\"150.0\" stroke-linecap=\"round\" style=\"stroke:violet;stroke-width:4\"/><line x1=\"700\" y1=\"200\" x2=\"701.0\" y2=\"200.0\" stroke-linecap=\"round\" style=\"stroke:green;stroke-width:4\"/><line x1=\"700\" y1=\"250\" x2=\"701.0\" y2=\"250.0\" stroke-linecap=\"round\" style=\"stroke:yellow;stroke-width:4\"/><line x1=\"700\" y1=\"300\" x2=\"701.0\" y2=\"300.0\" stroke-linecap=\"round\" style=\"stroke:red;stroke-width:4\"/><line x1=\"700\" y1=\"350\" x2=\"701.0\" y2=\"350.0\" stroke-linecap=\"round\" style=\"stroke:red;stroke-width:4\"/><line x1=\"700\" y1=\"400\" x2=\"701.0\" y2=\"400.0\" stroke-linecap=\"round\" style=\"stroke:red;stroke-width:4\"/><line x1=\"700\" y1=\"450\" x2=\"701.0\" y2=\"450.0\" stroke-linecap=\"round\" style=\"stroke:yellow;stroke-width:4\"/><line x1=\"750\" y1=\"50\" x2=\"751.0\" y2=\"50.0\" stroke-linecap=\"round\" style=\"stroke:yellow;stroke-width:4\"/><line x1=\"750\" y1=\"100\" x2=\"751.0\" y2=\"100.0\" stroke-linecap=\"round\" style=\"stroke:red;stroke-width:4\"/><line x1=\"750\" y1=\"150\" x2=\"751.0\" y2=\"150.0\" stroke-linecap=\"round\" style=\"stroke:violet;stroke-width:4\"/><line x1=\"750\" y1=\"200\" x2=\"751.0\" y2=\"200.0\" stroke-linecap=\"round\" style=\"stroke:violet;stroke-width:4\"/><line x1=\"750\" y1=\"250\" x2=\"751.0\" y2=\"250.0\" stroke-linecap=\"round\" style=\"stroke:blue;stroke-width:4\"/><line x1=\"750\" y1=\"300\" x2=\"751.0\" y2=\"300.0\" stroke-linecap=\"round\" style=\"stroke:violet;stroke-width:4\"/><line x1=\"750\" y1=\"350\" x2=\"751.0\" y2=\"350.0\" stroke-linecap=\"round\" style=\"stroke:yellow;stroke-width:4\"/><line x1=\"750\" y1=\"400\" x2=\"751.0\" y2=\"400.0\" stroke-linecap=\"round\" style=\"stroke:green;stroke-width:4\"/><line x1=\"750\" y1=\"450\" x2=\"751.0\" y2=\"450.0\" stroke-linecap=\"round\" style=\"stroke:violet;stroke-width:4\"/>\n",
              "        <g visibility=visible transform=\"rotate(90,751.0,450.0) translate(733.0, 432.0)\">\n",
              "<path style=\" stroke:none;fill-rule:evenodd;fill:violet;fill-opacity:1;\" d=\"M 18.214844 0.632812 C 16.109375 1.800781 15.011719 4.074219 15.074219 7.132812 L 15.085938 7.652344 L 14.785156 7.496094 C 13.476562 6.824219 11.957031 6.671875 10.40625 7.066406 C 8.46875 7.550781 6.515625 9.15625 4.394531 11.992188 C 3.0625 13.777344 2.679688 14.636719 3.042969 15.027344 L 3.15625 15.152344 L 3.519531 15.152344 C 4.238281 15.152344 4.828125 14.886719 8.1875 13.039062 C 9.386719 12.378906 10.371094 11.839844 10.378906 11.839844 C 10.386719 11.839844 10.355469 11.929688 10.304688 12.035156 C 9.832031 13.09375 9.257812 14.820312 8.96875 16.078125 C 7.914062 20.652344 8.617188 24.53125 11.070312 27.660156 C 11.351562 28.015625 11.363281 27.914062 10.972656 28.382812 C 8.925781 30.84375 7.945312 33.28125 8.238281 35.1875 C 8.289062 35.527344 8.28125 35.523438 8.917969 35.523438 C 10.941406 35.523438 13.074219 34.207031 15.136719 31.6875 C 15.359375 31.417969 15.328125 31.425781 15.5625 31.574219 C 16.292969 32.042969 18.023438 32.964844 18.175781 32.964844 C 18.335938 32.964844 19.941406 32.210938 20.828125 31.71875 C 20.996094 31.625 21.136719 31.554688 21.136719 31.558594 C 21.203125 31.664062 21.898438 32.414062 22.222656 32.730469 C 23.835938 34.300781 25.5625 35.132812 27.582031 35.300781 C 27.90625 35.328125 27.9375 35.308594 28.007812 34.984375 C 28.382812 33.242188 27.625 30.925781 25.863281 28.425781 L 25.542969 27.96875 L 25.699219 27.785156 C 28.945312 23.960938 29.132812 18.699219 26.257812 11.96875 L 26.207031 11.84375 L 27.945312 12.703125 C 31.53125 14.476562 32.316406 14.800781 33.03125 14.800781 C 33.976562 14.800781 33.78125 13.9375 32.472656 12.292969 C 28.519531 7.355469 25.394531 5.925781 21.921875 7.472656 L 21.558594 7.636719 L 21.578125 7.542969 C 21.699219 6.992188 21.761719 5.742188 21.699219 5.164062 C 21.496094 3.296875 20.664062 1.964844 19.003906 0.855469 C 18.480469 0.503906 18.457031 0.5 18.214844 0.632812\"/>\n",
              "</g>\n",
              "      </svg>\n",
              "    "
            ]
          },
          "metadata": {}
        }
      ]
    },
    {
      "cell_type": "markdown",
      "source": [],
      "metadata": {
        "id": "zRb2ZuEs9Tb8"
      }
    },
    {
      "cell_type": "code",
      "source": [],
      "metadata": {
        "id": "Hu9ifjcP9TSl"
      },
      "execution_count": null,
      "outputs": []
    }
  ]
}