{
  "nbformat": 4,
  "nbformat_minor": 0,
  "metadata": {
    "colab": {
      "provenance": [],
      "authorship_tag": "ABX9TyMBxbmUffBkfW9B+580GKfy",
      "include_colab_link": true
    },
    "kernelspec": {
      "name": "python3",
      "display_name": "Python 3"
    },
    "language_info": {
      "name": "python"
    }
  },
  "cells": [
    {
      "cell_type": "markdown",
      "metadata": {
        "id": "view-in-github",
        "colab_type": "text"
      },
      "source": [
        "<a href=\"https://colab.research.google.com/github/djansddas/colab/blob/main/ression6.ipynb\" target=\"_parent\"><img src=\"https://colab.research.google.com/assets/colab-badge.svg\" alt=\"Open In Colab\"/></a>"
      ]
    },
    {
      "cell_type": "markdown",
      "source": [
        "소스코드"
      ],
      "metadata": {
        "id": "5FM2EOa3KmyT"
      }
    },
    {
      "cell_type": "code",
      "execution_count": 2,
      "metadata": {
        "colab": {
          "base_uri": "https://localhost:8080/"
        },
        "id": "Ml_hFYTGKfEg",
        "outputId": "345039b1-a501-4220-97a0-701eb650e0ba"
      },
      "outputs": [
        {
          "output_type": "stream",
          "name": "stdout",
          "text": [
            "A,B,C,D,E 학생들을 순서대로 세우는 경우의 수: 1\n",
            "A,B,C,D,E 학생들을 순서대로 세우는 경우의 수: 2\n",
            "A,B,C,D,E 학생들을 순서대로 세우는 경우의 수: 6\n",
            "A,B,C,D,E 학생들을 순서대로 세우는 경우의 수: 24\n",
            "A,B,C,D,E 학생들을 순서대로 세우는 경우의 수: 120\n"
          ]
        }
      ],
      "source": [
        "fact=1\n",
        "friends_num=5\n",
        "\n",
        "for i in range(1,friends_num+1,1):\n",
        "  fact=fact*i\n",
        "  print(\"A,B,C,D,E 학생들을 순서대로 세우는 경우의 수:\", fact)"
      ]
    },
    {
      "cell_type": "markdown",
      "source": [
        "펙토리얼"
      ],
      "metadata": {
        "id": "ndWgguItNgPX"
      }
    },
    {
      "cell_type": "code",
      "source": [
        "fact=1\n",
        "\n",
        "for i in range(1,6,1) : \n",
        "  fact=fact*i\n",
        "  print(fact)"
      ],
      "metadata": {
        "colab": {
          "base_uri": "https://localhost:8080/"
        },
        "id": "iKvHLEf8NgoN",
        "outputId": "b4c33c3f-95ad-4964-9996-d658daf316ce"
      },
      "execution_count": 1,
      "outputs": [
        {
          "output_type": "stream",
          "name": "stdout",
          "text": [
            "1\n",
            "2\n",
            "6\n",
            "24\n",
            "120\n"
          ]
        }
      ]
    },
    {
      "cell_type": "markdown",
      "source": [
        "for문 활용"
      ],
      "metadata": {
        "id": "q5mwvDnxPkUH"
      }
    },
    {
      "cell_type": "code",
      "source": [
        "i,hap=0,0\n",
        "\n",
        "for i in range(1001,2001,2):\n",
        "  hap+=i\n",
        "\n",
        "  print(\"1000에서 2000까지의 홀수의 합:\", hap)\n",
        "  "
      ],
      "metadata": {
        "id": "6sc-ANjDPkc9"
      },
      "execution_count": null,
      "outputs": []
    },
    {
      "cell_type": "markdown",
      "source": [
        "중첩 for 문\n"
      ],
      "metadata": {
        "id": "jBuN6joVP-Nt"
      }
    },
    {
      "cell_type": "code",
      "source": [
        "for i in range(3):\n",
        "  for k in range(2):\n",
        "    print(\"난생처음은 쉽습니다.^^(i값:\",i,\",k값:\",k,\")\")"
      ],
      "metadata": {
        "colab": {
          "base_uri": "https://localhost:8080/"
        },
        "id": "oN25D5u2P9_w",
        "outputId": "9113e09d-2964-4fea-978d-283cb3d62cb5"
      },
      "execution_count": 4,
      "outputs": [
        {
          "output_type": "stream",
          "name": "stdout",
          "text": [
            "난생처음은 쉽습니다.^^(i값: 0 ,k값: 0 )\n",
            "난생처음은 쉽습니다.^^(i값: 0 ,k값: 1 )\n",
            "난생처음은 쉽습니다.^^(i값: 1 ,k값: 0 )\n",
            "난생처음은 쉽습니다.^^(i값: 1 ,k값: 1 )\n",
            "난생처음은 쉽습니다.^^(i값: 2 ,k값: 0 )\n",
            "난생처음은 쉽습니다.^^(i값: 2 ,k값: 1 )\n"
          ]
        }
      ]
    }
  ]
}