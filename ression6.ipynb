{
  "nbformat": 4,
  "nbformat_minor": 0,
  "metadata": {
    "colab": {
      "provenance": [],
      "authorship_tag": "ABX9TyOtV+GL/OKtYJ2zeCMw9EHK",
      "include_colab_link": true
    },
    "kernelspec": {
      "name": "python3",
      "display_name": "Python 3"
    },
    "language_info": {
      "name": "python"
    }
  },
  "cells": [
    {
      "cell_type": "markdown",
      "metadata": {
        "id": "view-in-github",
        "colab_type": "text"
      },
      "source": [
        "<a href=\"https://colab.research.google.com/github/djansddas/colab/blob/main/ression6.ipynb\" target=\"_parent\"><img src=\"https://colab.research.google.com/assets/colab-badge.svg\" alt=\"Open In Colab\"/></a>"
      ]
    },
    {
      "cell_type": "markdown",
      "source": [
        "소스코드"
      ],
      "metadata": {
        "id": "5FM2EOa3KmyT"
      }
    },
    {
      "cell_type": "code",
      "execution_count": 2,
      "metadata": {
        "colab": {
          "base_uri": "https://localhost:8080/"
        },
        "id": "Ml_hFYTGKfEg",
        "outputId": "345039b1-a501-4220-97a0-701eb650e0ba"
      },
      "outputs": [
        {
          "output_type": "stream",
          "name": "stdout",
          "text": [
            "A,B,C,D,E 학생들을 순서대로 세우는 경우의 수: 1\n",
            "A,B,C,D,E 학생들을 순서대로 세우는 경우의 수: 2\n",
            "A,B,C,D,E 학생들을 순서대로 세우는 경우의 수: 6\n",
            "A,B,C,D,E 학생들을 순서대로 세우는 경우의 수: 24\n",
            "A,B,C,D,E 학생들을 순서대로 세우는 경우의 수: 120\n"
          ]
        }
      ],
      "source": [
        "fact=1\n",
        "friends_num=5\n",
        "\n",
        "for i in range(1,friends_num+1,1):\n",
        "  fact=fact*i\n",
        "  print(\"A,B,C,D,E 학생들을 순서대로 세우는 경우의 수:\", fact)"
      ]
    },
    {
      "cell_type": "markdown",
      "source": [
        "펙토리얼"
      ],
      "metadata": {
        "id": "ndWgguItNgPX"
      }
    },
    {
      "cell_type": "code",
      "source": [
        "fact=1\n",
        "\n",
        "for i in range(1,6,1) : \n",
        "  fact=fact*i\n",
        "  print(fact)"
      ],
      "metadata": {
        "colab": {
          "base_uri": "https://localhost:8080/"
        },
        "id": "iKvHLEf8NgoN",
        "outputId": "b4c33c3f-95ad-4964-9996-d658daf316ce"
      },
      "execution_count": 1,
      "outputs": [
        {
          "output_type": "stream",
          "name": "stdout",
          "text": [
            "1\n",
            "2\n",
            "6\n",
            "24\n",
            "120\n"
          ]
        }
      ]
    },
    {
      "cell_type": "markdown",
      "source": [
        "for문 활용"
      ],
      "metadata": {
        "id": "q5mwvDnxPkUH"
      }
    },
    {
      "cell_type": "code",
      "source": [
        "i,hap=0,0\n",
        "\n",
        "for i in range(1001,2001,2):\n",
        "  hap+=i\n",
        "\n",
        "  print(\"1000에서 2000까지의 홀수의 합:\", hap)\n",
        "  "
      ],
      "metadata": {
        "id": "6sc-ANjDPkc9"
      },
      "execution_count": null,
      "outputs": []
    },
    {
      "cell_type": "markdown",
      "source": [
        "중첩 for 문\n"
      ],
      "metadata": {
        "id": "jBuN6joVP-Nt"
      }
    },
    {
      "cell_type": "code",
      "source": [
        "for i in range(3):\n",
        "  for k in range(2):\n",
        "    print(\"난생처음은 쉽습니다.^^(i값:\",i,\",k값:\",k,\")\")"
      ],
      "metadata": {
        "colab": {
          "base_uri": "https://localhost:8080/"
        },
        "id": "oN25D5u2P9_w",
        "outputId": "9113e09d-2964-4fea-978d-283cb3d62cb5"
      },
      "execution_count": 4,
      "outputs": [
        {
          "output_type": "stream",
          "name": "stdout",
          "text": [
            "난생처음은 쉽습니다.^^(i값: 0 ,k값: 0 )\n",
            "난생처음은 쉽습니다.^^(i값: 0 ,k값: 1 )\n",
            "난생처음은 쉽습니다.^^(i값: 1 ,k값: 0 )\n",
            "난생처음은 쉽습니다.^^(i값: 1 ,k값: 1 )\n",
            "난생처음은 쉽습니다.^^(i값: 2 ,k값: 0 )\n",
            "난생처음은 쉽습니다.^^(i값: 2 ,k값: 1 )\n"
          ]
        }
      ]
    },
    {
      "cell_type": "markdown",
      "source": [],
      "metadata": {
        "id": "_ZWaskGYUJXs"
      }
    },
    {
      "cell_type": "code",
      "source": [
        "for i in range(2,10):\n",
        "  for k in range(1,10):\n",
        "    print(i,\"x\",k,\"=\",i*k)\n",
        "  print(\"\")"
      ],
      "metadata": {
        "colab": {
          "base_uri": "https://localhost:8080/"
        },
        "id": "JqcSNpriUJeP",
        "outputId": "ce5908c9-a5d6-489b-a93e-950eec69ff91"
      },
      "execution_count": 7,
      "outputs": [
        {
          "output_type": "stream",
          "name": "stdout",
          "text": [
            "2 x 1 = 2\n",
            "2 x 2 = 4\n",
            "2 x 3 = 6\n",
            "2 x 4 = 8\n",
            "2 x 5 = 10\n",
            "2 x 6 = 12\n",
            "2 x 7 = 14\n",
            "2 x 8 = 16\n",
            "2 x 9 = 18\n",
            "\n",
            "3 x 1 = 3\n",
            "3 x 2 = 6\n",
            "3 x 3 = 9\n",
            "3 x 4 = 12\n",
            "3 x 5 = 15\n",
            "3 x 6 = 18\n",
            "3 x 7 = 21\n",
            "3 x 8 = 24\n",
            "3 x 9 = 27\n",
            "\n",
            "4 x 1 = 4\n",
            "4 x 2 = 8\n",
            "4 x 3 = 12\n",
            "4 x 4 = 16\n",
            "4 x 5 = 20\n",
            "4 x 6 = 24\n",
            "4 x 7 = 28\n",
            "4 x 8 = 32\n",
            "4 x 9 = 36\n",
            "\n",
            "5 x 1 = 5\n",
            "5 x 2 = 10\n",
            "5 x 3 = 15\n",
            "5 x 4 = 20\n",
            "5 x 5 = 25\n",
            "5 x 6 = 30\n",
            "5 x 7 = 35\n",
            "5 x 8 = 40\n",
            "5 x 9 = 45\n",
            "\n",
            "6 x 1 = 6\n",
            "6 x 2 = 12\n",
            "6 x 3 = 18\n",
            "6 x 4 = 24\n",
            "6 x 5 = 30\n",
            "6 x 6 = 36\n",
            "6 x 7 = 42\n",
            "6 x 8 = 48\n",
            "6 x 9 = 54\n",
            "\n",
            "7 x 1 = 7\n",
            "7 x 2 = 14\n",
            "7 x 3 = 21\n",
            "7 x 4 = 28\n",
            "7 x 5 = 35\n",
            "7 x 6 = 42\n",
            "7 x 7 = 49\n",
            "7 x 8 = 56\n",
            "7 x 9 = 63\n",
            "\n",
            "8 x 1 = 8\n",
            "8 x 2 = 16\n",
            "8 x 3 = 24\n",
            "8 x 4 = 32\n",
            "8 x 5 = 40\n",
            "8 x 6 = 48\n",
            "8 x 7 = 56\n",
            "8 x 8 = 64\n",
            "8 x 9 = 72\n",
            "\n",
            "9 x 1 = 9\n",
            "9 x 2 = 18\n",
            "9 x 3 = 27\n",
            "9 x 4 = 36\n",
            "9 x 5 = 45\n",
            "9 x 6 = 54\n",
            "9 x 7 = 63\n",
            "9 x 8 = 72\n",
            "9 x 9 = 81\n",
            "\n"
          ]
        }
      ]
    },
    {
      "cell_type": "markdown",
      "source": [],
      "metadata": {
        "id": "LIW0stIEWadY"
      }
    },
    {
      "cell_type": "code",
      "source": [
        "for i in range(0,3,1):\n",
        "  print(i,\": 난생처음 파이썬은 재미있습니다.^^\")\n",
        "\n",
        "  "
      ],
      "metadata": {
        "id": "vDRrbC7FWaVm"
      },
      "execution_count": null,
      "outputs": []
    },
    {
      "cell_type": "markdown",
      "source": [
        "while문의 무한 반복"
      ],
      "metadata": {
        "id": "aPeOw1tcXU9w"
      }
    },
    {
      "cell_type": "code",
      "source": [
        "hap=0\n",
        "num1,num2=0,0\n",
        "while True:\n",
        "  num1=int(input(\"숫자1==>\"))\n",
        "  num2=int(input(\"숫자2==>\"))\n",
        "\n",
        "  hap=num1+num2\n",
        "  print(num1,\"+\",num2,\"=, hap\")\n",
        "\n",
        "  break"
      ],
      "metadata": {
        "colab": {
          "base_uri": "https://localhost:8080/"
        },
        "id": "6w9EhLkUXRKT",
        "outputId": "1570637a-9338-4f87-a640-e63f7f6ab856"
      },
      "execution_count": 10,
      "outputs": [
        {
          "output_type": "stream",
          "name": "stdout",
          "text": [
            "숫자1==>1\n",
            "숫자2==>1\n",
            "1 + 1 =, hap\n"
          ]
        }
      ]
    },
    {
      "cell_type": "markdown",
      "source": [],
      "metadata": {
        "id": "M4a83Rd7Ywkv"
      }
    },
    {
      "cell_type": "code",
      "source": [
        "while True:\n",
        "  num1=float(input(\"숫자1==>\"))\n",
        "  if num1"
      ],
      "metadata": {
        "id": "B9UkOt3oXfv4"
      },
      "execution_count": null,
      "outputs": []
    },
    {
      "cell_type": "markdown",
      "source": [],
      "metadata": {
        "id": "RZTlQh8QY7YB"
      }
    },
    {
      "cell_type": "code",
      "source": [
        "import random\n",
        "\n",
        "count=0\n",
        "while True:\n",
        "r1= random.randint(1,6)\n",
        "r2= random.randint(1,6)\n",
        "r3= random.randint(1,6)\n",
        "count=count+1\n",
        "if r1=r2==r3:\n",
        "  print(\"3개의 주사위는 모두\",r1,\"입니다.\")\n",
        "  print(\"같은 숫자가 나오기까지 \",count,\"번 던졌습니다.\")"
      ],
      "metadata": {
        "colab": {
          "base_uri": "https://localhost:8080/",
          "height": 137
        },
        "id": "DV-9FNnSY7gP",
        "outputId": "9a89a62f-cdde-4938-82a8-5a8274e039be"
      },
      "execution_count": 30,
      "outputs": [
        {
          "output_type": "error",
          "ename": "IndentationError",
          "evalue": "ignored",
          "traceback": [
            "\u001b[0;36m  File \u001b[0;32m\"<ipython-input-30-407b1099c967>\"\u001b[0;36m, line \u001b[0;32m5\u001b[0m\n\u001b[0;31m    r1= random.randint(1,6)\u001b[0m\n\u001b[0m     ^\u001b[0m\n\u001b[0;31mIndentationError\u001b[0m\u001b[0;31m:\u001b[0m expected an indented block\n"
          ]
        }
      ]
    },
    {
      "cell_type": "markdown",
      "source": [],
      "metadata": {
        "id": "wjGDxv8ndCLf"
      }
    },
    {
      "cell_type": "code",
      "source": [],
      "metadata": {
        "id": "e7poR7G8dB-B"
      },
      "execution_count": null,
      "outputs": []
    }
  ]
}