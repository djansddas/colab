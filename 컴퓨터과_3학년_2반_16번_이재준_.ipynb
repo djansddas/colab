{
  "nbformat": 4,
  "nbformat_minor": 0,
  "metadata": {
    "colab": {
      "name": "컴퓨터과 3학년 2반 16번 이재준 .ipynb",
      "provenance": [],
      "authorship_tag": "ABX9TyNrtNzrjYKC+tjIuqOPkNb4",
      "include_colab_link": true
    },
    "kernelspec": {
      "name": "python3",
      "display_name": "Python 3"
    },
    "language_info": {
      "name": "python"
    }
  },
  "cells": [
    {
      "cell_type": "markdown",
      "metadata": {
        "id": "view-in-github",
        "colab_type": "text"
      },
      "source": [
        "<a href=\"https://colab.research.google.com/github/djansddas/colab/blob/main/%EC%BB%B4%ED%93%A8%ED%84%B0%EA%B3%BC_3%ED%95%99%EB%85%84_2%EB%B0%98_16%EB%B2%88_%EC%9D%B4%EC%9E%AC%EC%A4%80_.ipynb\" target=\"_parent\"><img src=\"https://colab.research.google.com/assets/colab-badge.svg\" alt=\"Open In Colab\"/></a>"
      ]
    },
    {
      "cell_type": "markdown",
      "source": [
        "컴퓨터과 3학년 2반 16번 \n",
        "이재준"
      ],
      "metadata": {
        "id": "rTdbfXybEaov"
      }
    },
    {
      "cell_type": "code",
      "source": [
        "num1=int(input(\"숫자1==>\"))\n",
        "num2=int(input(\"숫자2==>\"))\n",
        "\n",
        "result1= num1 + num2 \n",
        "result2= num1 - num2\n",
        "result3= num1 * num2\n",
        "result4= num1 / num2\n",
        "result5= num1 // num2\n",
        "result6= num1 % num2 \n",
        "result7= num1 ** num2\n",
        "\n",
        "print(num1, \"+\", num2,\"=\", result1);\n",
        "print(num1, \"-\", num2,\"=\", result2);\n",
        "print(num1, \"*\", num2,\"=\", result3);\n",
        "print(num1, \"/\", num2, \"=\", result4);\n",
        "print(num1, \"//\", num2, \"=\", result5);\n",
        "print(num1, \"%\", num2, \"=\", result6);\n",
        "print(num1, \"**\", num2, \"=\", result7);"
      ],
      "metadata": {
        "colab": {
          "base_uri": "https://localhost:8080/"
        },
        "id": "CK_bqWL4GpNm",
        "outputId": "da14617f-30d3-4949-884d-1ff5f0d22c82"
      },
      "execution_count": 3,
      "outputs": [
        {
          "output_type": "stream",
          "name": "stdout",
          "text": [
            "숫자1==>100\n",
            "숫자2==>10\n",
            "100 + 10 = 110\n",
            "100 - 10 = 90\n",
            "100 * 10 = 1000\n",
            "100 / 10 = 10.0\n",
            "100 // 10 = 10\n",
            "100 % 10 = 0\n",
            "100 ** 10 = 100000000000000000000\n"
          ]
        }
      ]
    }
  ]
}