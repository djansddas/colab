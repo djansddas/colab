{
  "nbformat": 4,
  "nbformat_minor": 0,
  "metadata": {
    "colab": {
      "name": "Lession3.ipynb",
      "provenance": [],
      "authorship_tag": "ABX9TyMArm32ddRX53+LwHdiS6kq",
      "include_colab_link": true
    },
    "kernelspec": {
      "name": "python3",
      "display_name": "Python 3"
    },
    "language_info": {
      "name": "python"
    }
  },
  "cells": [
    {
      "cell_type": "markdown",
      "metadata": {
        "id": "view-in-github",
        "colab_type": "text"
      },
      "source": [
        "<a href=\"https://colab.research.google.com/github/djansddas/colab/blob/main/Lession3.ipynb\" target=\"_parent\"><img src=\"https://colab.research.google.com/assets/colab-badge.svg\" alt=\"Open In Colab\"/></a>"
      ]
    },
    {
      "cell_type": "markdown",
      "source": [
        "3장 연산자 \n",
        "형성평가-파운드를 킬로그램으로 변경"
      ],
      "metadata": {
        "id": "__x-wtQCxHw1"
      }
    },
    {
      "cell_type": "code",
      "execution_count": null,
      "metadata": {
        "colab": {
          "base_uri": "https://localhost:8080/"
        },
        "id": "wCVgPOKrwvwV",
        "outputId": "8d5e5e34-e02c-4236-ee82-002b1b79c899"
      },
      "outputs": [
        {
          "output_type": "stream",
          "name": "stdout",
          "text": [
            "파운드를 입력하세요:15\n",
            "15.0 파운드는 6.804 킬로그램입니다.\n",
            "킬로그램을 입력하세요.:1\n",
            "1.0 킬로그램은 2.205 파운드입니다.\n"
          ]
        }
      ],
      "source": [
        "pound= float(input(\"파운드를 입력하세요:\"))\n",
        "kg= pound * 0.453592\n",
        "print(pound,\"파운드는\",round(kg,3),\"킬로그램입니다.\")\n",
        "kg = float(input(\"킬로그램을 입력하세요.:\") )\n",
        "pound =kg * 2.204623\n",
        "print(kg,\"킬로그램은\", round(pound,3), \"파운드입니다.\")\n"
      ]
    },
    {
      "cell_type": "markdown",
      "source": [
        "편의점 하루,매출 계산하기"
      ],
      "metadata": {
        "id": "WOO0bgBl4OlY"
      }
    },
    {
      "cell_type": "code",
      "source": [
        "#구입\n",
        "total= 0\n",
        "total=total-(900*10) \n",
        "total=total-(3500*5)\n",
        "#판매\n",
        "total=total+(1000*2) # 바나나 우유 2개\n",
        "total=total+(4000*4) # 도시락 4개\n",
        "total=total+(1500*1) # 콜라 1개\n",
        "total=total+(2000*4) # 새우깡  4개\n",
        "total=total+(1800*5) # 캔 커피 5개\n",
        "\n",
        "print(\"오늘 총 매출액은\",total,\"입니다.\")\n"
      ],
      "metadata": {
        "colab": {
          "base_uri": "https://localhost:8080/"
        },
        "id": "QBAChcu-3NMY",
        "outputId": "01855b36-0baf-4d2f-e32f-146db340915a"
      },
      "execution_count": null,
      "outputs": [
        {
          "output_type": "stream",
          "name": "stdout",
          "text": [
            "오늘 총 매출액은 10000 입니다.\n"
          ]
        }
      ]
    },
    {
      "cell_type": "markdown",
      "source": [
        "비교 연산자 활용"
      ],
      "metadata": {
        "id": "vGpxgBBf-upz"
      }
    },
    {
      "cell_type": "code",
      "source": [
        "score =int(input(\"필기 시험점수를 입력하세요.:\"))\n",
        "print(score >=70)\n"
      ],
      "metadata": {
        "colab": {
          "base_uri": "https://localhost:8080/"
        },
        "id": "FIQKj7PY-2dI",
        "outputId": "4f15b5cc-5e87-4865-86e9-e2ecd94f0f36"
      },
      "execution_count": 25,
      "outputs": [
        {
          "output_type": "stream",
          "name": "stdout",
          "text": [
            "필기 시험점수를 입력하세요.:70\n",
            "True\n"
          ]
        }
      ]
    },
    {
      "cell_type": "markdown",
      "source": [
        "논리연산자 둘다 참이거나 거짓이면 and, 둘중 하나 참이면 or 둘다아니면 not"
      ],
      "metadata": {
        "id": "0_LegmU9_EVl"
      }
    },
    {
      "cell_type": "code",
      "source": [
        "#형성평가: 기말 평균 학점 구하기\n",
        "python_jumsu=3*3.5\n",
        "mobile_jumsu=2*4.0\n",
        "excel_jumsu=1*4.5\n",
        "total=python_jumsu+mobile_jumsu+excel_jumsu\n",
        "avg=total/6\n",
        "print(\"당신의 기말고사 평균:\", round(avg,2))"
      ],
      "metadata": {
        "colab": {
          "base_uri": "https://localhost:8080/"
        },
        "id": "-CbL52ry_QC9",
        "outputId": "32731cba-bf51-435b-8d02-6f9e27b55f16"
      },
      "execution_count": 32,
      "outputs": [
        {
          "output_type": "stream",
          "name": "stdout",
          "text": [
            "당신의 기말고사 평균: 3.83\n"
          ]
        }
      ]
    }
  ]
}