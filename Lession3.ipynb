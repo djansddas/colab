{
  "nbformat": 4,
  "nbformat_minor": 0,
  "metadata": {
    "colab": {
      "name": "Lession3.ipynb",
      "provenance": [],
      "authorship_tag": "ABX9TyPUWjh4OkHUHEabNSRDH0ov",
      "include_colab_link": true
    },
    "kernelspec": {
      "name": "python3",
      "display_name": "Python 3"
    },
    "language_info": {
      "name": "python"
    }
  },
  "cells": [
    {
      "cell_type": "markdown",
      "metadata": {
        "id": "view-in-github",
        "colab_type": "text"
      },
      "source": [
        "<a href=\"https://colab.research.google.com/github/djansddas/colab/blob/main/Lession3.ipynb\" target=\"_parent\"><img src=\"https://colab.research.google.com/assets/colab-badge.svg\" alt=\"Open In Colab\"/></a>"
      ]
    },
    {
      "cell_type": "markdown",
      "source": [
        "3장 연산자 \n",
        "형성평가-파운드를 킬로그램으로 변경"
      ],
      "metadata": {
        "id": "__x-wtQCxHw1"
      }
    },
    {
      "cell_type": "markdown",
      "source": [
        "input = "
      ],
      "metadata": {
        "id": "LkHF2JdEzkDV"
      }
    },
    {
      "cell_type": "code",
      "execution_count": 12,
      "metadata": {
        "colab": {
          "base_uri": "https://localhost:8080/",
          "height": 137
        },
        "id": "wCVgPOKrwvwV",
        "outputId": "f3e77885-f00d-4d69-8032-91b00c342a0f"
      },
      "outputs": [
        {
          "output_type": "error",
          "ename": "SyntaxError",
          "evalue": "ignored",
          "traceback": [
            "\u001b[0;36m  File \u001b[0;32m\"<ipython-input-12-8e1ab6498c97>\"\u001b[0;36m, line \u001b[0;32m6\u001b[0m\n\u001b[0;31m    print(kg,\"킬로그램은\", round(),\u001b[0m\n\u001b[0m                              ^\u001b[0m\n\u001b[0;31mSyntaxError\u001b[0m\u001b[0;31m:\u001b[0m unexpected EOF while parsing\n"
          ]
        }
      ],
      "source": [
        "pound= float(input(\"파운드를 입력하세요:\"))\n",
        "kg= pound * 0.453592\n",
        "print(pound,\"파운드는\",round(kg,3),\"킬로그램입니다.\")\n",
        "kg = float(input(\"킬로그램을 입력하세요.:\") )\n",
        "pound =kg * 2.204623\n",
        "print(kg,\"킬로그램은\", round(),\n"
      ]
    }
  ]
}