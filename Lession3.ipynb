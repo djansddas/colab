{
  "nbformat": 4,
  "nbformat_minor": 0,
  "metadata": {
    "colab": {
      "name": "Lession3.ipynb",
      "provenance": [],
      "authorship_tag": "ABX9TyPRzIU80GtrJhFO/Ei4glIC",
      "include_colab_link": true
    },
    "kernelspec": {
      "name": "python3",
      "display_name": "Python 3"
    },
    "language_info": {
      "name": "python"
    }
  },
  "cells": [
    {
      "cell_type": "markdown",
      "metadata": {
        "id": "view-in-github",
        "colab_type": "text"
      },
      "source": [
        "<a href=\"https://colab.research.google.com/github/djansddas/colab/blob/main/Lession3.ipynb\" target=\"_parent\"><img src=\"https://colab.research.google.com/assets/colab-badge.svg\" alt=\"Open In Colab\"/></a>"
      ]
    },
    {
      "cell_type": "markdown",
      "source": [
        "3장 연산자 \n",
        "형성평가-파운드를 킬로그램으로 변경"
      ],
      "metadata": {
        "id": "__x-wtQCxHw1"
      }
    },
    {
      "cell_type": "markdown",
      "source": [
        "input = "
      ],
      "metadata": {
        "id": "LkHF2JdEzkDV"
      }
    },
    {
      "cell_type": "code",
      "execution_count": 14,
      "metadata": {
        "colab": {
          "base_uri": "https://localhost:8080/"
        },
        "id": "wCVgPOKrwvwV",
        "outputId": "8d5e5e34-e02c-4236-ee82-002b1b79c899"
      },
      "outputs": [
        {
          "output_type": "stream",
          "name": "stdout",
          "text": [
            "파운드를 입력하세요:15\n",
            "15.0 파운드는 6.804 킬로그램입니다.\n",
            "킬로그램을 입력하세요.:1\n",
            "1.0 킬로그램은 2.205 파운드입니다.\n"
          ]
        }
      ],
      "source": [
        "pound= float(input(\"파운드를 입력하세요:\"))\n",
        "kg= pound * 0.453592\n",
        "print(pound,\"파운드는\",round(kg,3),\"킬로그램입니다.\")\n",
        "kg = float(input(\"킬로그램을 입력하세요.:\") )\n",
        "pound =kg * 2.204623\n",
        "print(kg,\"킬로그램은\", round(pound,3), \"파운드입니다.\")\n"
      ]
    },
    {
      "cell_type": "markdown",
      "source": [
        "편의점 하루,매출 계산하기"
      ],
      "metadata": {
        "id": "WOO0bgBl4OlY"
      }
    },
    {
      "cell_type": "code",
      "source": [
        "totab= 0\n",
        "#구입\n",
        "total= total -(900 *10)\n",
        "#total-= (900*10)\n",
        "total= total-( 3500*5)\n",
        "#판매\n",
        "total=total+(1000*2) # 바나나 우유 2개\n",
        "total=total+(4000*4) # 도시락 4개\n",
        "total=total+(1500*1) # 콜라 1개\n",
        "total=total+(2000*4) # 새우깡  4개\n",
        "total=total+(1800*5) # 캔 커피 5개\n",
        "\n",
        "print(\"오늘 총 매출액은\",\"total\",\"입니다.\")\n"
      ],
      "metadata": {
        "colab": {
          "base_uri": "https://localhost:8080/",
          "height": 248
        },
        "id": "QBAChcu-3NMY",
        "outputId": "e50cb933-a864-4f35-862e-8eaae7bf148f"
      },
      "execution_count": 19,
      "outputs": [
        {
          "output_type": "error",
          "ename": "NameError",
          "evalue": "ignored",
          "traceback": [
            "\u001b[0;31m---------------------------------------------------------------------------\u001b[0m",
            "\u001b[0;31mNameError\u001b[0m                                 Traceback (most recent call last)",
            "\u001b[0;32m<ipython-input-19-c3b452ffedd5>\u001b[0m in \u001b[0;36m<module>\u001b[0;34m\u001b[0m\n\u001b[1;32m      1\u001b[0m \u001b[0mtotab\u001b[0m\u001b[0;34m=\u001b[0m \u001b[0;36m0\u001b[0m\u001b[0;34m\u001b[0m\u001b[0;34m\u001b[0m\u001b[0m\n\u001b[1;32m      2\u001b[0m \u001b[0;31m#구입\u001b[0m\u001b[0;34m\u001b[0m\u001b[0;34m\u001b[0m\u001b[0;34m\u001b[0m\u001b[0m\n\u001b[0;32m----> 3\u001b[0;31m \u001b[0mtotal\u001b[0m\u001b[0;34m=\u001b[0m \u001b[0mtotal\u001b[0m \u001b[0;34m-\u001b[0m\u001b[0;34m(\u001b[0m\u001b[0;36m900\u001b[0m \u001b[0;34m*\u001b[0m\u001b[0;36m10\u001b[0m\u001b[0;34m)\u001b[0m\u001b[0;34m\u001b[0m\u001b[0;34m\u001b[0m\u001b[0m\n\u001b[0m\u001b[1;32m      4\u001b[0m \u001b[0;31m#total-= (900*10)\u001b[0m\u001b[0;34m\u001b[0m\u001b[0;34m\u001b[0m\u001b[0;34m\u001b[0m\u001b[0m\n\u001b[1;32m      5\u001b[0m \u001b[0mtotal\u001b[0m\u001b[0;34m=\u001b[0m \u001b[0mtotal\u001b[0m \u001b[0;34m-\u001b[0m\u001b[0;34m(\u001b[0m \u001b[0;36m3500\u001b[0m\u001b[0;34m*\u001b[0m\u001b[0;36m5\u001b[0m\u001b[0;34m)\u001b[0m \u001b[0;31m#도시락 5개\u001b[0m\u001b[0;34m\u001b[0m\u001b[0;34m\u001b[0m\u001b[0m\n",
            "\u001b[0;31mNameError\u001b[0m: name 'total' is not defined"
          ]
        }
      ]
    }
  ]
}