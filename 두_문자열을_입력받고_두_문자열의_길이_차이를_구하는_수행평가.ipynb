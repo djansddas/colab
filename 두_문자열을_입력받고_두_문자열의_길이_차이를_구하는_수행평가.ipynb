{
  "nbformat": 4,
  "nbformat_minor": 0,
  "metadata": {
    "colab": {
      "provenance": [],
      "authorship_tag": "ABX9TyN6AM9UR8rEYQ0xhmwI92DP",
      "include_colab_link": true
    },
    "kernelspec": {
      "name": "python3",
      "display_name": "Python 3"
    },
    "language_info": {
      "name": "python"
    }
  },
  "cells": [
    {
      "cell_type": "markdown",
      "metadata": {
        "id": "view-in-github",
        "colab_type": "text"
      },
      "source": [
        "<a href=\"https://colab.research.google.com/github/djansddas/colab/blob/main/%EB%91%90_%EB%AC%B8%EC%9E%90%EC%97%B4%EC%9D%84_%EC%9E%85%EB%A0%A5%EB%B0%9B%EA%B3%A0_%EB%91%90_%EB%AC%B8%EC%9E%90%EC%97%B4%EC%9D%98_%EA%B8%B8%EC%9D%B4_%EC%B0%A8%EC%9D%B4%EB%A5%BC_%EA%B5%AC%ED%95%98%EB%8A%94_%EC%88%98%ED%96%89%ED%8F%89%EA%B0%80.ipynb\" target=\"_parent\"><img src=\"https://colab.research.google.com/assets/colab-badge.svg\" alt=\"Open In Colab\"/></a>"
      ]
    },
    {
      "cell_type": "code",
      "execution_count": 1,
      "metadata": {
        "colab": {
          "base_uri": "https://localhost:8080/"
        },
        "id": "iUtuRPlpxjnp",
        "outputId": "ba7fa08a-05a3-45cd-ce49-182a4f3f1850"
      },
      "outputs": [
        {
          "output_type": "stream",
          "name": "stdout",
          "text": [
            "첫 번째 문자열==>난생처음 파이썬\n",
            "두 번째 문자열==>First Python\n",
            "두 문자열의 길이 차이는 -4 입니다.\n"
          ]
        }
      ],
      "source": [
        "var1=input(\"첫 번째 문자열==>\")\n",
        "var2=input(\"두 번째 문자열==>\")\n",
        "\n",
        "len1= len(var1)\n",
        "len2= len(var2)\n",
        "\n",
        "diff= len1-len2\n",
        "\n",
        "print(\"두 문자열의 길이 차이는\",diff,\"입니다.\")"
      ]
    }
  ]
}